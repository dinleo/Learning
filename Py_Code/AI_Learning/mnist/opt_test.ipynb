{
 "cells": [
  {
   "cell_type": "code",
   "execution_count": 2,
   "outputs": [],
   "source": [
    "from common.optimizer import *\n",
    "import numpy as np"
   ],
   "metadata": {
    "collapsed": false,
    "ExecuteTime": {
     "end_time": "2023-07-16T06:51:46.959569700Z",
     "start_time": "2023-07-16T06:51:46.827821900Z"
    }
   }
  },
  {
   "cell_type": "code",
   "execution_count": 3,
   "outputs": [
    {
     "name": "stdout",
     "output_type": "stream",
     "text": [
      "{'x': 0.0, 'y': 1.0}\n"
     ]
    }
   ],
   "source": [
    "params = {'x':1, 'y':2}\n",
    "grad={'x':3, 'y':3}\n",
    "\n",
    "n = SGD(1/3)\n",
    "\n",
    "n.update(params,grad)\n",
    "print(params)"
   ],
   "metadata": {
    "collapsed": false,
    "ExecuteTime": {
     "end_time": "2023-07-16T06:51:46.972400200Z",
     "start_time": "2023-07-16T06:51:46.958566700Z"
    }
   }
  },
  {
   "cell_type": "code",
   "execution_count": 4,
   "outputs": [
    {
     "name": "stdout",
     "output_type": "stream",
     "text": [
      "{'x': -0.0813, 'y': 0.9187000000000001}\n"
     ]
    }
   ],
   "source": [
    "n2 = Nesterov()\n",
    "\n",
    "n2.update(params,grad)\n",
    "print(params)\n",
    "\n"
   ],
   "metadata": {
    "collapsed": false,
    "ExecuteTime": {
     "end_time": "2023-07-16T06:51:47.045834800Z",
     "start_time": "2023-07-16T06:51:46.973405900Z"
    }
   }
  },
  {
   "cell_type": "code",
   "execution_count": 5,
   "outputs": [
    {
     "name": "stdout",
     "output_type": "stream",
     "text": [
      "{'x': -0.09129999966666667, 'y': 0.9087000003333334}\n"
     ]
    }
   ],
   "source": [
    "n3 = AdaGrad()\n",
    "\n",
    "n3.update(params, grad)\n",
    "print(params)"
   ],
   "metadata": {
    "collapsed": false,
    "ExecuteTime": {
     "end_time": "2023-07-16T06:51:47.061345400Z",
     "start_time": "2023-07-16T06:51:46.988848100Z"
    }
   }
  },
  {
   "cell_type": "code",
   "execution_count": 9,
   "outputs": [
    {
     "name": "stdout",
     "output_type": "stream",
     "text": [
      "{'x': -0.09529999545030092, 'y': 0.9047000045496993}\n"
     ]
    }
   ],
   "source": [
    "n4 = Adam()\n",
    "\n",
    "n4.update(params,grad)\n",
    "print(params)"
   ],
   "metadata": {
    "collapsed": false,
    "ExecuteTime": {
     "end_time": "2023-07-16T06:51:53.855384Z",
     "start_time": "2023-07-16T06:51:53.843861800Z"
    }
   }
  },
  {
   "cell_type": "code",
   "execution_count": 12,
   "outputs": [
    {
     "name": "stdout",
     "output_type": "stream",
     "text": [
      "[[1 2 3]\n",
      " [1 2 3]\n",
      " [1 2 3]]\n",
      "[[4 4 4]\n",
      " [5 5 5]\n",
      " [6 6 6]]\n"
     ]
    }
   ],
   "source": [
    "\n",
    "x = np.array([1,2,3])\n",
    "y = np.array([4,5,6])\n",
    "X, Y = np.meshgrid(x, y)\n",
    "print(X)\n",
    "print(Y)"
   ],
   "metadata": {
    "collapsed": false,
    "ExecuteTime": {
     "end_time": "2023-07-16T07:24:32.174409400Z",
     "start_time": "2023-07-16T07:24:32.160038400Z"
    }
   }
  },
  {
   "cell_type": "code",
   "execution_count": null,
   "outputs": [],
   "source": [],
   "metadata": {
    "collapsed": false
   }
  }
 ],
 "metadata": {
  "kernelspec": {
   "display_name": "Python 3",
   "language": "python",
   "name": "python3"
  },
  "language_info": {
   "codemirror_mode": {
    "name": "ipython",
    "version": 2
   },
   "file_extension": ".py",
   "mimetype": "text/x-python",
   "name": "python",
   "nbconvert_exporter": "python",
   "pygments_lexer": "ipython2",
   "version": "2.7.6"
  }
 },
 "nbformat": 4,
 "nbformat_minor": 0
}

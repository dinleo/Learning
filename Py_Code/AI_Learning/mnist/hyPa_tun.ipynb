{
 "cells": [
  {
   "cell_type": "code",
   "execution_count": 12,
   "metadata": {
    "collapsed": true,
    "ExecuteTime": {
     "end_time": "2023-07-21T15:58:20.424115500Z",
     "start_time": "2023-07-21T15:58:20.415119500Z"
    }
   },
   "outputs": [],
   "source": [
    "import os\n",
    "import sys\n",
    "\n",
    "import matplotlib.pyplot as plt\n",
    "from dataset.mnist import load_mnist\n",
    "from common.util import smooth_curve\n",
    "from common.multi_layer_net_extend import MultiLayerNetExtend\n",
    "from common.multi_layer_net import MultiLayerNet\n",
    "from common.optimizer import *\n",
    "\n"
   ]
  },
  {
   "cell_type": "code",
   "execution_count": 44,
   "outputs": [],
   "source": [
    "(x_train, t_train), (x_test, t_test) = load_mnist(normalize=True)\n",
    "\n",
    "train_size = x_train.shape[0]\n",
    "batch_size = 64\n",
    "max_iterations = 500\n",
    "\n",
    "optimizers = {}\n",
    "optimizers['Momentum'] = Momentum()\n",
    "optimizers['AdaGrad'] = AdaGrad()\n",
    "optimizers['Adam'] = Adam()\n",
    "\n",
    "networks = {}\n",
    "train_acc = {}\n",
    "train_loss = {}\n",
    "\n",
    "for key in optimizers.keys():\n",
    "    networks[key] = MultiLayerNet(\n",
    "        input_size=784, hidden_size_list=[100, 100, 100, 100],\n",
    "        output_size=10)\n",
    "    train_acc[key] = []\n",
    "    train_loss[key] = []\n"
   ],
   "metadata": {
    "collapsed": false,
    "ExecuteTime": {
     "end_time": "2023-07-21T16:50:00.538788900Z",
     "start_time": "2023-07-21T16:50:00.401093200Z"
    }
   }
  },
  {
   "cell_type": "code",
   "execution_count": 45,
   "outputs": [
    {
     "name": "stdout",
     "output_type": "stream",
     "text": [
      "===========iteration:0===========\n",
      "Momentum:0.109375\n",
      "Momentum:2.183624036469049\n",
      "AdaGrad:0.34375\n",
      "AdaGrad:2.183624036469049\n",
      "Adam:0.28125\n",
      "Adam:2.183624036469049\n",
      "===========iteration:100===========\n",
      "Momentum:0.96875\n",
      "Momentum:0.2112902777344163\n",
      "AdaGrad:0.96875\n",
      "AdaGrad:0.2112902777344163\n",
      "Adam:0.890625\n",
      "Adam:0.2112902777344163\n",
      "===========iteration:200===========\n",
      "Momentum:0.8125\n",
      "Momentum:0.39289603100235027\n",
      "AdaGrad:0.953125\n",
      "AdaGrad:0.39289603100235027\n",
      "Adam:0.890625\n",
      "Adam:0.39289603100235027\n",
      "===========iteration:300===========\n",
      "Momentum:0.9375\n",
      "Momentum:0.10486986321646843\n",
      "AdaGrad:1.0\n",
      "AdaGrad:0.10486986321646843\n",
      "Adam:0.984375\n",
      "Adam:0.10486986321646843\n",
      "===========iteration:400===========\n",
      "Momentum:0.984375\n",
      "Momentum:0.09601872404792793\n",
      "AdaGrad:1.0\n",
      "AdaGrad:0.09601872404792793\n",
      "Adam:0.953125\n",
      "Adam:0.09601872404792793\n"
     ]
    }
   ],
   "source": [
    "for i in range(max_iterations):\n",
    "    batch_mask = np.random.choice(train_size, batch_size)\n",
    "    x_batch = x_train[batch_mask]\n",
    "    t_batch = t_train[batch_mask]\n",
    "    for key in optimizers.keys():\n",
    "        grads = networks[key].gradient(x_batch, t_batch)\n",
    "        optimizers[key].update(networks[key].params, grads)\n",
    "\n",
    "        loss = networks[key].loss(x_batch, t_batch)\n",
    "        acc = networks[key].accuracy(x_batch, t_batch)\n",
    "        train_acc[key].append(acc)\n",
    "        train_loss[key].append(loss)\n",
    "\n",
    "    if i % 100 == 0:\n",
    "        print( \"===========\" + \"iteration:\" + str(i) + \"===========\")\n",
    "        for key in optimizers.keys():\n",
    "            acc = networks[key].accuracy(x_batch, t_batch)\n",
    "            print(key + \":\" + str(acc))\n",
    "            print(key + \":\" + str(loss))\n"
   ],
   "metadata": {
    "collapsed": false,
    "ExecuteTime": {
     "end_time": "2023-07-21T16:50:12.943880500Z",
     "start_time": "2023-07-21T16:50:02.169182900Z"
    }
   }
  },
  {
   "cell_type": "code",
   "execution_count": 46,
   "outputs": [
    {
     "data": {
      "text/plain": "<Figure size 432x288 with 1 Axes>",
      "image/png": "[encoded data removed]"
     },
     "metadata": {
      "needs_background": "light"
     },
     "output_type": "display_data"
    }
   ],
   "source": [
    "markers = {\"Momentum\": \"x\", \"AdaGrad\": \"s\", \"Adam\": \"D\"}\n",
    "x = np.arange(max_iterations)\n",
    "for key in optimizers.keys():\n",
    "    plt.plot(x, smooth_curve(train_loss[key]), marker=markers[key], markevery=50, label=key)\n",
    "plt.xlabel(\"iterations\")\n",
    "plt.ylabel(\"acc\")\n",
    "plt.legend()\n",
    "plt.show()"
   ],
   "metadata": {
    "collapsed": false,
    "ExecuteTime": {
     "end_time": "2023-07-21T16:50:40.051178900Z",
     "start_time": "2023-07-21T16:50:39.939786500Z"
    }
   }
  },
  {
   "cell_type": "code",
   "execution_count": 47,
   "outputs": [
    {
     "name": "stdout",
     "output_type": "stream",
     "text": [
      "Momentum:1.0\n",
      "Momentum:0.056235422531880255\n",
      "AdaGrad:1.0\n",
      "AdaGrad:0.022238102195279115\n",
      "Adam:1.0\n",
      "Adam:0.04381467987279032\n"
     ]
    }
   ],
   "source": [
    "for key in optimizers.keys():\n",
    "    print(key + \":\" + str(max(train_acc[key])))\n",
    "    print(key + \":\" + str(min(train_loss[key])))"
   ],
   "metadata": {
    "collapsed": false,
    "ExecuteTime": {
     "end_time": "2023-07-21T16:51:15.845758700Z",
     "start_time": "2023-07-21T16:51:15.832761700Z"
    }
   }
  },
  {
   "cell_type": "code",
   "execution_count": 48,
   "outputs": [],
   "source": [
    "optimizers = {}\n",
    "optimizers['AdaGrad'] = AdaGrad()\n",
    "optimizers['Adam'] = Adam()\n",
    "\n",
    "\n",
    "networks = {}\n",
    "train_acc = {}\n",
    "train_loss = {}\n",
    "\n",
    "\n",
    "for key in optimizers.keys():\n",
    "    networks[key] = MultiLayerNetExtend(\n",
    "        input_size=784, hidden_size_list=[100, 100, 100, 100],\n",
    "        use_dropout=True, dropout_ration=0.3, use_batchnorm=True,\n",
    "        output_size=10)\n",
    "    train_acc[key] = []\n",
    "    train_loss[key] = []"
   ],
   "metadata": {
    "collapsed": false,
    "ExecuteTime": {
     "end_time": "2023-07-21T16:51:54.482946700Z",
     "start_time": "2023-07-21T16:51:54.457910700Z"
    }
   }
  },
  {
   "cell_type": "code",
   "execution_count": 49,
   "outputs": [
    {
     "name": "stdout",
     "output_type": "stream",
     "text": [
      "===========iteration:0===========\n",
      "AdaGrad:0.203125\n",
      "AdaGrad:13.849752505648727\n",
      "Adam:0.109375\n",
      "Adam:13.849752505648727\n",
      "===========iteration:100===========\n",
      "AdaGrad:0.9375\n",
      "AdaGrad:0.8704065327091829\n",
      "Adam:0.8125\n",
      "Adam:0.8704065327091829\n",
      "===========iteration:200===========\n",
      "AdaGrad:0.90625\n",
      "AdaGrad:0.43307168619694614\n",
      "Adam:0.875\n",
      "Adam:0.43307168619694614\n",
      "===========iteration:300===========\n",
      "AdaGrad:0.921875\n",
      "AdaGrad:0.34060522186797904\n",
      "Adam:0.953125\n",
      "Adam:0.34060522186797904\n",
      "===========iteration:400===========\n",
      "AdaGrad:0.875\n",
      "AdaGrad:0.3667066808060799\n",
      "Adam:0.875\n",
      "Adam:0.3667066808060799\n"
     ]
    }
   ],
   "source": [
    "for i in range(max_iterations):\n",
    "    batch_mask = np.random.choice(train_size, batch_size)\n",
    "    x_batch = x_train[batch_mask]\n",
    "    t_batch = t_train[batch_mask]\n",
    "    for key in optimizers.keys():\n",
    "        grads = networks[key].gradient(x_batch, t_batch)\n",
    "        optimizers[key].update(networks[key].params, grads)\n",
    "\n",
    "        loss = networks[key].loss(x_batch, t_batch)\n",
    "        acc = networks[key].accuracy(x_batch, t_batch)\n",
    "        train_acc[key].append(acc)\n",
    "        train_loss[key].append(loss)\n",
    "\n",
    "    if i % 100 == 0:\n",
    "        print( \"===========\" + \"iteration:\" + str(i) + \"===========\")\n",
    "        for key in optimizers.keys():\n",
    "            acc = networks[key].accuracy(x_batch, t_batch)\n",
    "            print(key + \":\" + str(acc))\n",
    "            print(key + \":\" + str(loss))\n"
   ],
   "metadata": {
    "collapsed": false,
    "ExecuteTime": {
     "end_time": "2023-07-21T16:52:09.785906900Z",
     "start_time": "2023-07-21T16:51:59.720341700Z"
    }
   }
  },
  {
   "cell_type": "code",
   "execution_count": 50,
   "outputs": [
    {
     "data": {
      "text/plain": "<Figure size 432x288 with 1 Axes>",
      "image/png": "[encoded data removed]"
     },
     "metadata": {
      "needs_background": "light"
     },
     "output_type": "display_data"
    }
   ],
   "source": [
    "markers = {\"AdaGrad\": \"s\", \"Adam\": \"D\"}\n",
    "x = np.arange(max_iterations)\n",
    "for key in optimizers.keys():\n",
    "    plt.plot(x, smooth_curve(train_acc[key]), marker=markers[key], markevery=50, label=key)\n",
    "plt.xlabel(\"iterations\")\n",
    "plt.ylabel(\"acc\")\n",
    "plt.legend()\n",
    "plt.show()"
   ],
   "metadata": {
    "collapsed": false,
    "ExecuteTime": {
     "end_time": "2023-07-21T16:52:13.763732700Z",
     "start_time": "2023-07-21T16:52:13.651837900Z"
    }
   }
  },
  {
   "cell_type": "code",
   "execution_count": 51,
   "outputs": [
    {
     "name": "stdout",
     "output_type": "stream",
     "text": [
      "AdaGrad:1.0\n",
      "AdaGrad:0.06689314816017657\n",
      "Adam:1.0\n",
      "Adam:0.08433965458158674\n"
     ]
    }
   ],
   "source": [
    "for key in optimizers.keys():\n",
    "    print(key + \":\" + str(max(train_acc[key])))\n",
    "    print(key + \":\" + str(min(train_loss[key])))"
   ],
   "metadata": {
    "collapsed": false,
    "ExecuteTime": {
     "end_time": "2023-07-21T16:52:28.613506500Z",
     "start_time": "2023-07-21T16:52:28.604506500Z"
    }
   }
  },
  {
   "cell_type": "code",
   "execution_count": null,
   "outputs": [],
   "source": [],
   "metadata": {
    "collapsed": false
   }
  }
 ],
 "metadata": {
  "kernelspec": {
   "display_name": "Python 3",
   "language": "python",
   "name": "python3"
  },
  "language_info": {
   "codemirror_mode": {
    "name": "ipython",
    "version": 2
   },
   "file_extension": ".py",
   "mimetype": "text/x-python",
   "name": "python",
   "nbconvert_exporter": "python",
   "pygments_lexer": "ipython2",
   "version": "2.7.6"
  }
 },
 "nbformat": 4,
 "nbformat_minor": 0
}

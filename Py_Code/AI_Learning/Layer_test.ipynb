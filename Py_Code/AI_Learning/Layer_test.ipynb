{
 "cells": [
  {
   "cell_type": "code",
   "execution_count": 1,
   "metadata": {
    "collapsed": true,
    "ExecuteTime": {
     "end_time": "2023-08-08T19:05:28.867994700Z",
     "start_time": "2023-08-08T19:05:28.663270900Z"
    }
   },
   "outputs": [
    {
     "data": {
      "text/plain": "array([[-0.0434, -0.0885,  0.4716, ..., -0.4528,  0.0788,\n         0.2606],\n       [ 0.2379, -0.1031, -0.1605, ..., -0.1271,  0.1174,\n         0.1673],\n       [-0.4447, -0.0483,  0.1339, ...,  0.1357, -0.135 ,\n         0.1927],\n       ...,\n       [ 0.0129, -0.0104,  0.4285, ...,  0.0625, -0.1096,\n        -0.0316],\n       [ 0.0806, -0.1959,  0.1941, ..., -0.0947, -0.126 ,\n         0.0434],\n       [-0.2215,  0.1016,  0.5185, ..., -0.2471,  0.3631,\n        -0.2206]])"
     },
     "execution_count": 1,
     "metadata": {},
     "output_type": "execute_result"
    }
   ],
   "source": [
    "import sys\n",
    "sys.path.append('C:/Users/dinle/Code/Learning/Py_Code/AI_Learning/mnist')\n",
    "sys.path.append('C:/Users/dinle/Code/Learning/Py_Code/AI_Learning/NodeLayer')\n",
    "import NodeLayer.Layers.layers as layers\n",
    "import mnist.common.layers as layers2\n",
    "import numpy as np\n",
    "\n",
    "\n",
    "scale = np.sqrt(2.0 / 50)\n",
    "W = scale * np.random.randn(50, 100)\n",
    "b = np.ones(100)\n",
    "x = np.random.randn(128, 50)\n",
    "gamma = np.ones(100)\n",
    "beta = np.zeros(100)\n",
    "t = np.random.randint(0,49,128)\n",
    "\n",
    "L1 = layers.SoftmaxWithLoss()\n",
    "L2 = layers2.SoftmaxWithLoss()\n",
    "\n",
    "W"
   ]
  },
  {
   "cell_type": "code",
   "execution_count": 2,
   "outputs": [],
   "source": [
    "def softmax(x):\n",
    "    if x.ndim == 2:\n",
    "        x = x.T\n",
    "        x = x - np.max(x, axis=0)\n",
    "        y = np.exp(x) / np.sum(np.exp(x), axis=0)\n",
    "        return y.T\n",
    "\n",
    "    x = x - np.max(x) # 오버플로 대책\n",
    "    return np.exp(x) / np.sum(np.exp(x))"
   ],
   "metadata": {
    "collapsed": false,
    "ExecuteTime": {
     "end_time": "2023-08-08T19:05:28.882509300Z",
     "start_time": "2023-08-08T19:05:28.866997700Z"
    }
   }
  },
  {
   "cell_type": "code",
   "execution_count": 3,
   "outputs": [],
   "source": [
    "def softmax2(x):\n",
    "    if x.ndim == 2:\n",
    "        x = x.T\n",
    "        x = x - np.max(x, axis=0)\n",
    "        a = np.exp(x)\n",
    "        b = (1/ np.sum(np.exp(x), axis=0))\n",
    "        y = a*b\n",
    "        return y.T\n",
    "\n",
    "    x = x - np.max(x) # 오버플로 대책\n",
    "    return np.exp(x) / np.sum(np.exp(x))"
   ],
   "metadata": {
    "collapsed": false,
    "ExecuteTime": {
     "end_time": "2023-08-08T19:05:28.921002600Z",
     "start_time": "2023-08-08T19:05:28.881513500Z"
    }
   }
  },
  {
   "cell_type": "code",
   "execution_count": 4,
   "outputs": [],
   "source": [
    "f1 = L1.forward(x,t)\n",
    "f2 = L2.forward(x,t)"
   ],
   "metadata": {
    "collapsed": false,
    "ExecuteTime": {
     "end_time": "2023-08-08T19:05:28.922002400Z",
     "start_time": "2023-08-08T19:05:28.896549600Z"
    }
   }
  },
  {
   "cell_type": "code",
   "execution_count": 5,
   "outputs": [],
   "source": [
    "s1 = softmax(x)"
   ],
   "metadata": {
    "collapsed": false,
    "ExecuteTime": {
     "end_time": "2023-08-08T19:05:28.943044400Z",
     "start_time": "2023-08-08T19:05:28.911978200Z"
    }
   }
  },
  {
   "cell_type": "code",
   "execution_count": 6,
   "outputs": [],
   "source": [
    "s2 = softmax2(x)"
   ],
   "metadata": {
    "collapsed": false,
    "ExecuteTime": {
     "end_time": "2023-08-08T19:05:28.943044400Z",
     "start_time": "2023-08-08T19:05:28.926526Z"
    }
   }
  },
  {
   "cell_type": "code",
   "execution_count": 7,
   "outputs": [
    {
     "data": {
      "text/plain": "array([[0.0073, 0.015 , 0.0264, ..., 0.0402, 0.0041,\n        0.005 ],\n       [0.0024, 0.0319, 0.0024, ..., 0.0026, 0.0478,\n        0.0053],\n       [0.0169, 0.0068, 0.0007, ..., 0.0554, 0.0028,\n        0.0058],\n       ...,\n       [0.0133, 0.0205, 0.0323, ..., 0.0177, 0.0067,\n        0.0155],\n       [0.0139, 0.0025, 0.0025, ..., 0.0163, 0.0034,\n        0.0107],\n       [0.0867, 0.0364, 0.0067, ..., 0.0119, 0.0352,\n        0.0038]])"
     },
     "execution_count": 7,
     "metadata": {},
     "output_type": "execute_result"
    }
   ],
   "source": [
    "s1"
   ],
   "metadata": {
    "collapsed": false,
    "ExecuteTime": {
     "end_time": "2023-08-08T19:05:29.004655100Z",
     "start_time": "2023-08-08T19:05:28.942044800Z"
    }
   }
  },
  {
   "cell_type": "code",
   "execution_count": 8,
   "outputs": [
    {
     "data": {
      "text/plain": "array([[0.0073, 0.015 , 0.0264, ..., 0.0402, 0.0041,\n        0.005 ],\n       [0.0024, 0.0319, 0.0024, ..., 0.0026, 0.0478,\n        0.0053],\n       [0.0169, 0.0068, 0.0007, ..., 0.0554, 0.0028,\n        0.0058],\n       ...,\n       [0.0133, 0.0205, 0.0323, ..., 0.0177, 0.0067,\n        0.0155],\n       [0.0139, 0.0025, 0.0025, ..., 0.0163, 0.0034,\n        0.0107],\n       [0.0867, 0.0364, 0.0067, ..., 0.0119, 0.0352,\n        0.0038]])"
     },
     "execution_count": 8,
     "metadata": {},
     "output_type": "execute_result"
    }
   ],
   "source": [
    "s2"
   ],
   "metadata": {
    "collapsed": false,
    "ExecuteTime": {
     "end_time": "2023-08-08T19:05:29.005662300Z",
     "start_time": "2023-08-08T19:05:28.957078100Z"
    }
   }
  },
  {
   "cell_type": "code",
   "execution_count": 9,
   "outputs": [
    {
     "data": {
      "text/plain": "0.9999999999999998"
     },
     "execution_count": 9,
     "metadata": {},
     "output_type": "execute_result"
    }
   ],
   "source": [
    "np.min(s1/s2)"
   ],
   "metadata": {
    "collapsed": false,
    "ExecuteTime": {
     "end_time": "2023-08-08T19:05:29.006662700Z",
     "start_time": "2023-08-08T19:05:28.971590600Z"
    }
   }
  },
  {
   "cell_type": "code",
   "execution_count": 10,
   "outputs": [
    {
     "data": {
      "text/plain": "4.520099200015142"
     },
     "execution_count": 10,
     "metadata": {},
     "output_type": "execute_result"
    }
   ],
   "source": [
    "f1"
   ],
   "metadata": {
    "collapsed": false,
    "ExecuteTime": {
     "end_time": "2023-08-08T19:05:29.006662700Z",
     "start_time": "2023-08-08T19:05:28.987629400Z"
    }
   }
  },
  {
   "cell_type": "code",
   "execution_count": 11,
   "outputs": [
    {
     "data": {
      "text/plain": "4.520099200015142"
     },
     "execution_count": 11,
     "metadata": {},
     "output_type": "execute_result"
    }
   ],
   "source": [
    "f2"
   ],
   "metadata": {
    "collapsed": false,
    "ExecuteTime": {
     "end_time": "2023-08-08T19:05:29.023524700Z",
     "start_time": "2023-08-08T19:05:29.001148800Z"
    }
   }
  },
  {
   "cell_type": "code",
   "execution_count": 12,
   "outputs": [
    {
     "data": {
      "text/plain": "0.0"
     },
     "execution_count": 12,
     "metadata": {},
     "output_type": "execute_result"
    }
   ],
   "source": [
    "ff = f1 - f2\n",
    "np.max(ff)"
   ],
   "metadata": {
    "collapsed": false,
    "ExecuteTime": {
     "end_time": "2023-08-08T19:05:29.124838900Z",
     "start_time": "2023-08-08T19:05:29.017188900Z"
    }
   }
  },
  {
   "cell_type": "code",
   "execution_count": 13,
   "outputs": [],
   "source": [
    "b1 = L1.backward(f1)\n",
    "b2 = L2.backward(f2)"
   ],
   "metadata": {
    "collapsed": false,
    "ExecuteTime": {
     "end_time": "2023-08-08T19:05:29.150934300Z",
     "start_time": "2023-08-08T19:05:29.033564500Z"
    }
   }
  },
  {
   "cell_type": "code",
   "execution_count": 14,
   "outputs": [
    {
     "data": {
      "text/plain": "array([[5.6981e-05, 1.1681e-04, 2.0661e-04, ...,\n        3.1374e-04, 3.2343e-05, 3.9228e-05],\n       [1.9039e-05, 2.4947e-04, 1.8652e-05, ...,\n        2.0447e-05, 3.7353e-04, 4.1322e-05],\n       [1.3225e-04, 5.3318e-05, 5.2000e-06, ...,\n        4.3249e-04, 2.2033e-05, 4.5270e-05],\n       ...,\n       [1.0385e-04, 1.6043e-04, 2.5206e-04, ...,\n        1.3851e-04, 5.2050e-05, 1.2115e-04],\n       [1.0858e-04, 1.9867e-05, 1.9899e-05, ...,\n        1.2769e-04, 2.6687e-05, 8.3419e-05],\n       [6.7755e-04, 2.8459e-04, 5.2096e-05, ...,\n        9.3171e-05, 2.7481e-04, 2.9648e-05]])"
     },
     "execution_count": 14,
     "metadata": {},
     "output_type": "execute_result"
    }
   ],
   "source": [
    "b1"
   ],
   "metadata": {
    "collapsed": false,
    "ExecuteTime": {
     "end_time": "2023-08-08T19:05:29.167994100Z",
     "start_time": "2023-08-08T19:05:29.052482500Z"
    }
   }
  },
  {
   "cell_type": "code",
   "execution_count": 15,
   "outputs": [
    {
     "data": {
      "text/plain": "array([[5.6985e-05, 1.1681e-04, 2.0662e-04, ...,\n        3.1376e-04, 3.2345e-05, 3.9230e-05],\n       [1.9040e-05, 2.4949e-04, 1.8654e-05, ...,\n        2.0449e-05, 3.7356e-04, 4.1326e-05],\n       [1.3225e-04, 5.3318e-05, 5.2000e-06, ...,\n        4.3249e-04, 2.2034e-05, 4.5271e-05],\n       ...,\n       [1.0385e-04, 1.6043e-04, 2.5206e-04, ...,\n        1.3851e-04, 5.2050e-05, 1.2116e-04],\n       [1.0859e-04, 1.9868e-05, 1.9900e-05, ...,\n        1.2770e-04, 2.6688e-05, 8.3424e-05],\n       [6.7756e-04, 2.8459e-04, 5.2097e-05, ...,\n        9.3173e-05, 2.7481e-04, 2.9648e-05]])"
     },
     "execution_count": 15,
     "metadata": {},
     "output_type": "execute_result"
    }
   ],
   "source": [
    "b2"
   ],
   "metadata": {
    "collapsed": false,
    "ExecuteTime": {
     "end_time": "2023-08-08T19:05:29.168991500Z",
     "start_time": "2023-08-08T19:05:29.063607Z"
    }
   }
  },
  {
   "cell_type": "code",
   "execution_count": 16,
   "outputs": [
    {
     "data": {
      "text/plain": "9.90034350755939e-07"
     },
     "execution_count": 16,
     "metadata": {},
     "output_type": "execute_result"
    }
   ],
   "source": [
    "bb = b1-b2\n",
    "np.max(bb)"
   ],
   "metadata": {
    "collapsed": false,
    "ExecuteTime": {
     "end_time": "2023-08-08T19:05:29.169994500Z",
     "start_time": "2023-08-08T19:05:29.079270100Z"
    }
   }
  },
  {
   "cell_type": "code",
   "execution_count": 17,
   "outputs": [],
   "source": [
    "# dw = L1.dW - L2.dW\n",
    "# np.max(dw)"
   ],
   "metadata": {
    "collapsed": false,
    "ExecuteTime": {
     "end_time": "2023-08-08T19:05:29.170993100Z",
     "start_time": "2023-08-08T19:05:29.093782200Z"
    }
   }
  },
  {
   "cell_type": "code",
   "execution_count": 18,
   "outputs": [],
   "source": [
    "y1 = L1.y\n",
    "y2 = L2.y"
   ],
   "metadata": {
    "collapsed": false,
    "ExecuteTime": {
     "end_time": "2023-08-08T19:05:29.171995800Z",
     "start_time": "2023-08-08T19:05:29.107819500Z"
    }
   }
  },
  {
   "cell_type": "code",
   "execution_count": 19,
   "outputs": [
    {
     "data": {
      "text/plain": "array([[0.0073, 0.015 , 0.0264, ..., 0.0402, 0.0041,\n        0.005 ],\n       [0.0024, 0.0319, 0.0024, ..., 0.0026, 0.0478,\n        0.0053],\n       [0.0169, 0.0068, 0.0007, ..., 0.0554, 0.0028,\n        0.0058],\n       ...,\n       [0.0133, 0.0205, 0.0323, ..., 0.0177, 0.0067,\n        0.0155],\n       [0.0139, 0.0025, 0.0025, ..., 0.0163, 0.0034,\n        0.0107],\n       [0.0867, 0.0364, 0.0067, ..., 0.0119, 0.0352,\n        0.0038]])"
     },
     "execution_count": 19,
     "metadata": {},
     "output_type": "execute_result"
    }
   ],
   "source": [
    "y1"
   ],
   "metadata": {
    "collapsed": false,
    "ExecuteTime": {
     "end_time": "2023-08-08T19:05:29.186023100Z",
     "start_time": "2023-08-08T19:05:29.123837200Z"
    }
   }
  },
  {
   "cell_type": "code",
   "execution_count": 20,
   "outputs": [
    {
     "data": {
      "text/plain": "array([[0.0073, 0.015 , 0.0264, ..., 0.0402, 0.0041,\n        0.005 ],\n       [0.0024, 0.0319, 0.0024, ..., 0.0026, 0.0478,\n        0.0053],\n       [0.0169, 0.0068, 0.0007, ..., 0.0554, 0.0028,\n        0.0058],\n       ...,\n       [0.0133, 0.0205, 0.0323, ..., 0.0177, 0.0067,\n        0.0155],\n       [0.0139, 0.0025, 0.0025, ..., 0.0163, 0.0034,\n        0.0107],\n       [0.0867, 0.0364, 0.0067, ..., 0.0119, 0.0352,\n        0.0038]])"
     },
     "execution_count": 20,
     "metadata": {},
     "output_type": "execute_result"
    }
   ],
   "source": [
    "y2"
   ],
   "metadata": {
    "collapsed": false,
    "ExecuteTime": {
     "end_time": "2023-08-08T19:05:29.238290300Z",
     "start_time": "2023-08-08T19:05:29.139417200Z"
    }
   }
  },
  {
   "cell_type": "code",
   "execution_count": 21,
   "outputs": [
    {
     "data": {
      "text/plain": "1.3877787807814457e-17"
     },
     "execution_count": 21,
     "metadata": {},
     "output_type": "execute_result"
    }
   ],
   "source": [
    "np.max(y1-y2)"
   ],
   "metadata": {
    "collapsed": false,
    "ExecuteTime": {
     "end_time": "2023-08-08T19:05:29.239291200Z",
     "start_time": "2023-08-08T19:05:29.155459400Z"
    }
   }
  }
 ],
 "metadata": {
  "kernelspec": {
   "display_name": "Python 3",
   "language": "python",
   "name": "python3"
  },
  "language_info": {
   "codemirror_mode": {
    "name": "ipython",
    "version": 2
   },
   "file_extension": ".py",
   "mimetype": "text/x-python",
   "name": "python",
   "nbconvert_exporter": "python",
   "pygments_lexer": "ipython2",
   "version": "2.7.6"
  }
 },
 "nbformat": 4,
 "nbformat_minor": 0
}

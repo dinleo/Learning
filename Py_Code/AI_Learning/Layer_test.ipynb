{
 "cells": [
  {
   "cell_type": "code",
   "execution_count": 201,
   "metadata": {
    "collapsed": true,
    "ExecuteTime": {
     "end_time": "2023-08-08T18:21:27.550648300Z",
     "start_time": "2023-08-08T18:21:27.453647900Z"
    }
   },
   "outputs": [
    {
     "data": {
      "text/plain": "array([[-0.1122,  0.0619,  0.0655, ..., -0.1985,  0.2643,\n         0.2961],\n       [-0.0428, -0.1317, -0.2921, ..., -0.2099, -0.0635,\n        -0.1829],\n       [-0.0328, -0.1979, -0.1487, ...,  0.0223, -0.0477,\n        -0.0198],\n       ...,\n       [ 0.11  ,  0.1005, -0.2511, ..., -0.2969,  0.1257,\n        -0.2134],\n       [ 0.2309,  0.2484, -0.0395, ...,  0.0091, -0.0245,\n        -0.1617],\n       [ 0.0544, -0.0995,  0.3328, ...,  0.1687,  0.1581,\n         0.1142]])"
     },
     "execution_count": 201,
     "metadata": {},
     "output_type": "execute_result"
    }
   ],
   "source": [
    "import sys\n",
    "sys.path.append('C:/Users/dinle/Code/Learning/Py_Code/AI_Learning/mnist')\n",
    "sys.path.append('C:/Users/dinle/Code/Learning/Py_Code/AI_Learning/NodeLayer')\n",
    "import NodeLayer.Layers.layers as layers\n",
    "import mnist.common.layers as layers2\n",
    "import numpy as np\n",
    "\n",
    "\n",
    "scale = np.sqrt(2.0 / 50)\n",
    "W = scale * np.random.randn(50, 100)\n",
    "b = np.ones(100)\n",
    "x = np.random.randn(128, 50)\n",
    "gamma = np.ones(100)\n",
    "beta = np.zeros(100)\n",
    "t = np.random.randint(0,49,128)\n",
    "\n",
    "L1 = layers.SoftmaxWithLoss()\n",
    "L2 = layers2.SoftmaxWithLoss()\n",
    "\n",
    "W"
   ]
  },
  {
   "cell_type": "code",
   "execution_count": 202,
   "outputs": [],
   "source": [
    "def softmax(x):\n",
    "    if x.ndim == 2:\n",
    "        x = x.T\n",
    "        x = x - np.max(x, axis=0)\n",
    "        y = np.exp(x) / np.sum(np.exp(x), axis=0)\n",
    "        return y.T\n",
    "\n",
    "    x = x - np.max(x) # 오버플로 대책\n",
    "    return np.exp(x) / np.sum(np.exp(x))"
   ],
   "metadata": {
    "collapsed": false,
    "ExecuteTime": {
     "end_time": "2023-08-08T18:21:27.550648300Z",
     "start_time": "2023-08-08T18:21:27.474644700Z"
    }
   }
  },
  {
   "cell_type": "code",
   "execution_count": 203,
   "outputs": [],
   "source": [
    "def softmax2(x):\n",
    "    if x.ndim == 2:\n",
    "        x = x.T\n",
    "        x = x - np.max(x, axis=0)\n",
    "        a = np.exp(x)\n",
    "        b = (1/ np.sum(np.exp(x), axis=0))\n",
    "        y = a*b\n",
    "        return y.T\n",
    "\n",
    "    x = x - np.max(x) # 오버플로 대책\n",
    "    return np.exp(x) / np.sum(np.exp(x))"
   ],
   "metadata": {
    "collapsed": false,
    "ExecuteTime": {
     "end_time": "2023-08-08T18:21:27.550648300Z",
     "start_time": "2023-08-08T18:21:27.489648600Z"
    }
   }
  },
  {
   "cell_type": "code",
   "execution_count": 204,
   "outputs": [],
   "source": [
    "f1 = L1.forward(x,t)\n",
    "f2 = L2.forward(x,t)"
   ],
   "metadata": {
    "collapsed": false,
    "ExecuteTime": {
     "end_time": "2023-08-08T18:21:27.552153400Z",
     "start_time": "2023-08-08T18:21:27.503644600Z"
    }
   }
  },
  {
   "cell_type": "code",
   "execution_count": 205,
   "outputs": [],
   "source": [
    "s1 = softmax(x)"
   ],
   "metadata": {
    "collapsed": false,
    "ExecuteTime": {
     "end_time": "2023-08-08T18:21:27.552153400Z",
     "start_time": "2023-08-08T18:21:27.518644600Z"
    }
   }
  },
  {
   "cell_type": "code",
   "execution_count": 206,
   "outputs": [],
   "source": [
    "s2 = softmax2(x)"
   ],
   "metadata": {
    "collapsed": false,
    "ExecuteTime": {
     "end_time": "2023-08-08T18:21:27.552153400Z",
     "start_time": "2023-08-08T18:21:27.535645Z"
    }
   }
  },
  {
   "cell_type": "code",
   "execution_count": 207,
   "outputs": [
    {
     "data": {
      "text/plain": "array([[0.0613, 0.0045, 0.0122, ..., 0.0037, 0.0123,\n        0.0016],\n       [0.0026, 0.0392, 0.0168, ..., 0.0165, 0.0161,\n        0.0274],\n       [0.0177, 0.008 , 0.0273, ..., 0.0117, 0.0068,\n        0.0109],\n       ...,\n       [0.0156, 0.0091, 0.0093, ..., 0.1259, 0.0035,\n        0.0089],\n       [0.0067, 0.0554, 0.0225, ..., 0.0163, 0.0119,\n        0.0679],\n       [0.0265, 0.0803, 0.0356, ..., 0.0124, 0.0397,\n        0.0244]])"
     },
     "execution_count": 207,
     "metadata": {},
     "output_type": "execute_result"
    }
   ],
   "source": [
    "s1"
   ],
   "metadata": {
    "collapsed": false,
    "ExecuteTime": {
     "end_time": "2023-08-08T18:21:27.564162200Z",
     "start_time": "2023-08-08T18:21:27.547647800Z"
    }
   }
  },
  {
   "cell_type": "code",
   "execution_count": 208,
   "outputs": [
    {
     "data": {
      "text/plain": "array([[0.0613, 0.0045, 0.0122, ..., 0.0037, 0.0123,\n        0.0016],\n       [0.0026, 0.0392, 0.0168, ..., 0.0165, 0.0161,\n        0.0274],\n       [0.0177, 0.008 , 0.0273, ..., 0.0117, 0.0068,\n        0.0109],\n       ...,\n       [0.0156, 0.0091, 0.0093, ..., 0.1259, 0.0035,\n        0.0089],\n       [0.0067, 0.0554, 0.0225, ..., 0.0163, 0.0119,\n        0.0679],\n       [0.0265, 0.0803, 0.0356, ..., 0.0124, 0.0397,\n        0.0244]])"
     },
     "execution_count": 208,
     "metadata": {},
     "output_type": "execute_result"
    }
   ],
   "source": [
    "s2"
   ],
   "metadata": {
    "collapsed": false,
    "ExecuteTime": {
     "end_time": "2023-08-08T18:21:27.598158200Z",
     "start_time": "2023-08-08T18:21:27.562160900Z"
    }
   }
  },
  {
   "cell_type": "code",
   "execution_count": 209,
   "outputs": [
    {
     "data": {
      "text/plain": "0.9999999999999998"
     },
     "execution_count": 209,
     "metadata": {},
     "output_type": "execute_result"
    }
   ],
   "source": [
    "np.min(s1/s2)"
   ],
   "metadata": {
    "collapsed": false,
    "ExecuteTime": {
     "end_time": "2023-08-08T18:21:27.598158200Z",
     "start_time": "2023-08-08T18:21:27.578161700Z"
    }
   }
  },
  {
   "cell_type": "code",
   "execution_count": 210,
   "outputs": [
    {
     "data": {
      "text/plain": "4.47855677283685"
     },
     "execution_count": 210,
     "metadata": {},
     "output_type": "execute_result"
    }
   ],
   "source": [
    "f1"
   ],
   "metadata": {
    "collapsed": false,
    "ExecuteTime": {
     "end_time": "2023-08-08T18:21:27.608962Z",
     "start_time": "2023-08-08T18:21:27.594162400Z"
    }
   }
  },
  {
   "cell_type": "code",
   "execution_count": 211,
   "outputs": [
    {
     "data": {
      "text/plain": "4.47855677283685"
     },
     "execution_count": 211,
     "metadata": {},
     "output_type": "execute_result"
    }
   ],
   "source": [
    "f2"
   ],
   "metadata": {
    "collapsed": false,
    "ExecuteTime": {
     "end_time": "2023-08-08T18:21:27.664477600Z",
     "start_time": "2023-08-08T18:21:27.607959900Z"
    }
   }
  },
  {
   "cell_type": "code",
   "execution_count": 212,
   "outputs": [
    {
     "data": {
      "text/plain": "0.0"
     },
     "execution_count": 212,
     "metadata": {},
     "output_type": "execute_result"
    }
   ],
   "source": [
    "ff = f1 - f2\n",
    "np.max(ff)"
   ],
   "metadata": {
    "collapsed": false,
    "ExecuteTime": {
     "end_time": "2023-08-08T18:21:27.665479300Z",
     "start_time": "2023-08-08T18:21:27.621960600Z"
    }
   }
  },
  {
   "cell_type": "code",
   "execution_count": 213,
   "outputs": [],
   "source": [
    "b1 = L1.backward(f1)\n",
    "b2 = L2.backward(f2)"
   ],
   "metadata": {
    "collapsed": false,
    "ExecuteTime": {
     "end_time": "2023-08-08T18:21:27.665479300Z",
     "start_time": "2023-08-08T18:21:27.637970500Z"
    }
   }
  },
  {
   "cell_type": "code",
   "execution_count": 214,
   "outputs": [
    {
     "data": {
      "text/plain": "array([[ 4.7865e-04,  3.5258e-05,  9.5412e-05, ...,\n         2.8929e-05,  9.5767e-05,  1.2745e-05],\n       [ 2.0562e-05, -7.5063e-03,  1.3163e-04, ...,\n         1.2921e-04,  1.2550e-04,  2.1399e-04],\n       [ 1.3831e-04,  6.2445e-05,  2.1327e-04, ...,\n         9.1178e-05,  5.3171e-05,  8.5003e-05],\n       ...,\n       [ 1.2197e-04,  7.0946e-05,  7.2909e-05, ...,\n         9.8328e-04,  2.7158e-05,  6.9463e-05],\n       [ 5.2306e-05,  4.3307e-04,  1.7565e-04, ...,\n         1.2762e-04,  9.3314e-05,  5.3062e-04],\n       [ 2.0725e-04,  6.2757e-04,  2.7779e-04, ...,\n         9.7052e-05,  3.1002e-04,  1.9035e-04]])"
     },
     "execution_count": 214,
     "metadata": {},
     "output_type": "execute_result"
    }
   ],
   "source": [
    "b1"
   ],
   "metadata": {
    "collapsed": false,
    "ExecuteTime": {
     "end_time": "2023-08-08T18:21:27.692477600Z",
     "start_time": "2023-08-08T18:21:27.653478200Z"
    }
   }
  },
  {
   "cell_type": "code",
   "execution_count": 215,
   "outputs": [
    {
     "data": {
      "text/plain": "array([[ 4.7865e-04,  3.5258e-05,  9.5412e-05, ...,\n         2.8929e-05,  9.5767e-05,  1.2745e-05],\n       [ 2.0562e-05, -7.5063e-03,  1.3163e-04, ...,\n         1.2921e-04,  1.2550e-04,  2.1399e-04],\n       [ 1.3831e-04,  6.2445e-05,  2.1327e-04, ...,\n         9.1178e-05,  5.3171e-05,  8.5003e-05],\n       ...,\n       [ 1.2197e-04,  7.0946e-05,  7.2909e-05, ...,\n         9.8328e-04,  2.7158e-05,  6.9463e-05],\n       [ 5.2306e-05,  4.3307e-04,  1.7565e-04, ...,\n         1.2762e-04,  9.3314e-05,  5.3062e-04],\n       [ 2.0725e-04,  6.2757e-04,  2.7779e-04, ...,\n         9.7052e-05,  3.1002e-04,  1.9035e-04]])"
     },
     "execution_count": 215,
     "metadata": {},
     "output_type": "execute_result"
    }
   ],
   "source": [
    "b2"
   ],
   "metadata": {
    "collapsed": false,
    "ExecuteTime": {
     "end_time": "2023-08-08T18:21:27.697481400Z",
     "start_time": "2023-08-08T18:21:27.668478500Z"
    }
   }
  },
  {
   "cell_type": "code",
   "execution_count": 216,
   "outputs": [
    {
     "data": {
      "text/plain": "8.673617379884035e-19"
     },
     "execution_count": 216,
     "metadata": {},
     "output_type": "execute_result"
    }
   ],
   "source": [
    "bb = b1-b2\n",
    "np.max(bb)"
   ],
   "metadata": {
    "collapsed": false,
    "ExecuteTime": {
     "end_time": "2023-08-08T18:21:27.729478600Z",
     "start_time": "2023-08-08T18:21:27.692477600Z"
    }
   }
  },
  {
   "cell_type": "code",
   "execution_count": 217,
   "outputs": [],
   "source": [
    "# dw = L1.dW - L2.dW\n",
    "# np.max(dw)"
   ],
   "metadata": {
    "collapsed": false,
    "ExecuteTime": {
     "end_time": "2023-08-08T18:21:27.729478600Z",
     "start_time": "2023-08-08T18:21:27.699480300Z"
    }
   }
  },
  {
   "cell_type": "code",
   "execution_count": 218,
   "outputs": [],
   "source": [
    "y1 = L1.y\n",
    "y2 = L2.y"
   ],
   "metadata": {
    "collapsed": false,
    "ExecuteTime": {
     "end_time": "2023-08-08T18:21:27.730479900Z",
     "start_time": "2023-08-08T18:21:27.713480Z"
    }
   }
  },
  {
   "cell_type": "code",
   "execution_count": 219,
   "outputs": [
    {
     "data": {
      "text/plain": "array([[0.0613, 0.0045, 0.0122, ..., 0.0037, 0.0123,\n        0.0016],\n       [0.0026, 0.0392, 0.0168, ..., 0.0165, 0.0161,\n        0.0274],\n       [0.0177, 0.008 , 0.0273, ..., 0.0117, 0.0068,\n        0.0109],\n       ...,\n       [0.0156, 0.0091, 0.0093, ..., 0.1259, 0.0035,\n        0.0089],\n       [0.0067, 0.0554, 0.0225, ..., 0.0163, 0.0119,\n        0.0679],\n       [0.0265, 0.0803, 0.0356, ..., 0.0124, 0.0397,\n        0.0244]])"
     },
     "execution_count": 219,
     "metadata": {},
     "output_type": "execute_result"
    }
   ],
   "source": [
    "y1"
   ],
   "metadata": {
    "collapsed": false,
    "ExecuteTime": {
     "end_time": "2023-08-08T18:21:27.742485800Z",
     "start_time": "2023-08-08T18:21:27.728478700Z"
    }
   }
  },
  {
   "cell_type": "code",
   "execution_count": 220,
   "outputs": [
    {
     "data": {
      "text/plain": "array([[0.0613, 0.0045, 0.0122, ..., 0.0037, 0.0123,\n        0.0016],\n       [0.0026, 0.0392, 0.0168, ..., 0.0165, 0.0161,\n        0.0274],\n       [0.0177, 0.008 , 0.0273, ..., 0.0117, 0.0068,\n        0.0109],\n       ...,\n       [0.0156, 0.0091, 0.0093, ..., 0.1259, 0.0035,\n        0.0089],\n       [0.0067, 0.0554, 0.0225, ..., 0.0163, 0.0119,\n        0.0679],\n       [0.0265, 0.0803, 0.0356, ..., 0.0124, 0.0397,\n        0.0244]])"
     },
     "execution_count": 220,
     "metadata": {},
     "output_type": "execute_result"
    }
   ],
   "source": [
    "y2"
   ],
   "metadata": {
    "collapsed": false,
    "ExecuteTime": {
     "end_time": "2023-08-08T18:21:27.780989900Z",
     "start_time": "2023-08-08T18:21:27.743483800Z"
    }
   }
  },
  {
   "cell_type": "code",
   "execution_count": 221,
   "outputs": [
    {
     "data": {
      "text/plain": "2.7755575615628914e-17"
     },
     "execution_count": 221,
     "metadata": {},
     "output_type": "execute_result"
    }
   ],
   "source": [
    "np.max(y1-y2)"
   ],
   "metadata": {
    "collapsed": false,
    "ExecuteTime": {
     "end_time": "2023-08-08T18:21:27.789990300Z",
     "start_time": "2023-08-08T18:21:27.758991600Z"
    }
   }
  }
 ],
 "metadata": {
  "kernelspec": {
   "display_name": "Python 3",
   "language": "python",
   "name": "python3"
  },
  "language_info": {
   "codemirror_mode": {
    "name": "ipython",
    "version": 2
   },
   "file_extension": ".py",
   "mimetype": "text/x-python",
   "name": "python",
   "nbconvert_exporter": "python",
   "pygments_lexer": "ipython2",
   "version": "2.7.6"
  }
 },
 "nbformat": 4,
 "nbformat_minor": 0
}

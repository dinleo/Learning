{
 "cells": [
  {
   "cell_type": "code",
   "execution_count": null,
   "metadata": {
    "collapsed": true,
    "is_executing": true
   },
   "outputs": [],
   "source": [
    "import sys\n",
    "sys.path.append('C:/Users/dinle/Code/Learning/Py_Code/AI_Learning/mnist')\n",
    "sys.path.append('C:/Users/dinle/Code/Learning/Py_Code/AI_Learning/Node_Layer_Network')\n",
    "import Node_Layer_Network.Layers.layers as layers\n",
    "import mnist.common.layers as layers2\n",
    "import cupy as np\n",
    "\n",
    "\n",
    "scale = np.sqrt(2.0 / 100)\n",
    "scale = 0.141\n",
    "print(scale)\n",
    "W = scale * np.random.randn(100, 100)\n",
    "b = np.ones(100)\n",
    "x = np.random.randn(128, 100)\n",
    "gamma = np.ones(100)\n",
    "beta = np.zeros(100)\n",
    "t = np.random.randint(0,49,128)\n",
    "\n",
    "L1 = layers.SoftmaxWithLoss(back_eta=True)\n",
    "L2 = layers2.SoftmaxWithLoss()\n",
    "\n",
    "W"
   ]
  },
  {
   "cell_type": "code",
   "execution_count": 1,
   "outputs": [],
   "source": [
    "def softmax(x):\n",
    "    if x.ndim == 2:\n",
    "        x = x.T\n",
    "        x = x - np.max(x, axis=0)\n",
    "        y = np.exp(x) / np.sum(np.exp(x), axis=0)\n",
    "        return y.T\n",
    "\n",
    "    x = x - np.max(x) # 오버플로 대책\n",
    "    return np.exp(x) / np.sum(np.exp(x))"
   ],
   "metadata": {
    "collapsed": false,
    "ExecuteTime": {
     "end_time": "2023-08-13T13:48:20.705065400Z",
     "start_time": "2023-08-13T13:48:20.650419Z"
    }
   }
  },
  {
   "cell_type": "code",
   "execution_count": 2,
   "outputs": [],
   "source": [
    "def softmax2(x):\n",
    "    if x.ndim == 2:\n",
    "        x = x.T\n",
    "        x = x - np.max(x, axis=0)\n",
    "        a = np.exp(x)\n",
    "        b = (1/ np.sum(np.exp(x), axis=0))\n",
    "        y = a*b\n",
    "        return y.T\n",
    "\n",
    "    x = x - np.max(x) # 오버플로 대책\n",
    "    return np.exp(x) / np.sum(np.exp(x))"
   ],
   "metadata": {
    "collapsed": false,
    "ExecuteTime": {
     "end_time": "2023-08-13T13:48:20.706065500Z",
     "start_time": "2023-08-13T13:48:20.658418500Z"
    }
   }
  },
  {
   "cell_type": "code",
   "execution_count": 3,
   "outputs": [],
   "source": [
    "# s1 = softmax(x)"
   ],
   "metadata": {
    "collapsed": false,
    "ExecuteTime": {
     "end_time": "2023-08-13T13:48:20.706065500Z",
     "start_time": "2023-08-13T13:48:20.671927Z"
    }
   }
  },
  {
   "cell_type": "code",
   "execution_count": 4,
   "outputs": [],
   "source": [
    "# s2 = softmax2(x)"
   ],
   "metadata": {
    "collapsed": false,
    "ExecuteTime": {
     "end_time": "2023-08-13T13:48:20.706065500Z",
     "start_time": "2023-08-13T13:48:20.688066Z"
    }
   }
  },
  {
   "cell_type": "code",
   "execution_count": 5,
   "outputs": [],
   "source": [
    "# s1"
   ],
   "metadata": {
    "collapsed": false,
    "ExecuteTime": {
     "end_time": "2023-08-13T13:48:20.716068400Z",
     "start_time": "2023-08-13T13:48:20.703067600Z"
    }
   }
  },
  {
   "cell_type": "code",
   "execution_count": 6,
   "outputs": [],
   "source": [
    "# s2"
   ],
   "metadata": {
    "collapsed": false,
    "ExecuteTime": {
     "end_time": "2023-08-13T13:48:20.746166100Z",
     "start_time": "2023-08-13T13:48:20.717066200Z"
    }
   }
  },
  {
   "cell_type": "code",
   "execution_count": 7,
   "outputs": [],
   "source": [
    "# np.min(s1/s2)"
   ],
   "metadata": {
    "collapsed": false,
    "ExecuteTime": {
     "end_time": "2023-08-13T13:48:20.746166100Z",
     "start_time": "2023-08-13T13:48:20.732080400Z"
    }
   }
  },
  {
   "cell_type": "code",
   "execution_count": 8,
   "outputs": [
    {
     "ename": "NameError",
     "evalue": "name 'L1' is not defined",
     "output_type": "error",
     "traceback": [
      "\u001B[1;31m---------------------------------------------------------------------------\u001B[0m",
      "\u001B[1;31mNameError\u001B[0m                                 Traceback (most recent call last)",
      "Input \u001B[1;32mIn [8]\u001B[0m, in \u001B[0;36m<cell line: 1>\u001B[1;34m()\u001B[0m\n\u001B[1;32m----> 1\u001B[0m f1 \u001B[38;5;241m=\u001B[39m \u001B[43mL1\u001B[49m\u001B[38;5;241m.\u001B[39mforward(x,t)\n\u001B[0;32m      2\u001B[0m f2 \u001B[38;5;241m=\u001B[39m L2\u001B[38;5;241m.\u001B[39mforward(x\u001B[38;5;241m.\u001B[39mget(),t\u001B[38;5;241m.\u001B[39mget())\n",
      "\u001B[1;31mNameError\u001B[0m: name 'L1' is not defined"
     ]
    }
   ],
   "source": [
    "f1 = L1.forward(x,t)\n",
    "f2 = L2.forward(x.get(),t.get())"
   ],
   "metadata": {
    "collapsed": false,
    "ExecuteTime": {
     "end_time": "2023-08-13T13:48:21.125167200Z",
     "start_time": "2023-08-13T13:48:20.747166Z"
    }
   }
  },
  {
   "cell_type": "code",
   "execution_count": null,
   "outputs": [],
   "source": [
    "f1"
   ],
   "metadata": {
    "collapsed": false,
    "ExecuteTime": {
     "start_time": "2023-08-13T13:48:21.110167700Z"
    }
   }
  },
  {
   "cell_type": "code",
   "execution_count": null,
   "outputs": [],
   "source": [
    "f2"
   ],
   "metadata": {
    "collapsed": false,
    "ExecuteTime": {
     "start_time": "2023-08-13T13:48:21.111167500Z"
    }
   }
  },
  {
   "cell_type": "code",
   "execution_count": null,
   "outputs": [],
   "source": [
    "ff = f1.get() - f2\n",
    "np.mean(ff)"
   ],
   "metadata": {
    "collapsed": false,
    "ExecuteTime": {
     "start_time": "2023-08-13T13:48:21.112167Z"
    }
   }
  },
  {
   "cell_type": "code",
   "execution_count": null,
   "outputs": [],
   "source": [
    "b1 = L1.backward(1)\n",
    "b2 = L2.backward(1)"
   ],
   "metadata": {
    "collapsed": false,
    "ExecuteTime": {
     "start_time": "2023-08-13T13:48:21.114165900Z"
    }
   }
  },
  {
   "cell_type": "code",
   "execution_count": null,
   "outputs": [],
   "source": [
    "b1.get()"
   ],
   "metadata": {
    "collapsed": false,
    "ExecuteTime": {
     "start_time": "2023-08-13T13:48:21.116167600Z"
    }
   }
  },
  {
   "cell_type": "code",
   "execution_count": null,
   "outputs": [],
   "source": [
    "b2"
   ],
   "metadata": {
    "collapsed": false,
    "ExecuteTime": {
     "start_time": "2023-08-13T13:48:21.117166600Z"
    }
   }
  },
  {
   "cell_type": "code",
   "execution_count": null,
   "outputs": [],
   "source": [
    "bb = b2/b1.get()\n",
    "bb"
   ],
   "metadata": {
    "collapsed": false,
    "ExecuteTime": {
     "start_time": "2023-08-13T13:48:21.119167Z"
    }
   }
  },
  {
   "cell_type": "code",
   "execution_count": null,
   "outputs": [],
   "source": [
    "print(np.mean(bb))"
   ],
   "metadata": {
    "collapsed": false,
    "ExecuteTime": {
     "start_time": "2023-08-13T13:48:21.121167300Z"
    }
   }
  },
  {
   "cell_type": "code",
   "execution_count": null,
   "outputs": [],
   "source": [
    "# dw = L1.dW - L2.dW\n",
    "# np.max(dw)"
   ],
   "metadata": {
    "collapsed": false,
    "ExecuteTime": {
     "start_time": "2023-08-13T13:48:21.122167100Z"
    }
   }
  },
  {
   "cell_type": "code",
   "execution_count": null,
   "outputs": [],
   "source": [
    "y1 = L1.y\n",
    "y2 = L2.y"
   ],
   "metadata": {
    "collapsed": false,
    "ExecuteTime": {
     "start_time": "2023-08-13T13:48:21.123167600Z"
    }
   }
  },
  {
   "cell_type": "code",
   "execution_count": null,
   "outputs": [],
   "source": [
    "y1"
   ],
   "metadata": {
    "collapsed": false,
    "ExecuteTime": {
     "start_time": "2023-08-13T13:48:21.124168800Z"
    }
   }
  },
  {
   "cell_type": "code",
   "execution_count": null,
   "outputs": [],
   "source": [
    "y2"
   ],
   "metadata": {
    "collapsed": false,
    "ExecuteTime": {
     "end_time": "2023-08-13T13:48:21.126167600Z",
     "start_time": "2023-08-13T13:48:21.125167200Z"
    }
   }
  },
  {
   "cell_type": "code",
   "execution_count": null,
   "outputs": [],
   "source": [
    "np.max(y1-y2)"
   ],
   "metadata": {
    "collapsed": false,
    "ExecuteTime": {
     "start_time": "2023-08-13T13:48:21.127167800Z"
    }
   }
  }
 ],
 "metadata": {
  "kernelspec": {
   "display_name": "Python 3",
   "language": "python",
   "name": "python3"
  },
  "language_info": {
   "codemirror_mode": {
    "name": "ipython",
    "version": 2
   },
   "file_extension": ".py",
   "mimetype": "text/x-python",
   "name": "python",
   "nbconvert_exporter": "python",
   "pygments_lexer": "ipython2",
   "version": "2.7.6"
  }
 },
 "nbformat": 4,
 "nbformat_minor": 0
}

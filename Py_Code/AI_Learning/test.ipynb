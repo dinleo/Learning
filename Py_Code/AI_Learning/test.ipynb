{
 "cells": [
  {
   "cell_type": "code",
   "execution_count": 19,
   "metadata": {
    "collapsed": true,
    "ExecuteTime": {
     "end_time": "2023-08-04T11:11:13.953875300Z",
     "start_time": "2023-08-04T11:11:13.925584800Z"
    }
   },
   "outputs": [],
   "source": [
    "import sys\n",
    "sys.path.append('C:/Users/dinle/Code/Learning/Py_Code/AI_Learning/NodeLayer')\n",
    "sys.path.append('C:/Users/dinle/Code/Learning/Py_Code/AI_Learning/mnist')\n",
    "from NodeLayer.network.multi_layer_net_extend import MultiLayerNetExtend as mt1\n",
    "from mnist.common.multi_layer_net_extend import MultiLayerNetExtend as mt2\n",
    "from NodeLayer.network.simple_convnet import SimpleConvNet as cv1\n",
    "from mnist.ch07.simple_convnet import SimpleConvNet as cv2\n",
    "import matplotlib.pyplot as plt\n",
    "from mnist.dataset.mnist import load_mnist\n",
    "from mnist.common.util import smooth_curve\n",
    "from mnist.common.optimizer import *\n",
    "import numpy as np\n",
    "import time\n"
   ]
  },
  {
   "cell_type": "code",
   "execution_count": 20,
   "outputs": [],
   "source": [
    "(x_train, t_train), (x_test, t_test) = load_mnist(normalize=True)\n",
    "\n",
    "train_size = x_train.shape[0]\n",
    "test_size = x_test.shape[0]\n",
    "batch_size = 128\n",
    "max_iterations = 1000\n",
    "mi = np.arange(max_iterations)\n",
    "optimizer = AdaGrad()"
   ],
   "metadata": {
    "collapsed": false,
    "ExecuteTime": {
     "end_time": "2023-08-04T11:11:14.174875300Z",
     "start_time": "2023-08-04T11:11:13.946878500Z"
    }
   }
  },
  {
   "cell_type": "code",
   "execution_count": 21,
   "outputs": [],
   "source": [
    "def test(test_list):\n",
    "    networks = {}\n",
    "    train_acc = {}\n",
    "    train_loss = {}\n",
    "    test_acc = {}\n",
    "    test_loss = {}\n",
    "    optimizer = {}\n",
    "    time_record = {}\n",
    "\n",
    "    for key in test_list.keys():\n",
    "        # 기록 리스트 생성\n",
    "        train_acc[key] = []\n",
    "        train_loss[key] = []\n",
    "        test_acc[key] = []\n",
    "        test_loss[key] = []\n",
    "        time_record[key] = 0\n",
    "\n",
    "        # nSigmoid 경우 파라미터\n",
    "        # key == 'nSigmoid_8' -> act = nSigmoid, threshold = 8\n",
    "        model = test_list[key]['model']\n",
    "        lr = test_list[key]['lr']\n",
    "\n",
    "\n",
    "        # 네트워크와 optimizer 생성\n",
    "        if model == 'cv1':\n",
    "            networks[key] = cv1()\n",
    "        elif model == 'cv':\n",
    "            networks[key] = cv2()\n",
    "        elif model == 'mt1':\n",
    "            act = test_list[key]['act']\n",
    "            std = test_list[key]['std']\n",
    "            dr = test_list[key]['dr']\n",
    "            bn = test_list[key]['bn']\n",
    "            do = False\n",
    "            if dr is not None:\n",
    "                do = True\n",
    "            networks[key] = mt1(input_size=784, hidden_size_list=[100, 100, 100, 100],\n",
    "                output_size=10, use_dropout=do, dropout_ration=dr, activation=act, weight_init_std=std,  use_batchnorm=bn)\n",
    "        else:\n",
    "            act = test_list[key]['act']\n",
    "            std = test_list[key]['std']\n",
    "            dr = test_list[key]['dr']\n",
    "            bn = test_list[key]['bn']\n",
    "            do = False\n",
    "            if dr is not None:\n",
    "                do = True\n",
    "            networks[key] = mt2(input_size=784, hidden_size_list=[100, 100, 100, 100],\n",
    "                output_size=10, use_dropout=do, dropout_ration=dr, activation=act, weight_init_std=std,  use_batchnorm=bn)\n",
    "        optimizer[key] = AdaGrad(lr)\n",
    "\n",
    "    # 학습\n",
    "    for i in range(max_iterations):\n",
    "\n",
    "        # mini-batch train\n",
    "        batch_mask = np.random.choice(train_size, batch_size)\n",
    "        x_batch = x_train[batch_mask]\n",
    "        t_batch = t_train[batch_mask]\n",
    "\n",
    "        # mini-batch test\n",
    "        batch_mask_t = np.random.choice(test_size, batch_size)\n",
    "        x_batch_t = x_test[batch_mask_t]\n",
    "        t_batch_t = t_test[batch_mask_t]\n",
    "\n",
    "        if i % 100 == 0:\n",
    "            print( \"===========\" + \"iteration:\" + str(i) + \"===========\")\n",
    "\n",
    "        # 학습\n",
    "        for key in test_list.keys():\n",
    "            start = time.time()\n",
    "            if test_list[key]['model'].startswith('cv'):\n",
    "                x_batch = x_batch.reshape(-1, 1, 28, 28)\n",
    "                x_batch_t = x_batch_t.reshape(-1, 1, 28, 28)\n",
    "            # 학습\n",
    "            grads = networks[key].gradient(x_batch, t_batch)\n",
    "            optimizer[key].update(networks[key].params, grads)\n",
    "\n",
    "            # 기록\n",
    "            train_acc[key].append(networks[key].accuracy(x_batch, t_batch))\n",
    "            train_loss[key].append(networks[key].loss(x_batch, t_batch))\n",
    "            test_acc[key].append(networks[key].accuracy(x_batch_t, t_batch_t))\n",
    "            test_loss[key].append(networks[key].loss(x_batch_t, t_batch_t))\n",
    "\n",
    "\n",
    "            # 100회마다 경과 출력\n",
    "            if i % 100 == 0:\n",
    "                # print(key + \" loss:\" + str(acc))\n",
    "                t_loss = networks[key].loss(x_batch_t, t_batch_t)\n",
    "                end = time.time()\n",
    "                time_record[key] += (end-start)\n",
    "                print(key + \" loss:\" + str(t_loss) + \" time:\" + str(time_record[key]))\n",
    "            else:\n",
    "                end = time.time()\n",
    "                time_record[key] += (end-start)\n",
    "\n",
    "    return train_acc, train_loss, test_acc, test_loss\n",
    "\n",
    "\n",
    "def plot(label, datas, t_list, *y_lim):\n",
    "    for key in t_list:\n",
    "        plt.plot(mi, smooth_curve(datas[key]), markevery=50, label=key)\n",
    "    plt.xlabel(\"iterations\")\n",
    "    plt.ylabel(label)\n",
    "    if y_lim:\n",
    "        plt.ylim(y_lim)\n",
    "    plt.legend()\n",
    "    plt.show()"
   ],
   "metadata": {
    "collapsed": false,
    "ExecuteTime": {
     "end_time": "2023-08-04T11:11:14.206875600Z",
     "start_time": "2023-08-04T11:11:14.185874300Z"
    }
   }
  },
  {
   "cell_type": "code",
   "execution_count": 22,
   "outputs": [
    {
     "name": "stdout",
     "output_type": "stream",
     "text": [
      "===========iteration:0===========\n",
      "my_Network loss:11.850935703967867 time:0.02500319480895996\n",
      "textbook loss:12.214706747246773 time:0.017997026443481445\n",
      "===========iteration:100===========\n",
      "my_Network loss:0.2868131664316353 time:2.456599712371826\n",
      "textbook loss:0.300564911890938 time:1.7457823753356934\n",
      "===========iteration:200===========\n",
      "my_Network loss:0.08826349727341254 time:4.362180233001709\n",
      "textbook loss:0.11600671898216303 time:3.2874646186828613\n",
      "===========iteration:300===========\n",
      "my_Network loss:0.17403621139260442 time:6.257629871368408\n",
      "textbook loss:0.22242771764428004 time:4.8181164264678955\n",
      "===========iteration:400===========\n",
      "my_Network loss:0.11732663880182581 time:8.16322946548462\n",
      "textbook loss:0.15759690298621212 time:6.34788179397583\n",
      "===========iteration:500===========\n",
      "my_Network loss:0.04397098858047233 time:10.085689544677734\n",
      "textbook loss:0.029298513570549613 time:7.907634258270264\n",
      "===========iteration:600===========\n",
      "my_Network loss:0.11975451245765836 time:12.015180587768555\n",
      "textbook loss:0.1221786412784495 time:9.460048913955688\n",
      "===========iteration:700===========\n",
      "my_Network loss:0.12995866576336265 time:13.939128398895264\n",
      "textbook loss:0.17063666895556717 time:11.01206636428833\n",
      "===========iteration:800===========\n",
      "my_Network loss:0.10393481675036416 time:15.861711263656616\n",
      "textbook loss:0.09285136428206468 time:12.562548637390137\n",
      "===========iteration:900===========\n",
      "my_Network loss:0.15185633142316327 time:17.784049034118652\n",
      "textbook loss:0.12722202886311407 time:14.107616662979126\n"
     ]
    }
   ],
   "source": [
    "test_list = {\n",
    "             'my_Network':\n",
    "                 {'model':'mt1','act':'relu','std':'he','dr':None,'bn':True,'lr':0.01},\n",
    "              'textbook':\n",
    "                {'model':'mt2','act':'relu','std':'he','dr':None,'bn':True,'lr':0.01},\n",
    "             }\n",
    "\n",
    "\n",
    "\n",
    "train_acc, train_loss, test_acc, test_loss = test(test_list)"
   ],
   "metadata": {
    "collapsed": false,
    "ExecuteTime": {
     "end_time": "2023-08-04T11:11:49.787374800Z",
     "start_time": "2023-08-04T11:11:14.206875600Z"
    }
   }
  },
  {
   "cell_type": "code",
   "execution_count": 23,
   "outputs": [
    {
     "data": {
      "text/plain": "<Figure size 432x288 with 1 Axes>",
      "image/png": "[encoded data removed]"
     },
     "metadata": {
      "needs_background": "light"
     },
     "output_type": "display_data"
    }
   ],
   "source": [
    "plot('train_acc', train_acc, test_list)"
   ],
   "metadata": {
    "collapsed": false,
    "ExecuteTime": {
     "end_time": "2023-08-04T11:11:49.893289900Z",
     "start_time": "2023-08-04T11:11:49.789373700Z"
    }
   }
  },
  {
   "cell_type": "code",
   "execution_count": 24,
   "outputs": [
    {
     "data": {
      "text/plain": "<Figure size 432x288 with 1 Axes>",
      "image/png": "[encoded data removed]"
     },
     "metadata": {
      "needs_background": "light"
     },
     "output_type": "display_data"
    }
   ],
   "source": [
    "plot('train_loss', train_loss, test_list)"
   ],
   "metadata": {
    "collapsed": false,
    "ExecuteTime": {
     "end_time": "2023-08-04T11:11:49.998851700Z",
     "start_time": "2023-08-04T11:11:49.894290300Z"
    }
   }
  }
 ],
 "metadata": {
  "kernelspec": {
   "display_name": "Python 3",
   "language": "python",
   "name": "python3"
  },
  "language_info": {
   "codemirror_mode": {
    "name": "ipython",
    "version": 2
   },
   "file_extension": ".py",
   "mimetype": "text/x-python",
   "name": "python",
   "nbconvert_exporter": "python",
   "pygments_lexer": "ipython2",
   "version": "2.7.6"
  }
 },
 "nbformat": 4,
 "nbformat_minor": 0
}

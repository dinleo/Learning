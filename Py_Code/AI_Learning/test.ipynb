{
 "cells": [
  {
   "cell_type": "code",
   "execution_count": 9,
   "metadata": {
    "collapsed": true,
    "ExecuteTime": {
     "end_time": "2023-07-30T11:08:30.429954200Z",
     "start_time": "2023-07-30T11:08:30.414957900Z"
    }
   },
   "outputs": [],
   "source": [
    "import sys\n",
    "sys.path.append('C:/Users/dinle/Code/Learning/Py_Code/AI_Learning/NodeLayer')\n",
    "sys.path.append('C:/Users/dinle/Code/Learning/Py_Code/AI_Learning/mnist')\n",
    "from NodeLayer.simple_convnet import SimpleConvNet as cv1\n",
    "from mnist.ch07.simple_convnet import SimpleConvNet as cv2\n",
    "\n",
    "import matplotlib.pyplot as plt\n",
    "from mnist.dataset.mnist import load_mnist\n",
    "from mnist.common.util import smooth_curve\n",
    "from mnist.common.optimizer import *\n",
    "import numpy as np\n"
   ]
  },
  {
   "cell_type": "code",
   "execution_count": 10,
   "outputs": [],
   "source": [
    "(x_train, t_train), (x_test, t_test) = load_mnist(normalize=True)\n",
    "\n",
    "train_size = x_train.shape[0]\n",
    "test_size = x_test.shape[0]\n",
    "batch_size = 128\n",
    "max_iterations = 500\n",
    "mi = np.arange(max_iterations)\n",
    "optimizer = AdaGrad()"
   ],
   "metadata": {
    "collapsed": false,
    "ExecuteTime": {
     "end_time": "2023-07-30T11:08:30.591953200Z",
     "start_time": "2023-07-30T11:08:30.430957100Z"
    }
   }
  },
  {
   "cell_type": "code",
   "execution_count": 11,
   "outputs": [],
   "source": [
    "def test(test_list):\n",
    "    networks = {}\n",
    "    train_acc = {}\n",
    "    train_loss = {}\n",
    "    test_acc = {}\n",
    "    test_loss = {}\n",
    "    optimizer = {}\n",
    "\n",
    "\n",
    "    for key in test_list.keys():\n",
    "        # 기록 리스트 생성\n",
    "        train_acc[key] = []\n",
    "        train_loss[key] = []\n",
    "        test_acc[key] = []\n",
    "        test_loss[key] = []\n",
    "\n",
    "        # nSigmoid 경우 파라미터\n",
    "        # key == 'nSigmoid_8' -> act = nSigmoid, threshold = 8\n",
    "        model = test_list[key]['model']\n",
    "        lr = test_list[key]['lr']\n",
    "\n",
    "\n",
    "        # 네트워크와 optimizer 생성\n",
    "        if model == 'cv1':\n",
    "            networks[key] = cv1()\n",
    "        else:\n",
    "            networks[key] = cv2()\n",
    "        optimizer[key] = AdaGrad(lr)\n",
    "\n",
    "    # 학습\n",
    "    for i in range(max_iterations):\n",
    "\n",
    "        # mini-batch train\n",
    "        batch_mask = np.random.choice(train_size, batch_size)\n",
    "        x_batch = x_train[batch_mask]\n",
    "        t_batch = t_train[batch_mask]\n",
    "\n",
    "        # mini-batch test\n",
    "        batch_mask_t = np.random.choice(test_size, batch_size)\n",
    "        x_batch_t = x_test[batch_mask_t]\n",
    "        t_batch_t = t_test[batch_mask_t]\n",
    "\n",
    "        if i % 10 == 0:\n",
    "            print( \"===========\" + \"iteration:\" + str(i) + \"===========\")\n",
    "\n",
    "        # 학습\n",
    "        for key in test_list.keys():\n",
    "\n",
    "            x_batch = x_batch.reshape(-1, 1, 28, 28)\n",
    "            x_batch_t = x_batch_t.reshape(-1, 1, 28, 28)\n",
    "            # 학습\n",
    "            grads = networks[key].gradient(x_batch, t_batch)\n",
    "            optimizer[key].update(networks[key].params, grads)\n",
    "\n",
    "            # 기록\n",
    "            train_acc[key].append(networks[key].accuracy(x_batch, t_batch))\n",
    "            train_loss[key].append(networks[key].loss(x_batch, t_batch))\n",
    "            test_acc[key].append(networks[key].accuracy(x_batch_t, t_batch_t))\n",
    "            test_loss[key].append(networks[key].loss(x_batch_t, t_batch_t))\n",
    "\n",
    "            # 100회마다 경과 출력\n",
    "            if i % 10 == 0:\n",
    "                # print(key + \" loss:\" + str(acc))\n",
    "                t_loss = networks[key].loss(x_batch_t, t_batch_t)\n",
    "                print(key + \" loss:\" + str(t_loss))\n",
    "\n",
    "    return train_acc, train_loss, test_acc, test_loss\n",
    "\n",
    "\n",
    "def plot(label, datas, t_list, *y_lim):\n",
    "    for key in t_list:\n",
    "        plt.plot(mi, smooth_curve(datas[key]), markevery=50, label=key)\n",
    "    plt.xlabel(\"iterations\")\n",
    "    plt.ylabel(label)\n",
    "    if y_lim:\n",
    "        plt.ylim(y_lim)\n",
    "    plt.legend()\n",
    "    plt.show()"
   ],
   "metadata": {
    "collapsed": false,
    "ExecuteTime": {
     "end_time": "2023-07-30T11:08:30.607952800Z",
     "start_time": "2023-07-30T11:08:30.597954900Z"
    }
   }
  },
  {
   "cell_type": "code",
   "execution_count": 12,
   "outputs": [
    {
     "name": "stdout",
     "output_type": "stream",
     "text": [
      "===========iteration:0===========\n",
      "cv1 loss:2.2741339258963382\n",
      "cv2 loss:2.290481675341189\n",
      "===========iteration:10===========\n",
      "cv1 loss:0.8721273240872092\n",
      "cv2 loss:0.8180117572567469\n",
      "===========iteration:20===========\n",
      "cv1 loss:0.5258526667059373\n",
      "cv2 loss:0.5190205812941167\n",
      "===========iteration:30===========\n",
      "cv1 loss:0.5004115123729201\n",
      "cv2 loss:0.47065493650248813\n",
      "===========iteration:40===========\n",
      "cv1 loss:0.34118757307872205\n",
      "cv2 loss:0.3555830858249884\n",
      "===========iteration:50===========\n",
      "cv1 loss:0.323647025374977\n",
      "cv2 loss:0.38584755642417856\n",
      "===========iteration:60===========\n",
      "cv1 loss:0.2510692973767861\n",
      "cv2 loss:0.28699594154975483\n",
      "===========iteration:70===========\n",
      "cv1 loss:0.37016977546994034\n",
      "cv2 loss:0.43707924341475896\n",
      "===========iteration:80===========\n",
      "cv1 loss:0.21581494391420908\n",
      "cv2 loss:0.24592001806216068\n",
      "===========iteration:90===========\n",
      "cv1 loss:0.1594295092453522\n",
      "cv2 loss:0.1880619883718293\n",
      "===========iteration:100===========\n",
      "cv1 loss:0.20527213036704112\n",
      "cv2 loss:0.2641734193677355\n",
      "===========iteration:110===========\n",
      "cv1 loss:0.3441872669695086\n",
      "cv2 loss:0.4012725763111958\n",
      "===========iteration:120===========\n",
      "cv1 loss:0.29291282329664614\n",
      "cv2 loss:0.33910757133710395\n",
      "===========iteration:130===========\n",
      "cv1 loss:0.19187364241172958\n",
      "cv2 loss:0.19920663919303\n",
      "===========iteration:140===========\n",
      "cv1 loss:0.18331795551554142\n",
      "cv2 loss:0.22532989261540742\n",
      "===========iteration:150===========\n",
      "cv1 loss:0.1569325302628597\n",
      "cv2 loss:0.18417101909819805\n",
      "===========iteration:160===========\n",
      "cv1 loss:0.1783818811865405\n",
      "cv2 loss:0.2027810380473667\n",
      "===========iteration:170===========\n",
      "cv1 loss:0.1340762726342027\n",
      "cv2 loss:0.16329381196382725\n",
      "===========iteration:180===========\n",
      "cv1 loss:0.16819679034769053\n",
      "cv2 loss:0.22284652375121225\n",
      "===========iteration:190===========\n",
      "cv1 loss:0.16394979898627338\n",
      "cv2 loss:0.17057690745707343\n",
      "===========iteration:200===========\n",
      "cv1 loss:0.06149271477947032\n",
      "cv2 loss:0.08571416281841948\n",
      "===========iteration:210===========\n",
      "cv1 loss:0.1639716323548872\n",
      "cv2 loss:0.16964724968351014\n",
      "===========iteration:220===========\n",
      "cv1 loss:0.13670757356665236\n",
      "cv2 loss:0.1547172965708315\n",
      "===========iteration:230===========\n",
      "cv1 loss:0.15150363739966016\n",
      "cv2 loss:0.17172608808065806\n",
      "===========iteration:240===========\n",
      "cv1 loss:0.1415609521749377\n",
      "cv2 loss:0.17021234910575458\n",
      "===========iteration:250===========\n",
      "cv1 loss:0.1624171671983774\n",
      "cv2 loss:0.19107977336112358\n",
      "===========iteration:260===========\n",
      "cv1 loss:0.11082525581302512\n",
      "cv2 loss:0.1290981277843785\n",
      "===========iteration:270===========\n",
      "cv1 loss:0.15000754512630043\n",
      "cv2 loss:0.1484808913588589\n",
      "===========iteration:280===========\n",
      "cv1 loss:0.12823245281824308\n",
      "cv2 loss:0.15870805994543274\n",
      "===========iteration:290===========\n",
      "cv1 loss:0.14910581561040087\n",
      "cv2 loss:0.18838544105478094\n",
      "===========iteration:300===========\n",
      "cv1 loss:0.10385537349547566\n",
      "cv2 loss:0.12003129151732927\n",
      "===========iteration:310===========\n",
      "cv1 loss:0.18976938444191774\n",
      "cv2 loss:0.21512934203053374\n",
      "===========iteration:320===========\n",
      "cv1 loss:0.09329424872730224\n",
      "cv2 loss:0.11947125176652049\n",
      "===========iteration:330===========\n",
      "cv1 loss:0.0728848918939064\n",
      "cv2 loss:0.09555808608754393\n",
      "===========iteration:340===========\n",
      "cv1 loss:0.13306463622004766\n",
      "cv2 loss:0.17437605563812397\n",
      "===========iteration:350===========\n",
      "cv1 loss:0.19704992218784653\n",
      "cv2 loss:0.24006859698253574\n",
      "===========iteration:360===========\n",
      "cv1 loss:0.12894954298460412\n",
      "cv2 loss:0.15169183213565107\n",
      "===========iteration:370===========\n",
      "cv1 loss:0.07392535079307685\n",
      "cv2 loss:0.09016605608606185\n",
      "===========iteration:380===========\n",
      "cv1 loss:0.11142080061928754\n",
      "cv2 loss:0.11658581157171395\n",
      "===========iteration:390===========\n",
      "cv1 loss:0.04146684103419224\n",
      "cv2 loss:0.05825652216650341\n",
      "===========iteration:400===========\n",
      "cv1 loss:0.056215598801488326\n",
      "cv2 loss:0.07366631110578914\n",
      "===========iteration:410===========\n",
      "cv1 loss:0.09094484467518046\n",
      "cv2 loss:0.11166589003630151\n",
      "===========iteration:420===========\n",
      "cv1 loss:0.1255565722022338\n",
      "cv2 loss:0.12360016876717972\n",
      "===========iteration:430===========\n",
      "cv1 loss:0.10385439628639118\n",
      "cv2 loss:0.10384440089049637\n",
      "===========iteration:440===========\n",
      "cv1 loss:0.11659451835995266\n",
      "cv2 loss:0.1496425407853017\n",
      "===========iteration:450===========\n",
      "cv1 loss:0.05826241757492248\n",
      "cv2 loss:0.07188911839293212\n",
      "===========iteration:460===========\n",
      "cv1 loss:0.2022039854639649\n",
      "cv2 loss:0.2169868279296533\n",
      "===========iteration:470===========\n",
      "cv1 loss:0.08179719432926727\n",
      "cv2 loss:0.10344175624377641\n",
      "===========iteration:480===========\n",
      "cv1 loss:0.08700398988802308\n",
      "cv2 loss:0.09860006051986465\n",
      "===========iteration:490===========\n",
      "cv1 loss:0.09279956096577557\n",
      "cv2 loss:0.11640800348638776\n"
     ]
    }
   ],
   "source": [
    "test_list = {\n",
    "             'cv1':\n",
    "                 {'model':'cv1','lr':0.01},\n",
    "             'cv2':\n",
    "                {'model':'cv2','lr':0.01},\n",
    "             }\n",
    "\n",
    "\n",
    "\n",
    "train_acc, train_loss, test_acc, test_loss = test(test_list)"
   ],
   "metadata": {
    "collapsed": false,
    "ExecuteTime": {
     "end_time": "2023-07-30T11:17:40.821119500Z",
     "start_time": "2023-07-30T11:08:30.607952800Z"
    }
   }
  },
  {
   "cell_type": "code",
   "execution_count": 13,
   "outputs": [
    {
     "data": {
      "text/plain": "<Figure size 432x288 with 1 Axes>",
      "image/png": "[encoded data removed]"
     },
     "metadata": {
      "needs_background": "light"
     },
     "output_type": "display_data"
    }
   ],
   "source": [
    "plot('train_acc', train_acc, test_list)"
   ],
   "metadata": {
    "collapsed": false,
    "ExecuteTime": {
     "end_time": "2023-07-30T11:17:41.063282900Z",
     "start_time": "2023-07-30T11:17:40.823122Z"
    }
   }
  },
  {
   "cell_type": "code",
   "execution_count": 14,
   "outputs": [
    {
     "data": {
      "text/plain": "<Figure size 432x288 with 1 Axes>",
      "image/png": "[encoded data removed]"
     },
     "metadata": {
      "needs_background": "light"
     },
     "output_type": "display_data"
    }
   ],
   "source": [
    "plot('train_loss', train_loss, test_list)"
   ],
   "metadata": {
    "collapsed": false,
    "ExecuteTime": {
     "end_time": "2023-07-30T11:17:41.181819900Z",
     "start_time": "2023-07-30T11:17:41.063282900Z"
    }
   }
  }
 ],
 "metadata": {
  "kernelspec": {
   "display_name": "Python 3",
   "language": "python",
   "name": "python3"
  },
  "language_info": {
   "codemirror_mode": {
    "name": "ipython",
    "version": 2
   },
   "file_extension": ".py",
   "mimetype": "text/x-python",
   "name": "python",
   "nbconvert_exporter": "python",
   "pygments_lexer": "ipython2",
   "version": "2.7.6"
  }
 },
 "nbformat": 4,
 "nbformat_minor": 0
}

{
 "cells": [
  {
   "cell_type": "code",
   "execution_count": 1,
   "metadata": {
    "collapsed": true,
    "ExecuteTime": {
     "end_time": "2023-08-01T13:09:51.890869800Z",
     "start_time": "2023-08-01T13:09:51.162067200Z"
    }
   },
   "outputs": [],
   "source": [
    "import sys\n",
    "sys.path.append('C:/Users/dinle/Code/Learning/Py_Code/AI_Learning/NodeLayer')\n",
    "sys.path.append('C:/Users/dinle/Code/Learning/Py_Code/AI_Learning/mnist')\n",
    "from NodeLayer.simple_convnet import SimpleConvNet as cv1\n",
    "from mnist.ch07.simple_convnet import SimpleConvNet as cv2\n",
    "\n",
    "import matplotlib.pyplot as plt\n",
    "from mnist.dataset.mnist import load_mnist\n",
    "from mnist.common.util import smooth_curve\n",
    "from mnist.common.optimizer import *\n",
    "import numpy as np\n",
    "import time\n"
   ]
  },
  {
   "cell_type": "code",
   "execution_count": 2,
   "outputs": [],
   "source": [
    "(x_train, t_train), (x_test, t_test) = load_mnist(normalize=True)\n",
    "\n",
    "train_size = x_train.shape[0]\n",
    "test_size = x_test.shape[0]\n",
    "batch_size = 128\n",
    "max_iterations = 1000\n",
    "mi = np.arange(max_iterations)\n",
    "optimizer = AdaGrad()"
   ],
   "metadata": {
    "collapsed": false,
    "ExecuteTime": {
     "end_time": "2023-08-01T13:09:52.010372Z",
     "start_time": "2023-08-01T13:09:51.891868700Z"
    }
   }
  },
  {
   "cell_type": "code",
   "execution_count": 3,
   "outputs": [],
   "source": [
    "def test(test_list):\n",
    "    networks = {}\n",
    "    train_acc = {}\n",
    "    train_loss = {}\n",
    "    test_acc = {}\n",
    "    test_loss = {}\n",
    "    optimizer = {}\n",
    "    time_record = {}\n",
    "\n",
    "    for key in test_list.keys():\n",
    "        # 기록 리스트 생성\n",
    "        train_acc[key] = []\n",
    "        train_loss[key] = []\n",
    "        test_acc[key] = []\n",
    "        test_loss[key] = []\n",
    "        time_record[key] = 0\n",
    "\n",
    "        # nSigmoid 경우 파라미터\n",
    "        # key == 'nSigmoid_8' -> act = nSigmoid, threshold = 8\n",
    "        model = test_list[key]['model']\n",
    "        lr = test_list[key]['lr']\n",
    "\n",
    "\n",
    "        # 네트워크와 optimizer 생성\n",
    "        if model == 'cv1':\n",
    "            networks[key] = cv1()\n",
    "        else:\n",
    "            networks[key] = cv2()\n",
    "        optimizer[key] = AdaGrad(lr)\n",
    "\n",
    "    # 학습\n",
    "    for i in range(max_iterations):\n",
    "\n",
    "        # mini-batch train\n",
    "        batch_mask = np.random.choice(train_size, batch_size)\n",
    "        x_batch = x_train[batch_mask]\n",
    "        t_batch = t_train[batch_mask]\n",
    "\n",
    "        # mini-batch test\n",
    "        batch_mask_t = np.random.choice(test_size, batch_size)\n",
    "        x_batch_t = x_test[batch_mask_t]\n",
    "        t_batch_t = t_test[batch_mask_t]\n",
    "\n",
    "        if i % 10 == 0:\n",
    "            print( \"===========\" + \"iteration:\" + str(i) + \"===========\")\n",
    "\n",
    "        # 학습\n",
    "        for key in test_list.keys():\n",
    "            start = time.time()\n",
    "            x_batch = x_batch.reshape(-1, 1, 28, 28)\n",
    "            x_batch_t = x_batch_t.reshape(-1, 1, 28, 28)\n",
    "            # 학습\n",
    "            grads = networks[key].gradient(x_batch, t_batch)\n",
    "            optimizer[key].update(networks[key].params, grads)\n",
    "\n",
    "            # 기록\n",
    "            train_acc[key].append(networks[key].accuracy(x_batch, t_batch))\n",
    "            train_loss[key].append(networks[key].loss(x_batch, t_batch))\n",
    "            test_acc[key].append(networks[key].accuracy(x_batch_t, t_batch_t))\n",
    "            test_loss[key].append(networks[key].loss(x_batch_t, t_batch_t))\n",
    "\n",
    "\n",
    "            # 100회마다 경과 출력\n",
    "            if i % 10 == 0:\n",
    "                # print(key + \" loss:\" + str(acc))\n",
    "                t_loss = networks[key].loss(x_batch_t, t_batch_t)\n",
    "                end = time.time()\n",
    "                time_record[key] += (end-start)\n",
    "                print(key + \" loss:\" + str(t_loss) + \" time:\" + str(time_record[key]))\n",
    "            else:\n",
    "                end = time.time()\n",
    "                time_record[key] += (end-start)\n",
    "\n",
    "    return train_acc, train_loss, test_acc, test_loss\n",
    "\n",
    "\n",
    "def plot(label, datas, t_list, *y_lim):\n",
    "    for key in t_list:\n",
    "        plt.plot(mi, smooth_curve(datas[key]), markevery=50, label=key)\n",
    "    plt.xlabel(\"iterations\")\n",
    "    plt.ylabel(label)\n",
    "    if y_lim:\n",
    "        plt.ylim(y_lim)\n",
    "    plt.legend()\n",
    "    plt.show()"
   ],
   "metadata": {
    "collapsed": false,
    "ExecuteTime": {
     "end_time": "2023-08-01T13:09:52.025373500Z",
     "start_time": "2023-08-01T13:09:52.017372800Z"
    }
   }
  },
  {
   "cell_type": "code",
   "execution_count": 4,
   "outputs": [
    {
     "name": "stdout",
     "output_type": "stream",
     "text": [
      "===========iteration:0===========\n",
      "my_Network loss:2.2984591110164256 time:0.9125804901123047\n",
      "textbook loss:2.2826905337260417 time:0.9159562587738037\n"
     ]
    },
    {
     "ename": "KeyboardInterrupt",
     "evalue": "",
     "output_type": "error",
     "traceback": [
      "\u001B[1;31m---------------------------------------------------------------------------\u001B[0m",
      "\u001B[1;31mKeyboardInterrupt\u001B[0m                         Traceback (most recent call last)",
      "Input \u001B[1;32mIn [4]\u001B[0m, in \u001B[0;36m<cell line: 10>\u001B[1;34m()\u001B[0m\n\u001B[0;32m      1\u001B[0m test_list \u001B[38;5;241m=\u001B[39m {\n\u001B[0;32m      2\u001B[0m              \u001B[38;5;124m'\u001B[39m\u001B[38;5;124mmy_Network\u001B[39m\u001B[38;5;124m'\u001B[39m:\n\u001B[0;32m      3\u001B[0m                  {\u001B[38;5;124m'\u001B[39m\u001B[38;5;124mmodel\u001B[39m\u001B[38;5;124m'\u001B[39m:\u001B[38;5;124m'\u001B[39m\u001B[38;5;124mcv1\u001B[39m\u001B[38;5;124m'\u001B[39m,\u001B[38;5;124m'\u001B[39m\u001B[38;5;124mlr\u001B[39m\u001B[38;5;124m'\u001B[39m:\u001B[38;5;241m0.01\u001B[39m},\n\u001B[0;32m      4\u001B[0m               \u001B[38;5;124m'\u001B[39m\u001B[38;5;124mtextbook\u001B[39m\u001B[38;5;124m'\u001B[39m:\n\u001B[0;32m      5\u001B[0m                 {\u001B[38;5;124m'\u001B[39m\u001B[38;5;124mmodel\u001B[39m\u001B[38;5;124m'\u001B[39m:\u001B[38;5;124m'\u001B[39m\u001B[38;5;124mcv2\u001B[39m\u001B[38;5;124m'\u001B[39m,\u001B[38;5;124m'\u001B[39m\u001B[38;5;124mlr\u001B[39m\u001B[38;5;124m'\u001B[39m:\u001B[38;5;241m0.01\u001B[39m},\n\u001B[0;32m      6\u001B[0m              }\n\u001B[1;32m---> 10\u001B[0m train_acc, train_loss, test_acc, test_loss \u001B[38;5;241m=\u001B[39m \u001B[43mtest\u001B[49m\u001B[43m(\u001B[49m\u001B[43mtest_list\u001B[49m\u001B[43m)\u001B[49m\n",
      "Input \u001B[1;32mIn [3]\u001B[0m, in \u001B[0;36mtest\u001B[1;34m(test_list)\u001B[0m\n\u001B[0;32m     51\u001B[0m x_batch_t \u001B[38;5;241m=\u001B[39m x_batch_t\u001B[38;5;241m.\u001B[39mreshape(\u001B[38;5;241m-\u001B[39m\u001B[38;5;241m1\u001B[39m, \u001B[38;5;241m1\u001B[39m, \u001B[38;5;241m28\u001B[39m, \u001B[38;5;241m28\u001B[39m)\n\u001B[0;32m     52\u001B[0m \u001B[38;5;66;03m# 학습\u001B[39;00m\n\u001B[1;32m---> 53\u001B[0m grads \u001B[38;5;241m=\u001B[39m \u001B[43mnetworks\u001B[49m\u001B[43m[\u001B[49m\u001B[43mkey\u001B[49m\u001B[43m]\u001B[49m\u001B[38;5;241;43m.\u001B[39;49m\u001B[43mgradient\u001B[49m\u001B[43m(\u001B[49m\u001B[43mx_batch\u001B[49m\u001B[43m,\u001B[49m\u001B[43m \u001B[49m\u001B[43mt_batch\u001B[49m\u001B[43m)\u001B[49m\n\u001B[0;32m     54\u001B[0m optimizer[key]\u001B[38;5;241m.\u001B[39mupdate(networks[key]\u001B[38;5;241m.\u001B[39mparams, grads)\n\u001B[0;32m     56\u001B[0m \u001B[38;5;66;03m# 기록\u001B[39;00m\n",
      "File \u001B[1;32m~\\Code\\Learning\\Py_Code\\AI_Learning\\NodeLayer\\simple_convnet.py:103\u001B[0m, in \u001B[0;36mSimpleConvNet.gradient\u001B[1;34m(self, x, t)\u001B[0m\n\u001B[0;32m     89\u001B[0m \u001B[38;5;124;03m\"\"\"기울기를 구한다(오차역전파법).\u001B[39;00m\n\u001B[0;32m     90\u001B[0m \n\u001B[0;32m     91\u001B[0m \u001B[38;5;124;03mParameters\u001B[39;00m\n\u001B[1;32m   (...)\u001B[0m\n\u001B[0;32m    100\u001B[0m \u001B[38;5;124;03m    grads['b1']、grads['b2']、... 각 층의 편향\u001B[39;00m\n\u001B[0;32m    101\u001B[0m \u001B[38;5;124;03m\"\"\"\u001B[39;00m\n\u001B[0;32m    102\u001B[0m \u001B[38;5;66;03m# forward\u001B[39;00m\n\u001B[1;32m--> 103\u001B[0m \u001B[38;5;28;43mself\u001B[39;49m\u001B[38;5;241;43m.\u001B[39;49m\u001B[43mloss\u001B[49m\u001B[43m(\u001B[49m\u001B[43mx\u001B[49m\u001B[43m,\u001B[49m\u001B[43m \u001B[49m\u001B[43mt\u001B[49m\u001B[43m)\u001B[49m\n\u001B[0;32m    105\u001B[0m \u001B[38;5;66;03m# backward\u001B[39;00m\n\u001B[0;32m    106\u001B[0m dout \u001B[38;5;241m=\u001B[39m \u001B[38;5;241m1\u001B[39m\n",
      "File \u001B[1;32m~\\Code\\Learning\\Py_Code\\AI_Learning\\NodeLayer\\simple_convnet.py:71\u001B[0m, in \u001B[0;36mSimpleConvNet.loss\u001B[1;34m(self, x, t)\u001B[0m\n\u001B[0;32m     63\u001B[0m \u001B[38;5;28;01mdef\u001B[39;00m \u001B[38;5;21mloss\u001B[39m(\u001B[38;5;28mself\u001B[39m, x, t):\n\u001B[0;32m     64\u001B[0m     \u001B[38;5;124;03m\"\"\"손실 함수를 구한다.\u001B[39;00m\n\u001B[0;32m     65\u001B[0m \n\u001B[0;32m     66\u001B[0m \u001B[38;5;124;03m    Parameters\u001B[39;00m\n\u001B[1;32m   (...)\u001B[0m\n\u001B[0;32m     69\u001B[0m \u001B[38;5;124;03m    t : 정답 레이블\u001B[39;00m\n\u001B[0;32m     70\u001B[0m \u001B[38;5;124;03m    \"\"\"\u001B[39;00m\n\u001B[1;32m---> 71\u001B[0m     y \u001B[38;5;241m=\u001B[39m \u001B[38;5;28;43mself\u001B[39;49m\u001B[38;5;241;43m.\u001B[39;49m\u001B[43mpredict\u001B[49m\u001B[43m(\u001B[49m\u001B[43mx\u001B[49m\u001B[43m)\u001B[49m\n\u001B[0;32m     72\u001B[0m     \u001B[38;5;28;01mreturn\u001B[39;00m \u001B[38;5;28mself\u001B[39m\u001B[38;5;241m.\u001B[39mlast_layer\u001B[38;5;241m.\u001B[39mforward(y, t)\n",
      "File \u001B[1;32m~\\Code\\Learning\\Py_Code\\AI_Learning\\NodeLayer\\simple_convnet.py:59\u001B[0m, in \u001B[0;36mSimpleConvNet.predict\u001B[1;34m(self, x)\u001B[0m\n\u001B[0;32m     57\u001B[0m \u001B[38;5;28;01mdef\u001B[39;00m \u001B[38;5;21mpredict\u001B[39m(\u001B[38;5;28mself\u001B[39m, x):\n\u001B[0;32m     58\u001B[0m     \u001B[38;5;28;01mfor\u001B[39;00m layer \u001B[38;5;129;01min\u001B[39;00m \u001B[38;5;28mself\u001B[39m\u001B[38;5;241m.\u001B[39mlayers\u001B[38;5;241m.\u001B[39mvalues():\n\u001B[1;32m---> 59\u001B[0m         x \u001B[38;5;241m=\u001B[39m \u001B[43mlayer\u001B[49m\u001B[38;5;241;43m.\u001B[39;49m\u001B[43mforward\u001B[49m\u001B[43m(\u001B[49m\u001B[43mx\u001B[49m\u001B[43m)\u001B[49m\n\u001B[0;32m     61\u001B[0m     \u001B[38;5;28;01mreturn\u001B[39;00m x\n",
      "File \u001B[1;32mC:\\Users/dinle/Code/Learning/Py_Code/AI_Learning/NodeLayer\\layers.py:236\u001B[0m, in \u001B[0;36mPooling.forward\u001B[1;34m(self, x)\u001B[0m\n\u001B[0;32m    233\u001B[0m \u001B[38;5;28mself\u001B[39m\u001B[38;5;241m.\u001B[39mget_x\u001B[38;5;241m.\u001B[39mv \u001B[38;5;241m=\u001B[39m x\n\u001B[0;32m    234\u001B[0m \u001B[38;5;28mself\u001B[39m\u001B[38;5;241m.\u001B[39mreshape_node2\u001B[38;5;241m.\u001B[39mshape \u001B[38;5;241m=\u001B[39m [N, out_h, out_w, C]\n\u001B[1;32m--> 236\u001B[0m \u001B[38;5;28;01mreturn\u001B[39;00m \u001B[38;5;28;43mself\u001B[39;49m\u001B[38;5;241;43m.\u001B[39;49m\u001B[43mlast_node\u001B[49m\u001B[38;5;241;43m.\u001B[39;49m\u001B[43mforward\u001B[49m\u001B[43m(\u001B[49m\u001B[43m)\u001B[49m\n",
      "File \u001B[1;32mC:\\Users/dinle/Code/Learning/Py_Code/AI_Learning/NodeLayer\\nodes\\structure_node.py:41\u001B[0m, in \u001B[0;36mTranspose.forward\u001B[1;34m(self)\u001B[0m\n\u001B[0;32m     40\u001B[0m \u001B[38;5;28;01mdef\u001B[39;00m \u001B[38;5;21mforward\u001B[39m(\u001B[38;5;28mself\u001B[39m):\n\u001B[1;32m---> 41\u001B[0m     x \u001B[38;5;241m=\u001B[39m \u001B[38;5;28;43mself\u001B[39;49m\u001B[38;5;241;43m.\u001B[39;49m\u001B[43mx_node\u001B[49m\u001B[38;5;241;43m.\u001B[39;49m\u001B[43mforward\u001B[49m\u001B[43m(\u001B[49m\u001B[43m)\u001B[49m\n\u001B[0;32m     43\u001B[0m     \u001B[38;5;28;01mreturn\u001B[39;00m x\u001B[38;5;241m.\u001B[39mtranspose(\u001B[38;5;241m*\u001B[39m\u001B[38;5;28mself\u001B[39m\u001B[38;5;241m.\u001B[39mshape)\n",
      "File \u001B[1;32mC:\\Users/dinle/Code/Learning/Py_Code/AI_Learning/NodeLayer\\nodes\\structure_node.py:10\u001B[0m, in \u001B[0;36mReshape.forward\u001B[1;34m(self)\u001B[0m\n\u001B[0;32m      9\u001B[0m \u001B[38;5;28;01mdef\u001B[39;00m \u001B[38;5;21mforward\u001B[39m(\u001B[38;5;28mself\u001B[39m):\n\u001B[1;32m---> 10\u001B[0m     x \u001B[38;5;241m=\u001B[39m \u001B[38;5;28;43mself\u001B[39;49m\u001B[38;5;241;43m.\u001B[39;49m\u001B[43mx_node\u001B[49m\u001B[38;5;241;43m.\u001B[39;49m\u001B[43mforward\u001B[49m\u001B[43m(\u001B[49m\u001B[43m)\u001B[49m\n\u001B[0;32m     11\u001B[0m     \u001B[38;5;28mself\u001B[39m\u001B[38;5;241m.\u001B[39mx_shape \u001B[38;5;241m=\u001B[39m x\u001B[38;5;241m.\u001B[39mshape\n\u001B[0;32m     13\u001B[0m     \u001B[38;5;28;01mreturn\u001B[39;00m x\u001B[38;5;241m.\u001B[39mreshape(\u001B[38;5;241m*\u001B[39m\u001B[38;5;28mself\u001B[39m\u001B[38;5;241m.\u001B[39mshape)\n",
      "File \u001B[1;32mC:\\Users/dinle/Code/Learning/Py_Code/AI_Learning/NodeLayer\\nodes\\axis_node.py:95\u001B[0m, in \u001B[0;36mMax.forward\u001B[1;34m(self)\u001B[0m\n\u001B[0;32m     94\u001B[0m \u001B[38;5;28;01mdef\u001B[39;00m \u001B[38;5;21mforward\u001B[39m(\u001B[38;5;28mself\u001B[39m):\n\u001B[1;32m---> 95\u001B[0m     x \u001B[38;5;241m=\u001B[39m \u001B[38;5;28;43mself\u001B[39;49m\u001B[38;5;241;43m.\u001B[39;49m\u001B[43mx_node\u001B[49m\u001B[38;5;241;43m.\u001B[39;49m\u001B[43mforward\u001B[49m\u001B[43m(\u001B[49m\u001B[43m)\u001B[49m\n\u001B[0;32m     96\u001B[0m     out \u001B[38;5;241m=\u001B[39m np\u001B[38;5;241m.\u001B[39mmax(x, axis\u001B[38;5;241m=\u001B[39m\u001B[38;5;28mself\u001B[39m\u001B[38;5;241m.\u001B[39maxis)\n\u001B[0;32m     98\u001B[0m     \u001B[38;5;28mself\u001B[39m\u001B[38;5;241m.\u001B[39mx_shape \u001B[38;5;241m=\u001B[39m x\u001B[38;5;241m.\u001B[39mshape\n",
      "File \u001B[1;32mC:\\Users/dinle/Code/Learning/Py_Code/AI_Learning/NodeLayer\\nodes\\structure_node.py:10\u001B[0m, in \u001B[0;36mReshape.forward\u001B[1;34m(self)\u001B[0m\n\u001B[0;32m      9\u001B[0m \u001B[38;5;28;01mdef\u001B[39;00m \u001B[38;5;21mforward\u001B[39m(\u001B[38;5;28mself\u001B[39m):\n\u001B[1;32m---> 10\u001B[0m     x \u001B[38;5;241m=\u001B[39m \u001B[38;5;28;43mself\u001B[39;49m\u001B[38;5;241;43m.\u001B[39;49m\u001B[43mx_node\u001B[49m\u001B[38;5;241;43m.\u001B[39;49m\u001B[43mforward\u001B[49m\u001B[43m(\u001B[49m\u001B[43m)\u001B[49m\n\u001B[0;32m     11\u001B[0m     \u001B[38;5;28mself\u001B[39m\u001B[38;5;241m.\u001B[39mx_shape \u001B[38;5;241m=\u001B[39m x\u001B[38;5;241m.\u001B[39mshape\n\u001B[0;32m     13\u001B[0m     \u001B[38;5;28;01mreturn\u001B[39;00m x\u001B[38;5;241m.\u001B[39mreshape(\u001B[38;5;241m*\u001B[39m\u001B[38;5;28mself\u001B[39m\u001B[38;5;241m.\u001B[39mshape)\n",
      "File \u001B[1;32mC:\\Users/dinle/Code/Learning/Py_Code/AI_Learning/NodeLayer\\nodes\\structure_node.py:77\u001B[0m, in \u001B[0;36mImg2Matrix.forward\u001B[1;34m(self)\u001B[0m\n\u001B[0;32m     75\u001B[0m     \u001B[38;5;28;01mfor\u001B[39;00m x \u001B[38;5;129;01min\u001B[39;00m \u001B[38;5;28mrange\u001B[39m(fw):\n\u001B[0;32m     76\u001B[0m         x_max \u001B[38;5;241m=\u001B[39m x \u001B[38;5;241m+\u001B[39m stride \u001B[38;5;241m*\u001B[39m out_w\n\u001B[1;32m---> 77\u001B[0m         col[:, :, y, x, :, :] \u001B[38;5;241m=\u001B[39m img[:, :, y:y_max:stride, x:x_max:stride]\n\u001B[0;32m     79\u001B[0m col \u001B[38;5;241m=\u001B[39m col\u001B[38;5;241m.\u001B[39mtranspose(\u001B[38;5;241m0\u001B[39m, \u001B[38;5;241m4\u001B[39m, \u001B[38;5;241m5\u001B[39m, \u001B[38;5;241m1\u001B[39m, \u001B[38;5;241m2\u001B[39m, \u001B[38;5;241m3\u001B[39m)\u001B[38;5;241m.\u001B[39mreshape(N \u001B[38;5;241m*\u001B[39m out_h \u001B[38;5;241m*\u001B[39m out_w, \u001B[38;5;241m-\u001B[39m\u001B[38;5;241m1\u001B[39m)\n\u001B[0;32m     81\u001B[0m \u001B[38;5;28;01mreturn\u001B[39;00m col\n",
      "\u001B[1;31mKeyboardInterrupt\u001B[0m: "
     ]
    }
   ],
   "source": [
    "test_list = {\n",
    "             'my_Network':\n",
    "                 {'model':'cv1','lr':0.01},\n",
    "              'textbook':\n",
    "                {'model':'cv2','lr':0.01},\n",
    "             }\n",
    "\n",
    "\n",
    "\n",
    "train_acc, train_loss, test_acc, test_loss = test(test_list)"
   ],
   "metadata": {
    "collapsed": false,
    "ExecuteTime": {
     "end_time": "2023-08-01T13:09:59.225040900Z",
     "start_time": "2023-08-01T13:09:52.026371400Z"
    }
   }
  },
  {
   "cell_type": "code",
   "execution_count": null,
   "outputs": [],
   "source": [
    "plot('train_acc', train_acc, test_list)"
   ],
   "metadata": {
    "collapsed": false,
    "ExecuteTime": {
     "start_time": "2023-08-01T13:09:59.224039600Z"
    }
   }
  },
  {
   "cell_type": "code",
   "execution_count": null,
   "outputs": [],
   "source": [
    "plot('train_loss', train_loss, test_list)"
   ],
   "metadata": {
    "collapsed": false,
    "ExecuteTime": {
     "start_time": "2023-08-01T13:09:59.224039600Z"
    }
   }
  }
 ],
 "metadata": {
  "kernelspec": {
   "display_name": "Python 3",
   "language": "python",
   "name": "python3"
  },
  "language_info": {
   "codemirror_mode": {
    "name": "ipython",
    "version": 2
   },
   "file_extension": ".py",
   "mimetype": "text/x-python",
   "name": "python",
   "nbconvert_exporter": "python",
   "pygments_lexer": "ipython2",
   "version": "2.7.6"
  }
 },
 "nbformat": 4,
 "nbformat_minor": 0
}

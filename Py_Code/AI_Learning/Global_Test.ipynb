{
 "cells": [
  {
   "cell_type": "markdown",
   "source": [],
   "metadata": {
    "collapsed": false
   }
  },
  {
   "cell_type": "code",
   "execution_count": 1,
   "metadata": {
    "collapsed": true,
    "ExecuteTime": {
     "end_time": "2023-08-08T18:53:11.461223400Z",
     "start_time": "2023-08-08T18:53:10.601672300Z"
    }
   },
   "outputs": [],
   "source": [
    "import sys\n",
    "import os\n",
    "sys.path.append('C:/Users/dinle/Code/Learning/Py_Code/AI_Learning/mnist')\n",
    "sys.path.append('C:/Users/dinle/Code/Learning/Py_Code/AI_Learning/NodeLayer')\n",
    "from NodeLayer.Networks.multi_layer_net_extend import MultiLayerNetExtend as MLE1\n",
    "from NodeLayer.Networks.simple_convnet import SimpleConvNet as CVS1\n",
    "from NodeLayer.Networks.deep_convnet import DeepConvNet as CVD1\n",
    "from mnist.common.multi_layer_net_extend import MultiLayerNetExtend as MLE2\n",
    "from mnist.ch07.simple_convnet import SimpleConvNet as CVS2\n",
    "from mnist.ch08.deep_convnet import DeepConvNet as CVD2\n",
    "import matplotlib.pyplot as plt\n",
    "from mnist.dataset.mnist import load_mnist\n",
    "from mnist.common.util import smooth_curve\n",
    "from mnist.common.optimizer import *\n",
    "import numpy as np\n",
    "import time\n"
   ]
  },
  {
   "cell_type": "code",
   "execution_count": 2,
   "outputs": [],
   "source": [
    "(x_train, t_train), (x_test, t_test) = load_mnist(normalize=True)\n",
    "x_train = x_train[:1000]\n",
    "t_train = t_train[:1000]\n",
    "train_size = x_train.shape[0]\n",
    "test_size = x_test.shape[0]\n",
    "batch_size = 100\n",
    "max_iterations = 1000\n",
    "print_iter = 100\n",
    "mi = np.arange(max_iterations)\n",
    "optimizer = AdaGrad()"
   ],
   "metadata": {
    "collapsed": false,
    "ExecuteTime": {
     "end_time": "2023-08-08T18:53:11.565877800Z",
     "start_time": "2023-08-08T18:53:11.461223400Z"
    }
   }
  },
  {
   "cell_type": "code",
   "execution_count": 3,
   "outputs": [],
   "source": [
    "def test(test_list, max_acc=None):\n",
    "    networks = {}\n",
    "    train_acc = {}\n",
    "    train_loss = {}\n",
    "    test_acc = {}\n",
    "    test_loss = {}\n",
    "    optimizer = {}\n",
    "    total_step = {}\n",
    "    time_record = {}\n",
    "\n",
    "    for key in test_list.keys():\n",
    "        # 기록 리스트 생성\n",
    "        train_acc[key] = []\n",
    "        train_loss[key] = []\n",
    "        test_acc[key] = []\n",
    "        test_loss[key] = []\n",
    "        total_step[key] = 0\n",
    "        time_record[key] = 0\n",
    "\n",
    "        # nSigmoid 경우 파라미터\n",
    "        # key == 'nSigmoid_8' -> act = nSigmoid, threshold = 8\n",
    "        model = test_list[key]['model']\n",
    "        opt = test_list[key]['opt']\n",
    "        lr = test_list[key]['lr']\n",
    "\n",
    "\n",
    "        # 네트워크 모델 생성\n",
    "        if model == 'MLE1':\n",
    "            act = test_list[key]['act']\n",
    "            std = test_list[key]['std']\n",
    "            dr = test_list[key]['dr']\n",
    "            bn = test_list[key]['bn']\n",
    "            bp = test_list[key]['bp']\n",
    "            do = False\n",
    "            if dr is not None:\n",
    "                do = True\n",
    "            networks[key] = MLE1(input_size=784, hidden_size_list=[100, 100, 100, 100],\n",
    "                                output_size=10, use_dropout=do, dropout_ration=dr, activation=act, weight_init_std=std, use_batchnorm=bn, batch_pos=bp)\n",
    "        elif model == 'MLE2':\n",
    "            act = test_list[key]['act']\n",
    "            std = test_list[key]['std']\n",
    "            dr = test_list[key]['dr']\n",
    "            bn = test_list[key]['bn']\n",
    "            do = False\n",
    "            if dr is not None:\n",
    "                do = True\n",
    "            networks[key] = MLE2(input_size=784, hidden_size_list=[100, 100, 100, 100],\n",
    "                                 output_size=10, use_dropout=do, dropout_ration=dr, activation=act, weight_init_std=std, use_batchnorm=bn)\n",
    "        elif model == 'CVS1':\n",
    "            networks[key] = CVS1()\n",
    "        elif model == 'CVS2':\n",
    "            networks[key] = CVS2()\n",
    "        elif model == 'CVD1':\n",
    "            networks[key] = CVD1()\n",
    "        elif model == 'CVD2':\n",
    "            networks[key] = CVD2()\n",
    "        else:\n",
    "            assert 'no model' + model\n",
    "\n",
    "        # optimizer 생성\n",
    "        if opt == 'SGD':\n",
    "            optimizer[key] = SGD(lr)\n",
    "        elif opt == 'AdaGrad':\n",
    "            optimizer[key] = AdaGrad(lr)\n",
    "        elif opt == 'Adam':\n",
    "            optimizer[key] = Adam(lr)\n",
    "        else:\n",
    "            assert 'no opt' + opt\n",
    "\n",
    "    # 파라미터 통일\n",
    "    networks1 = networks['My']\n",
    "    networks2 = networks['Text']\n",
    "    for k in networks1.params.keys():\n",
    "        for i in range(networks1.params[k].shape[0]):\n",
    "            networks1.params[k][i] = networks2.params[k][i].copy()\n",
    "\n",
    "    # 학습\n",
    "    for i in range(max_iterations):\n",
    "        # if 0 not in total_step.values():\n",
    "        #     print(\"All test list training Done\\nStep: \" + str(i))\n",
    "        #     break\n",
    "\n",
    "        # mini-batch train\n",
    "        batch_mask = np.random.choice(train_size, batch_size)\n",
    "        x_batch = x_train[batch_mask]\n",
    "        t_batch = t_train[batch_mask]\n",
    "\n",
    "        # mini-batch test\n",
    "        batch_mask_t = np.random.choice(test_size, batch_size)\n",
    "        x_batch_t = x_test[batch_mask_t]\n",
    "        t_batch_t = t_test[batch_mask_t]\n",
    "\n",
    "        # print_iter 회마다 경과 출력\n",
    "        if i % print_iter == 0:\n",
    "            print( \"=\"*15 + \"iteration:\" + str(i) + \"=\"*15)\n",
    "            print(\"{:^9}|{:^9}|{:^9}|{:^9}\".format('model','time','acc','loss'))\n",
    "\n",
    "        # 학습 & 추론 & 기록\n",
    "        for key in test_list.keys():\n",
    "            if total_step[key] != 0:\n",
    "                # Max acc 에 도달해 학습이 끝난 test model\n",
    "                continue\n",
    "            else:\n",
    "                start = time.time()\n",
    "                # CV 모델 데이터 처리\n",
    "                if test_list[key]['model'].startswith('CV'):\n",
    "                    x_batch = x_batch.reshape(-1, 1, 28, 28)\n",
    "                    x_batch_t = x_batch_t.reshape(-1, 1, 28, 28)\n",
    "                #\n",
    "                # # 학습(역전파)\n",
    "                # b_strat = time.time()\n",
    "\n",
    "                grads = networks[key].gradient(x_batch, t_batch)\n",
    "                optimizer[key].update(networks[key].params, grads)\n",
    "                # b_end = time.time()\n",
    "                # print(key, \"학습: \", b_end - b_strat)\n",
    "\n",
    "                # 추론(순전파)\n",
    "                if key.endswith(\"1\"):\n",
    "                    # f_strat = time.time()\n",
    "                    tr_acc, tr_loss = networks[key].acc_and_loss(x_batch, t_batch)\n",
    "                    ts_acc, ts_loss = networks[key].acc_and_loss(x_batch_t, t_batch_t)\n",
    "                    f_end = time.time()\n",
    "                    # print(key, \"추론: \", f_end - f_strat)\n",
    "                else:\n",
    "                    # f_strat = time.time()\n",
    "                    if test_list[key]['model'].startswith('CV'):\n",
    "                        tr_acc = networks[key].accuracy(x_batch, t_batch, batch_size)\n",
    "                        ts_acc = networks[key].accuracy(x_batch_t, t_batch_t, batch_size)\n",
    "                    else:\n",
    "                        tr_acc = networks[key].accuracy(x_batch, t_batch)\n",
    "                        ts_acc = networks[key].accuracy(x_batch_t, t_batch_t)\n",
    "                    tr_loss = networks[key].loss(x_batch, t_batch)\n",
    "                    ts_loss = networks[key].loss(x_batch_t, t_batch_t)\n",
    "                    # f_end = time.time()\n",
    "                    # print(key, \"추론: \", f_end - f_strat)\n",
    "\n",
    "                # 기록\n",
    "                train_acc[key].append(tr_acc)\n",
    "                train_loss[key].append(tr_loss)\n",
    "                test_acc[key].append(ts_acc)\n",
    "                test_loss[key].append(ts_loss)\n",
    "                end = time.time()\n",
    "                time_record[key] += (end-start)\n",
    "\n",
    "                # max accuracy 도달 해당 모델 학습 종료\n",
    "                if max_acc and max_acc <= ts_acc:\n",
    "                    total_step[key] = i\n",
    "                    print(key + \" training end!\\nacc : \" + str(ts_acc) + \" step: \" + str(i))\n",
    "\n",
    "                # print_iter 회마다 경과 출력\n",
    "                if i % print_iter == 0:\n",
    "                    print(\"{:^9}| {:0<7.3f} | {:0<.5f} | {:0<.5f}\".format(key, time_record[key],tr_acc,tr_loss))\n",
    "\n",
    "    return train_acc, train_loss, test_acc, test_loss, total_step\n",
    "\n",
    "\n",
    "def plot(label, datas, t_list, *y_lim):\n",
    "    for key in t_list:\n",
    "        plt.plot( smooth_curve(datas[key]), markevery=50, label=key)\n",
    "    plt.xlabel(\"iterations\")\n",
    "    plt.ylabel(label)\n",
    "    if y_lim:\n",
    "        plt.ylim(y_lim)\n",
    "    plt.legend()\n",
    "    plt.show()"
   ],
   "metadata": {
    "collapsed": false,
    "ExecuteTime": {
     "end_time": "2023-08-08T18:53:11.596916900Z",
     "start_time": "2023-08-08T18:53:11.575848800Z"
    }
   }
  },
  {
   "cell_type": "code",
   "execution_count": 4,
   "outputs": [
    {
     "name": "stdout",
     "output_type": "stream",
     "text": [
      "===============iteration:0===============\n",
      "  model  |  time   |   acc   |  loss   \n",
      "   My    | 0.01500 | 0.13000 | 2.33233\n",
      "  Text   | 0.01300 | 0.13000 | 2.33233\n",
      "===============iteration:100===============\n",
      "  model  |  time   |   acc   |  loss   \n",
      "   My    | 1.37400 | 0.70000 | 1.48208\n",
      "  Text   | 1.22800 | 0.70000 | 1.48192\n",
      "===============iteration:200===============\n",
      "  model  |  time   |   acc   |  loss   \n",
      "   My    | 2.68300 | 0.81000 | 0.65008\n",
      "  Text   | 2.40600 | 0.81000 | 0.65066\n",
      "===============iteration:300===============\n",
      "  model  |  time   |   acc   |  loss   \n",
      "   My    | 3.99400 | 0.83000 | 0.59629\n",
      "  Text   | 3.47800 | 0.84000 | 0.59620\n",
      "===============iteration:400===============\n",
      "  model  |  time   |   acc   |  loss   \n",
      "   My    | 5.35700 | 0.95000 | 0.24773\n",
      "  Text   | 4.55300 | 0.95000 | 0.24738\n",
      "===============iteration:500===============\n",
      "  model  |  time   |   acc   |  loss   \n",
      "   My    | 6.70700 | 0.95000 | 0.22465\n",
      "  Text   | 5.62600 | 0.95000 | 0.22411\n",
      "===============iteration:600===============\n",
      "  model  |  time   |   acc   |  loss   \n",
      "   My    | 8.06500 | 0.96000 | 0.14647\n",
      "  Text   | 6.70500 | 0.96000 | 0.14645\n",
      "===============iteration:700===============\n",
      "  model  |  time   |   acc   |  loss   \n",
      "   My    | 9.41500 | 0.95000 | 0.22802\n",
      "  Text   | 7.76700 | 0.95000 | 0.22745\n",
      "===============iteration:800===============\n",
      "  model  |  time   |   acc   |  loss   \n",
      "   My    | 10.7870 | 0.97000 | 0.11431\n",
      "  Text   | 8.85700 | 0.97000 | 0.11425\n",
      "===============iteration:900===============\n",
      "  model  |  time   |   acc   |  loss   \n",
      "   My    | 12.1440 | 0.99000 | 0.09369\n",
      "  Text   | 9.91500 | 0.99000 | 0.09347\n"
     ]
    }
   ],
   "source": [
    "test_list = {\n",
    "             'My':\n",
    "                 {'model':'MLE1','opt':'SGD','act':'relu','std':'he','dr':None,'bn':False,'bp':1,'lr':0.01},\n",
    "             'Text':\n",
    "                 {'model':'MLE2','opt':'SGD','act':'relu','std':'he','dr':None,'bn':False,'bp':1,'lr':0.01},\n",
    "             # '0.086_My':\n",
    "             #     {'model':'MLE1','opt':'SGD','act':'relu','std':0.086,'dr':None,'bn':False,'bp':1,'lr':0.01},\n",
    "             # '0.086_Text':\n",
    "             #     {'model':'MLE2','opt':'SGD','act':'relu','std':0.086,'dr':None,'bn':False,'bp':1,'lr':0.01},\n",
    "             # 'DpCV1':\n",
    "             #     {'model':'CVD1','opt':'Adam','act':'relu','std':'he','dr':None,'bn':True,'bp':0,'lr':0.01},\n",
    "             # 'DpCV2':\n",
    "             #     {'model':'CVD2','opt':'Adam','act':'relu','std':'he','dr':None,'bn':True,'bp':0,'lr':0.01},\n",
    "             # 'DpCV11':\n",
    "             #     {'model':'CVD1','opt':'Adam','act':'relu','std':'he','dr':None,'bn':True,'bp':0,'lr':0.01},\n",
    "             # 'DpCV22':\n",
    "             #     {'model':'CVD2','opt':'Adam','act':'relu','std':'he','dr':None,'bn':True,'bp':0,'lr':0.01},\n",
    "            # 'Node_BN2':\n",
    "            #      {'model':'mt1','opt':'AdaGrad','act':'relu','std':'he','dr':None,'bn':True,'bp':2,'lr':0.01},\n",
    "            #   'Text':\n",
    "            #     {'model':'mt2','act':'relu','std':'he','dr':None,'bn':False,'lr':0.01},\n",
    "            # 'Text_BN':\n",
    "            #     {'model':'mt2','act':'relu','std':'he','dr':None,'bn':True,'lr':0.01},\n",
    "             }\n",
    "\n",
    "\n",
    "\n",
    "train_acc, train_loss, test_acc, test_loss, total_step = test(test_list, 0.99)"
   ],
   "metadata": {
    "collapsed": false,
    "ExecuteTime": {
     "end_time": "2023-08-08T18:53:36.312533800Z",
     "start_time": "2023-08-08T18:53:11.595915600Z"
    }
   }
  },
  {
   "cell_type": "code",
   "execution_count": 5,
   "outputs": [
    {
     "data": {
      "text/plain": "<Figure size 432x288 with 1 Axes>",
      "image/png": "[encoded data removed]"
     },
     "metadata": {
      "needs_background": "light"
     },
     "output_type": "display_data"
    }
   ],
   "source": [
    "plot('train_acc', train_acc, test_list)"
   ],
   "metadata": {
    "collapsed": false,
    "ExecuteTime": {
     "end_time": "2023-08-08T18:53:36.452021900Z",
     "start_time": "2023-08-08T18:53:36.314486700Z"
    }
   }
  },
  {
   "cell_type": "code",
   "execution_count": 6,
   "outputs": [
    {
     "data": {
      "text/plain": "<Figure size 432x288 with 1 Axes>",
      "image/png": "[encoded data removed]"
     },
     "metadata": {
      "needs_background": "light"
     },
     "output_type": "display_data"
    }
   ],
   "source": [
    "plot('train_loss', train_loss, test_list)"
   ],
   "metadata": {
    "collapsed": false,
    "ExecuteTime": {
     "end_time": "2023-08-08T18:53:36.555974900Z",
     "start_time": "2023-08-08T18:53:36.451021200Z"
    }
   }
  },
  {
   "cell_type": "code",
   "execution_count": 7,
   "outputs": [
    {
     "name": "stdout",
     "output_type": "stream",
     "text": [
      "{'My': 0, 'Text': 0}\n"
     ]
    }
   ],
   "source": [
    "print(total_step)"
   ],
   "metadata": {
    "collapsed": false,
    "ExecuteTime": {
     "end_time": "2023-08-08T18:53:36.597284900Z",
     "start_time": "2023-08-08T18:53:36.555974900Z"
    }
   }
  },
  {
   "cell_type": "code",
   "execution_count": 14,
   "outputs": [
    {
     "data": {
      "text/plain": "<Figure size 432x288 with 2 Axes>",
      "image/png": "[encoded data removed]"
     },
     "metadata": {
      "needs_background": "light"
     },
     "output_type": "display_data"
    }
   ],
   "source": [
    "plt.subplot(1,2,1)\n",
    "\n",
    "plt.plot( smooth_curve(train_acc['My']), markevery=50, label='My')\n",
    "plt.xlabel(\"iterations\")\n",
    "plt.ylabel('train_acc')\n",
    "plt.legend()\n",
    "\n",
    "plt.subplot(1,2,2)\n",
    "plt.plot( smooth_curve(train_acc['Text']), markevery=50, label='Text')\n",
    "plt.legend()\n",
    "plt.show()"
   ],
   "metadata": {
    "collapsed": false,
    "ExecuteTime": {
     "end_time": "2023-08-08T18:58:29.260450700Z",
     "start_time": "2023-08-08T18:58:29.080706400Z"
    }
   }
  }
 ],
 "metadata": {
  "kernelspec": {
   "display_name": "Python 3",
   "language": "python",
   "name": "python3"
  },
  "language_info": {
   "codemirror_mode": {
    "name": "ipython",
    "version": 2
   },
   "file_extension": ".py",
   "mimetype": "text/x-python",
   "name": "python",
   "nbconvert_exporter": "python",
   "pygments_lexer": "ipython2",
   "version": "2.7.6"
  }
 },
 "nbformat": 4,
 "nbformat_minor": 0
}

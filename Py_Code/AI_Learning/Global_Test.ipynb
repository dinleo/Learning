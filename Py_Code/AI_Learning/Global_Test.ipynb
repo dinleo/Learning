{
 "cells": [
  {
   "cell_type": "markdown",
   "source": [],
   "metadata": {
    "collapsed": false
   }
  },
  {
   "cell_type": "code",
   "execution_count": 36,
   "metadata": {
    "collapsed": true,
    "ExecuteTime": {
     "end_time": "2023-08-10T11:36:06.908765800Z",
     "start_time": "2023-08-10T11:36:06.880765700Z"
    }
   },
   "outputs": [],
   "source": [
    "import sys\n",
    "import os\n",
    "sys.path.append('C:/Users/dinle/Code/Learning/Py_Code/AI_Learning/mnist')\n",
    "sys.path.append('C:/Users/dinle/Code/Learning/Py_Code/AI_Learning/Node_Layer_Network')\n",
    "from Node_Layer_Network.Networks.multi_layer_net_extend import MultiLayerNetExtend as MLE1\n",
    "from Node_Layer_Network.Networks.simple_convnet import SimpleConvNet as CVS1\n",
    "from Node_Layer_Network.Networks.deep_convnet import DeepConvNet as CVD1\n",
    "from mnist.common.multi_layer_net_extend import MultiLayerNetExtend as MLE2\n",
    "from mnist.ch07.simple_convnet import SimpleConvNet as CVS2\n",
    "from mnist.ch08.deep_convnet import DeepConvNet as CVD2\n",
    "import matplotlib.pyplot as plt\n",
    "from mnist.dataset.mnist import load_mnist\n",
    "from mnist.common.util import smooth_curve\n",
    "from mnist.common.optimizer import *\n",
    "import numpy as np\n",
    "import time\n"
   ]
  },
  {
   "cell_type": "code",
   "execution_count": 37,
   "outputs": [],
   "source": [
    "(x_train, t_train), (x_test, t_test) = load_mnist(normalize=True)\n",
    "# x_train = x_train[:1000]\n",
    "# t_train = t_train[:1000]\n",
    "train_size = x_train.shape[0]\n",
    "test_size = x_test.shape[0]\n",
    "batch_size = 256\n",
    "max_iterations = 1000\n",
    "print_iter = 10\n",
    "mi = np.arange(max_iterations)"
   ],
   "metadata": {
    "collapsed": false,
    "ExecuteTime": {
     "end_time": "2023-08-10T11:36:07.043016600Z",
     "start_time": "2023-08-10T11:36:06.893767200Z"
    }
   }
  },
  {
   "cell_type": "code",
   "execution_count": 38,
   "outputs": [],
   "source": [
    "def test(test_list, max_acc=None):\n",
    "    networks = {}\n",
    "    train_acc = {}\n",
    "    train_loss = {}\n",
    "    test_acc = {}\n",
    "    test_loss = {}\n",
    "    optimizer = {}\n",
    "    total_step = {}\n",
    "    time_record = {}\n",
    "\n",
    "    for key in test_list.keys():\n",
    "        # 기록 리스트 생성\n",
    "        train_acc[key] = []\n",
    "        train_loss[key] = []\n",
    "        test_acc[key] = []\n",
    "        test_loss[key] = []\n",
    "        total_step[key] = 0\n",
    "        time_record[key] = 0\n",
    "\n",
    "        # nSigmoid 경우 파라미터\n",
    "        # key == 'nSigmoid_8' -> act = nSigmoid, threshold = 8\n",
    "        networks[key] = test_list[key]['network']\n",
    "\n",
    "        # optimizer 생성\n",
    "        opt = test_list[key]['opt']\n",
    "        lr = test_list[key]['lr']\n",
    "        if opt == 'SGD':\n",
    "            optimizer[key] = SGD(lr)\n",
    "        elif opt == 'Momentum':\n",
    "            optimizer[key] = Momentum(lr)\n",
    "        elif opt == 'AdaGrad':\n",
    "            optimizer[key] = AdaGrad(lr)\n",
    "        elif opt == 'Adam':\n",
    "            optimizer[key] = Adam(lr)\n",
    "        else:\n",
    "            assert 'no opt' + opt\n",
    "\n",
    "    # 파라미터 통일\n",
    "    # networks1 = networks['My']\n",
    "    # networks2 = networks['Text']\n",
    "    # for k in networks1.params.keys():\n",
    "    #     for i in range(networks1.params[k].shape[0]):\n",
    "    #         networks1.params[k][i] = networks2.params[k][i].copy()\n",
    "    # networks['My'].params['W1'][0][0] = 100\n",
    "    # print(networks['My'].params['W1'] - networks['Text'].params['W1'])\n",
    "\n",
    "    # 학습\n",
    "    for i in range(max_iterations):\n",
    "        # if 0 not in total_step.values():\n",
    "        #     print(\"All test list training Done\\nStep: \" + str(i))\n",
    "        #     break\n",
    "\n",
    "        # mini-batch train\n",
    "        batch_mask = np.random.choice(train_size, batch_size)\n",
    "        x_batch = x_train[batch_mask]\n",
    "        t_batch = t_train[batch_mask]\n",
    "\n",
    "        # mini-batch test\n",
    "        batch_mask_t = np.random.choice(test_size, batch_size)\n",
    "        x_batch_t = x_test[batch_mask_t]\n",
    "        t_batch_t = t_test[batch_mask_t]\n",
    "\n",
    "        # print_iter 회마다 경과 출력\n",
    "        if i % print_iter == 0:\n",
    "            print( \"=\"*15 + \"iteration:\" + str(i) + \"=\"*15)\n",
    "            print(\"{:^9}|{:^9}|{:^9}|{:^9}\".format('model','time','acc','loss'))\n",
    "\n",
    "        # 학습 & 추론 & 기록\n",
    "        for key in test_list.keys():\n",
    "            if total_step[key] != 0:\n",
    "                # Max acc 에 도달해 학습이 끝난 test model\n",
    "                continue\n",
    "            else:\n",
    "                start = time.time()\n",
    "                # CV 모델 데이터 처리\n",
    "                if isinstance(networks[key], (CVS1, CVS2, CVD1, CVD2)):\n",
    "                    x_batch = x_batch.reshape(-1, 1, 28, 28)\n",
    "                    x_batch_t = x_batch_t.reshape(-1, 1, 28, 28)\n",
    "\n",
    "                # 학습(역전파)\n",
    "                grads = networks[key].gradient(x_batch, t_batch)\n",
    "                optimizer[key].update(networks[key].params, grads)\n",
    "\n",
    "                # 추론(순전파)\n",
    "                if isinstance(networks[key], (MLE1, CVS1, CVD1)):\n",
    "                    tr_acc, tr_loss = networks[key].acc_and_loss(x_batch, t_batch)\n",
    "                    ts_acc, ts_loss = networks[key].acc_and_loss(x_batch_t, t_batch_t)\n",
    "                else:\n",
    "                    if isinstance(networks[key], (CVS1, CVS2, CVD1, CVD2)):\n",
    "                        tr_acc = networks[key].accuracy(x_batch, t_batch, batch_size)\n",
    "                        ts_acc = networks[key].accuracy(x_batch_t, t_batch_t, batch_size)\n",
    "                    else:\n",
    "                        tr_acc = networks[key].accuracy(x_batch, t_batch)\n",
    "                        ts_acc = networks[key].accuracy(x_batch_t, t_batch_t)\n",
    "                    tr_loss = networks[key].loss(x_batch, t_batch)\n",
    "                    ts_loss = networks[key].loss(x_batch_t, t_batch_t)\n",
    "\n",
    "                # 기록\n",
    "                train_acc[key].append(tr_acc)\n",
    "                train_loss[key].append(tr_loss)\n",
    "                test_acc[key].append(ts_acc)\n",
    "                test_loss[key].append(ts_loss)\n",
    "                end = time.time()\n",
    "                time_record[key] += (end-start)\n",
    "\n",
    "                # max accuracy 도달 해당 모델 학습 종료\n",
    "                if max_acc and max_acc <= ts_acc:\n",
    "                    total_step[key] = i\n",
    "                    print(key + \" training end!\\nacc : \" + str(ts_acc) + \" step: \" + str(i))\n",
    "\n",
    "                # print_iter 회마다 경과 출력\n",
    "                if i % print_iter == 0:\n",
    "                    print(\"{:^9}| {:0<7.3f} | {:0<.5f} | {:0<.5f}\".format(key, time_record[key],ts_acc,ts_loss))\n",
    "\n",
    "    return train_acc, train_loss, test_acc, test_loss, total_step\n",
    "\n",
    "\n",
    "def plot(label, datas, t_list, *y_lim):\n",
    "    for key in t_list:\n",
    "        plt.plot( smooth_curve(datas[key]), markevery=50, label=key)\n",
    "    plt.xlabel(\"iterations\")\n",
    "    plt.ylabel(label)\n",
    "    if y_lim:\n",
    "        plt.ylim(y_lim)\n",
    "    plt.legend()\n",
    "    plt.show()"
   ],
   "metadata": {
    "collapsed": false,
    "ExecuteTime": {
     "end_time": "2023-08-10T11:36:07.060019600Z",
     "start_time": "2023-08-10T11:36:07.052021400Z"
    }
   }
  },
  {
   "cell_type": "code",
   "execution_count": 39,
   "outputs": [],
   "source": [
    "net1 = MLE2(input_size=784, hidden_size_list=[100, 100, 100, 100], output_size=10,\n",
    "            use_dropout=True, dropout_ration=0.5,\n",
    "            activation='relu', weight_init_std='he', use_batchnorm=False)\n",
    "# net2 = MLE1(input_size=784, hidden_size_list=[100, 100, 100, 100], output_size=10,\n",
    "#             use_dropout=do, dropout_ration=dr,\n",
    "#             activation=act, weight_init_std=std, use_batchnorm=bn)\n",
    "# net1 = CVD1(back_eta=False)\n",
    "net2 = CVS2()\n",
    "net3 = CVD2()"
   ],
   "metadata": {
    "collapsed": false,
    "ExecuteTime": {
     "end_time": "2023-08-10T11:36:07.088017600Z",
     "start_time": "2023-08-10T11:36:07.059020100Z"
    }
   }
  },
  {
   "cell_type": "code",
   "execution_count": 40,
   "outputs": [
    {
     "name": "stdout",
     "output_type": "stream",
     "text": [
      "===============iteration:0===============\n",
      "  model  |  time   |   acc   |  loss   \n",
      "   MLP   | 0.02100 | 0.27734 | 2.28364\n",
      "Smpl CNN | 1.81700 | 0.08984 | 2.26428\n",
      "Deep CNN | 12.8180 | 0.08203 | 5.88892\n"
     ]
    },
    {
     "ename": "KeyboardInterrupt",
     "evalue": "",
     "output_type": "error",
     "traceback": [
      "\u001B[1;31m---------------------------------------------------------------------------\u001B[0m",
      "\u001B[1;31mKeyboardInterrupt\u001B[0m                         Traceback (most recent call last)",
      "Input \u001B[1;32mIn [40]\u001B[0m, in \u001B[0;36m<cell line: 11>\u001B[1;34m()\u001B[0m\n\u001B[0;32m      1\u001B[0m test_list \u001B[38;5;241m=\u001B[39m {\n\u001B[0;32m      2\u001B[0m              \u001B[38;5;124m'\u001B[39m\u001B[38;5;124mMLP\u001B[39m\u001B[38;5;124m'\u001B[39m:\n\u001B[0;32m      3\u001B[0m                  {\u001B[38;5;124m'\u001B[39m\u001B[38;5;124mnetwork\u001B[39m\u001B[38;5;124m'\u001B[39m:net1,\u001B[38;5;124m'\u001B[39m\u001B[38;5;124mopt\u001B[39m\u001B[38;5;124m'\u001B[39m:\u001B[38;5;124m'\u001B[39m\u001B[38;5;124mAdaGrad\u001B[39m\u001B[38;5;124m'\u001B[39m,\u001B[38;5;124m'\u001B[39m\u001B[38;5;124mlr\u001B[39m\u001B[38;5;124m'\u001B[39m:\u001B[38;5;241m0.01\u001B[39m},\n\u001B[1;32m   (...)\u001B[0m\n\u001B[0;32m      7\u001B[0m                  {\u001B[38;5;124m'\u001B[39m\u001B[38;5;124mnetwork\u001B[39m\u001B[38;5;124m'\u001B[39m:net3,\u001B[38;5;124m'\u001B[39m\u001B[38;5;124mopt\u001B[39m\u001B[38;5;124m'\u001B[39m:\u001B[38;5;124m'\u001B[39m\u001B[38;5;124mAdaGrad\u001B[39m\u001B[38;5;124m'\u001B[39m,\u001B[38;5;124m'\u001B[39m\u001B[38;5;124mlr\u001B[39m\u001B[38;5;124m'\u001B[39m:\u001B[38;5;241m0.01\u001B[39m},\n\u001B[0;32m      8\u001B[0m              }\n\u001B[1;32m---> 11\u001B[0m train_acc, train_loss, test_acc, test_loss, total_step \u001B[38;5;241m=\u001B[39m \u001B[43mtest\u001B[49m\u001B[43m(\u001B[49m\u001B[43mtest_list\u001B[49m\u001B[43m,\u001B[49m\u001B[43m \u001B[49m\u001B[38;5;241;43m0.95\u001B[39;49m\u001B[43m)\u001B[49m\n",
      "Input \u001B[1;32mIn [38]\u001B[0m, in \u001B[0;36mtest\u001B[1;34m(test_list, max_acc)\u001B[0m\n\u001B[0;32m     93\u001B[0m         tr_acc \u001B[38;5;241m=\u001B[39m networks[key]\u001B[38;5;241m.\u001B[39maccuracy(x_batch, t_batch)\n\u001B[0;32m     94\u001B[0m         ts_acc \u001B[38;5;241m=\u001B[39m networks[key]\u001B[38;5;241m.\u001B[39maccuracy(x_batch_t, t_batch_t)\n\u001B[1;32m---> 95\u001B[0m     tr_loss \u001B[38;5;241m=\u001B[39m \u001B[43mnetworks\u001B[49m\u001B[43m[\u001B[49m\u001B[43mkey\u001B[49m\u001B[43m]\u001B[49m\u001B[38;5;241;43m.\u001B[39;49m\u001B[43mloss\u001B[49m\u001B[43m(\u001B[49m\u001B[43mx_batch\u001B[49m\u001B[43m,\u001B[49m\u001B[43m \u001B[49m\u001B[43mt_batch\u001B[49m\u001B[43m)\u001B[49m\n\u001B[0;32m     96\u001B[0m     ts_loss \u001B[38;5;241m=\u001B[39m networks[key]\u001B[38;5;241m.\u001B[39mloss(x_batch_t, t_batch_t)\n\u001B[0;32m     98\u001B[0m \u001B[38;5;66;03m# 기록\u001B[39;00m\n",
      "File \u001B[1;32m~\\Code\\Learning\\Py_Code\\AI_Learning\\mnist\\ch08\\deep_convnet.py:83\u001B[0m, in \u001B[0;36mDeepConvNet.loss\u001B[1;34m(self, x, t, train_flg)\u001B[0m\n\u001B[0;32m     82\u001B[0m \u001B[38;5;28;01mdef\u001B[39;00m \u001B[38;5;21mloss\u001B[39m(\u001B[38;5;28mself\u001B[39m, x, t, train_flg\u001B[38;5;241m=\u001B[39m\u001B[38;5;28;01mFalse\u001B[39;00m):\n\u001B[1;32m---> 83\u001B[0m     y \u001B[38;5;241m=\u001B[39m \u001B[38;5;28;43mself\u001B[39;49m\u001B[38;5;241;43m.\u001B[39;49m\u001B[43mpredict\u001B[49m\u001B[43m(\u001B[49m\u001B[43mx\u001B[49m\u001B[43m,\u001B[49m\u001B[43m \u001B[49m\u001B[43mtrain_flg\u001B[49m\u001B[43m)\u001B[49m\n\u001B[0;32m     84\u001B[0m     \u001B[38;5;28;01mreturn\u001B[39;00m \u001B[38;5;28mself\u001B[39m\u001B[38;5;241m.\u001B[39mlast_layer\u001B[38;5;241m.\u001B[39mforward(y, t)\n",
      "File \u001B[1;32m~\\Code\\Learning\\Py_Code\\AI_Learning\\mnist\\ch08\\deep_convnet.py:79\u001B[0m, in \u001B[0;36mDeepConvNet.predict\u001B[1;34m(self, x, train_flg)\u001B[0m\n\u001B[0;32m     77\u001B[0m         x \u001B[38;5;241m=\u001B[39m layer\u001B[38;5;241m.\u001B[39mforward(x, train_flg)\n\u001B[0;32m     78\u001B[0m     \u001B[38;5;28;01melse\u001B[39;00m:\n\u001B[1;32m---> 79\u001B[0m         x \u001B[38;5;241m=\u001B[39m \u001B[43mlayer\u001B[49m\u001B[38;5;241;43m.\u001B[39;49m\u001B[43mforward\u001B[49m\u001B[43m(\u001B[49m\u001B[43mx\u001B[49m\u001B[43m)\u001B[49m\n\u001B[0;32m     80\u001B[0m \u001B[38;5;28;01mreturn\u001B[39;00m x\n",
      "File \u001B[1;32mC:\\Users/dinle/Code/Learning/Py_Code/AI_Learning/mnist\\common\\layers.py:281\u001B[0m, in \u001B[0;36mConvolution.forward\u001B[1;34m(self, x)\u001B[0m\n\u001B[0;32m    278\u001B[0m out_h \u001B[38;5;241m=\u001B[39m \u001B[38;5;241m1\u001B[39m \u001B[38;5;241m+\u001B[39m \u001B[38;5;28mint\u001B[39m((H \u001B[38;5;241m+\u001B[39m \u001B[38;5;241m2\u001B[39m \u001B[38;5;241m*\u001B[39m \u001B[38;5;28mself\u001B[39m\u001B[38;5;241m.\u001B[39mpad \u001B[38;5;241m-\u001B[39m FH) \u001B[38;5;241m/\u001B[39m \u001B[38;5;28mself\u001B[39m\u001B[38;5;241m.\u001B[39mstride)\n\u001B[0;32m    279\u001B[0m out_w \u001B[38;5;241m=\u001B[39m \u001B[38;5;241m1\u001B[39m \u001B[38;5;241m+\u001B[39m \u001B[38;5;28mint\u001B[39m((W \u001B[38;5;241m+\u001B[39m \u001B[38;5;241m2\u001B[39m \u001B[38;5;241m*\u001B[39m \u001B[38;5;28mself\u001B[39m\u001B[38;5;241m.\u001B[39mpad \u001B[38;5;241m-\u001B[39m FW) \u001B[38;5;241m/\u001B[39m \u001B[38;5;28mself\u001B[39m\u001B[38;5;241m.\u001B[39mstride)\n\u001B[1;32m--> 281\u001B[0m col \u001B[38;5;241m=\u001B[39m \u001B[43mim2col\u001B[49m\u001B[43m(\u001B[49m\u001B[43mx\u001B[49m\u001B[43m,\u001B[49m\u001B[43m \u001B[49m\u001B[43mFH\u001B[49m\u001B[43m,\u001B[49m\u001B[43m \u001B[49m\u001B[43mFW\u001B[49m\u001B[43m,\u001B[49m\u001B[43m \u001B[49m\u001B[38;5;28;43mself\u001B[39;49m\u001B[38;5;241;43m.\u001B[39;49m\u001B[43mstride\u001B[49m\u001B[43m,\u001B[49m\u001B[43m \u001B[49m\u001B[38;5;28;43mself\u001B[39;49m\u001B[38;5;241;43m.\u001B[39;49m\u001B[43mpad\u001B[49m\u001B[43m)\u001B[49m\n\u001B[0;32m    282\u001B[0m col_W \u001B[38;5;241m=\u001B[39m \u001B[38;5;28mself\u001B[39m\u001B[38;5;241m.\u001B[39mW\u001B[38;5;241m.\u001B[39mreshape(FN, \u001B[38;5;241m-\u001B[39m\u001B[38;5;241m1\u001B[39m)\u001B[38;5;241m.\u001B[39mT\n\u001B[0;32m    284\u001B[0m out \u001B[38;5;241m=\u001B[39m np\u001B[38;5;241m.\u001B[39mdot(col, col_W) \u001B[38;5;241m+\u001B[39m \u001B[38;5;28mself\u001B[39m\u001B[38;5;241m.\u001B[39mb\n",
      "File \u001B[1;32mC:\\Users/dinle/Code/Learning/Py_Code/AI_Learning/mnist\\common\\util.py:65\u001B[0m, in \u001B[0;36mim2col\u001B[1;34m(input_data, filter_h, filter_w, stride, pad)\u001B[0m\n\u001B[0;32m     63\u001B[0m     \u001B[38;5;28;01mfor\u001B[39;00m x \u001B[38;5;129;01min\u001B[39;00m \u001B[38;5;28mrange\u001B[39m(filter_w):\n\u001B[0;32m     64\u001B[0m         x_max \u001B[38;5;241m=\u001B[39m x \u001B[38;5;241m+\u001B[39m stride\u001B[38;5;241m*\u001B[39mout_w\n\u001B[1;32m---> 65\u001B[0m         col[:, :, y, x, :, :] \u001B[38;5;241m=\u001B[39m img[:, :, y:y_max:stride, x:x_max:stride]\n\u001B[0;32m     67\u001B[0m col \u001B[38;5;241m=\u001B[39m col\u001B[38;5;241m.\u001B[39mtranspose(\u001B[38;5;241m0\u001B[39m, \u001B[38;5;241m4\u001B[39m, \u001B[38;5;241m5\u001B[39m, \u001B[38;5;241m1\u001B[39m, \u001B[38;5;241m2\u001B[39m, \u001B[38;5;241m3\u001B[39m)\u001B[38;5;241m.\u001B[39mreshape(N\u001B[38;5;241m*\u001B[39mout_h\u001B[38;5;241m*\u001B[39mout_w, \u001B[38;5;241m-\u001B[39m\u001B[38;5;241m1\u001B[39m)\n\u001B[0;32m     68\u001B[0m \u001B[38;5;28;01mreturn\u001B[39;00m col\n",
      "\u001B[1;31mKeyboardInterrupt\u001B[0m: "
     ]
    }
   ],
   "source": [
    "test_list = {\n",
    "             'MLP':\n",
    "                 {'network':net1,'opt':'AdaGrad','lr':0.01},\n",
    "             'Smpl CNN':\n",
    "                 {'network':net2,'opt':'AdaGrad','lr':0.01},\n",
    "             'Deep CNN':\n",
    "                 {'network':net3,'opt':'AdaGrad','lr':0.01},\n",
    "             }\n",
    "\n",
    "\n",
    "train_acc, train_loss, test_acc, test_loss, total_step = test(test_list, 0.95)"
   ],
   "metadata": {
    "collapsed": false,
    "ExecuteTime": {
     "end_time": "2023-08-10T11:36:31.023107200Z",
     "start_time": "2023-08-10T11:36:07.089017700Z"
    }
   }
  },
  {
   "cell_type": "code",
   "execution_count": null,
   "outputs": [],
   "source": [
    "plot('train_acc', train_acc, test_list)"
   ],
   "metadata": {
    "collapsed": false
   }
  },
  {
   "cell_type": "code",
   "execution_count": null,
   "outputs": [],
   "source": [
    "plot('train_loss', train_loss, test_list)"
   ],
   "metadata": {
    "collapsed": false
   }
  },
  {
   "cell_type": "code",
   "execution_count": null,
   "outputs": [],
   "source": [
    "print(total_step)"
   ],
   "metadata": {
    "collapsed": false
   }
  },
  {
   "cell_type": "code",
   "execution_count": null,
   "outputs": [],
   "source": [
    "plt.subplot(1,2,1)\n",
    "\n",
    "plt.plot( smooth_curve(train_acc['My']), markevery=50, label='My')\n",
    "plt.xlabel(\"iterations\")\n",
    "plt.ylabel('train_acc')\n",
    "plt.legend()\n",
    "\n",
    "plt.subplot(1,2,2)\n",
    "plt.plot( smooth_curve(train_acc['Text']), markevery=50, label='Text')\n",
    "plt.legend()\n",
    "plt.show()"
   ],
   "metadata": {
    "collapsed": false
   }
  }
 ],
 "metadata": {
  "kernelspec": {
   "display_name": "Python 3",
   "language": "python",
   "name": "python3"
  },
  "language_info": {
   "codemirror_mode": {
    "name": "ipython",
    "version": 2
   },
   "file_extension": ".py",
   "mimetype": "text/x-python",
   "name": "python",
   "nbconvert_exporter": "python",
   "pygments_lexer": "ipython2",
   "version": "2.7.6"
  }
 },
 "nbformat": 4,
 "nbformat_minor": 0
}

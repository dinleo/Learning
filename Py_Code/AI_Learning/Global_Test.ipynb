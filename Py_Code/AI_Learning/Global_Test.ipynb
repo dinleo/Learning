{
 "cells": [
  {
   "cell_type": "markdown",
   "source": [],
   "metadata": {
    "collapsed": false
   }
  },
  {
   "cell_type": "code",
   "execution_count": 48,
   "metadata": {
    "collapsed": true,
    "ExecuteTime": {
     "end_time": "2023-08-13T13:58:03.183206900Z",
     "start_time": "2023-08-13T13:58:03.144211Z"
    }
   },
   "outputs": [],
   "source": [
    "import sys\n",
    "import os\n",
    "sys.path.append('C:/Users/dinle/Code/Learning/Py_Code/AI_Learning/mnist')\n",
    "# sys.path.append('C:/Users/dinle/Code/Learning/Py_Code/AI_Learning/Node_Layer_Network')\n",
    "# sys.path.append('/Users/leo/Code/Learning/Py_Code/AI_Learning/Node_Layer_Network')\n",
    "sys.path.append('/Users/leo/Code/Learning/Py_Code/AI_Learning/mnist')\n",
    "from Node_Layer_Network.Networks.multi_layer_net_extend import MultiLayerNetExtend as MLE1\n",
    "from Node_Layer_Network.Networks.simple_convnet import SimpleConvNet as CVS1\n",
    "from Node_Layer_Network.Networks.deep_convnet import DeepConvNet as CVD1\n",
    "from mnist.common.multi_layer_net_extend import MultiLayerNetExtend as MLE2\n",
    "from mnist.ch07.simple_convnet import SimpleConvNet as CVS2\n",
    "from mnist.ch08.deep_convnet import DeepConvNet as CVD2\n",
    "import matplotlib.pyplot as plt\n",
    "from Node_Layer_Network.dataset.mnist import load_mnist\n",
    "from mnist.common.util import smooth_curve\n",
    "from mnist.common.optimizer import *\n",
    "import numpy as np\n",
    "import time\n"
   ]
  },
  {
   "cell_type": "code",
   "execution_count": 49,
   "outputs": [],
   "source": [
    "(x_train, t_train), (x_test, t_test) = load_mnist(normalize=True)\n",
    "x_train = x_train[:1000]\n",
    "t_train = t_train[:1000]\n",
    "train_size = x_train.shape[0]\n",
    "test_size = x_test.shape[0]\n",
    "batch_size = 128\n",
    "max_iterations = 1000\n",
    "print_iter = 100\n",
    "mi = np.arange(max_iterations)"
   ],
   "metadata": {
    "collapsed": false,
    "ExecuteTime": {
     "end_time": "2023-08-13T13:58:03.205474300Z",
     "start_time": "2023-08-13T13:58:03.163210600Z"
    }
   }
  },
  {
   "cell_type": "code",
   "execution_count": 50,
   "outputs": [],
   "source": [
    "def test(test_list, max_acc=None):\n",
    "    networks = {}\n",
    "    train_acc = {}\n",
    "    train_loss = {}\n",
    "    test_acc = {}\n",
    "    test_loss = {}\n",
    "    optimizer = {}\n",
    "    total_step = {}\n",
    "    time_record = {}\n",
    "\n",
    "    for key in test_list.keys():\n",
    "        # 기록 리스트 생성\n",
    "        train_acc[key] = []\n",
    "        train_loss[key] = []\n",
    "        test_acc[key] = []\n",
    "        test_loss[key] = []\n",
    "        total_step[key] = 0\n",
    "        time_record[key] = 0\n",
    "\n",
    "        # nSigmoid 경우 파라미터\n",
    "        # key == 'nSigmoid_8' -> act = nSigmoid, threshold = 8\n",
    "        networks[key] = test_list[key]['network']\n",
    "\n",
    "        # optimizer 생성\n",
    "        opt = test_list[key]['opt']\n",
    "        lr = test_list[key]['lr']\n",
    "        if opt == 'SGD':\n",
    "            optimizer[key] = SGD(lr)\n",
    "        elif opt == 'Momentum':\n",
    "            optimizer[key] = Momentum(lr)\n",
    "        elif opt == 'AdaGrad':\n",
    "            optimizer[key] = AdaGrad(lr)\n",
    "        elif opt == 'Adam':\n",
    "            optimizer[key] = Adam(lr)\n",
    "        else:\n",
    "            assert 'no opt' + opt\n",
    "\n",
    "    # 파라미터 통일\n",
    "    networks1 = networks['My']\n",
    "    networks2 = networks['Text']\n",
    "    for k in networks1.params.keys():\n",
    "        for i in range(networks1.params[k].shape[0]):\n",
    "            networks2.params[k][i] = networks1.params[k][i].get().copy()\n",
    "    # networks['My'].params['W1'][0][0] = 100\n",
    "    print(np.max(networks['My'].params['W2'].get() - networks['Text'].params['W2']))\n",
    "\n",
    "\n",
    "    # 학습\n",
    "    for i in range(max_iterations):\n",
    "        if 0 not in total_step.values():\n",
    "            print(\"All test list training Done\\nStep: \" + str(i))\n",
    "            break\n",
    "\n",
    "        # mini-batch train\n",
    "        batch_mask = np.random.choice(train_size, batch_size)\n",
    "        x_batch = x_train[batch_mask]\n",
    "        t_batch = t_train[batch_mask]\n",
    "\n",
    "        # mini-batch test\n",
    "        batch_mask_t = np.random.choice(test_size, batch_size)\n",
    "        x_batch_t = x_test[batch_mask_t]\n",
    "        t_batch_t = t_test[batch_mask_t]\n",
    "        \n",
    "        # print_iter 회마다 경과 출력\n",
    "        if i % print_iter == 0:\n",
    "            print( \"=\"*15 + \"iteration:\" + str(i) + \"=\"*15)\n",
    "            print(\"{:^9}|{:^9}|{:^9}|{:^9}\".format('model','time','acc','loss'))\n",
    "\n",
    "        # 학습 & 추론 & 기록\n",
    "        for key in test_list.keys():\n",
    "            if total_step[key] != 0:\n",
    "                # Max acc 에 도달해 학습이 끝난 test model\n",
    "                continue\n",
    "            else:\n",
    "                start = time.time()\n",
    "                # CV 모델 데이터 처리\n",
    "                if isinstance(networks[key], (CVS1, CVS2, CVD1, CVD2)):\n",
    "                    x_batch = x_batch.reshape(-1, 1, 28, 28)\n",
    "                    x_batch_t = x_batch_t.reshape(-1, 1, 28, 28)\n",
    "                if isinstance(networks[key], (MLE2, CVD2)):\n",
    "                    x_batch = x_batch.get()\n",
    "                    x_batch_t = x_batch_t.get()\n",
    "                    t_batch = t_batch.get()\n",
    "                    t_batch_t = t_batch_t.get()\n",
    "                    \n",
    "                # 학습(역전파)\n",
    "                grads = networks[key].gradient(x_batch, t_batch)\n",
    "                optimizer[key].update(networks[key].params, grads)\n",
    "\n",
    "                # 추론(순전파)\n",
    "                if isinstance(networks[key], (MLE1, CVS1, CVD1)):\n",
    "                    tr_acc, tr_loss = networks[key].acc_and_loss(x_batch, t_batch)\n",
    "                    ts_acc, ts_loss = networks[key].acc_and_loss(x_batch_t, t_batch_t)\n",
    "                else:\n",
    "                    if isinstance(networks[key], (CVS1, CVS2, CVD1, CVD2)):\n",
    "                        tr_acc = networks[key].accuracy(x_batch, t_batch, batch_size)\n",
    "                        ts_acc = networks[key].accuracy(x_batch_t, t_batch_t, batch_size)\n",
    "                    else:\n",
    "                        tr_acc = networks[key].accuracy(x_batch, t_batch)\n",
    "                        ts_acc = networks[key].accuracy(x_batch_t, t_batch_t)\n",
    "                    tr_loss = networks[key].loss(x_batch, t_batch)\n",
    "                    ts_loss = networks[key].loss(x_batch_t, t_batch_t)\n",
    "                \n",
    "                # 기록\n",
    "                train_acc[key].append(tr_acc)\n",
    "                train_loss[key].append(tr_loss)\n",
    "                test_acc[key].append(ts_acc)\n",
    "                test_loss[key].append(ts_loss)\n",
    "                end = time.time()\n",
    "                time_record[key] += (end-start)\n",
    "\n",
    "                # max accuracy 도달 해당 모델 학습 종료\n",
    "                if max_acc and max_acc <= ts_acc:\n",
    "                    total_step[key] = i\n",
    "                    print(key + \" training end!\\nacc : \" + str(ts_acc) + \" step: \" + str(i))\n",
    "\n",
    "                # print_iter 회마다 경과 출력\n",
    "                if i % print_iter == 0:\n",
    "                    print(\"{:^9}| {:0<7.3f} | {:0<.5f} | {:0<.5f}\".format(key, time_record[key],ts_acc,ts_loss))\n",
    "\n",
    "    return train_acc, train_loss, test_acc, test_loss, total_step\n",
    "\n",
    "\n",
    "def plot(label, datas, t_list, *y_lim):\n",
    "    for key in t_list:\n",
    "        plt.plot( smooth_curve(datas[key]), markevery=50, label=key)\n",
    "    plt.xlabel(\"iterations\")\n",
    "    plt.ylabel(label)\n",
    "    if y_lim:\n",
    "        plt.ylim(y_lim)\n",
    "    plt.legend()\n",
    "    plt.show()"
   ],
   "metadata": {
    "collapsed": false,
    "ExecuteTime": {
     "end_time": "2023-08-13T13:58:03.233775Z",
     "start_time": "2023-08-13T13:58:03.205474300Z"
    }
   }
  },
  {
   "cell_type": "code",
   "execution_count": 51,
   "outputs": [],
   "source": [
    "net1 = MLE1(input_size=784, hidden_size_list=[100, 100, 100, 100], output_size=10,\n",
    "            use_dropout=False, dropout_ratio=0.5,\n",
    "            activation='relu', weight_init_std='he', use_batchnorm=True, back_eta=False)\n",
    "net2 = MLE2(input_size=784, hidden_size_list=[100, 100, 100, 100], output_size=10,\n",
    "            use_dropout=False, dropout_ration=0.5,\n",
    "            activation='relu', weight_init_std='he', use_batchnorm=True)\n",
    "# net1 = CVD1(back_eta=False, dropout_ratio=0)\n",
    "# net2 = CVD2(dropout_ration=0)\n",
    "# net3 = CVD2(dropout_ration=0.5)"
   ],
   "metadata": {
    "collapsed": false,
    "ExecuteTime": {
     "end_time": "2023-08-13T13:58:03.244720800Z",
     "start_time": "2023-08-13T13:58:03.221665700Z"
    }
   }
  },
  {
   "cell_type": "code",
   "execution_count": 52,
   "outputs": [
    {
     "name": "stdout",
     "output_type": "stream",
     "text": [
      "0.0\n",
      "===============iteration:0===============\n",
      "  model  |  time   |   acc   |  loss   \n",
      "   My    | 0.08800 | 0.32031 | 10.76547\n",
      "  Text   | 0.01800 | 0.32031 | 10.76547\n",
      "===============iteration:100===============\n",
      "  model  |  time   |   acc   |  loss   \n",
      "   My    | 7.87100 | 0.89844 | 0.29491\n",
      "  Text   | 1.78000 | 0.89844 | 0.29491\n",
      "===============iteration:200===============\n",
      "  model  |  time   |   acc   |  loss   \n",
      "   My    | 15.4350 | 0.84375 | 0.55927\n",
      "  Text   | 3.26000 | 0.84375 | 0.55927\n",
      "===============iteration:300===============\n",
      "  model  |  time   |   acc   |  loss   \n",
      "   My    | 22.8600 | 0.88281 | 0.46950\n",
      "  Text   | 4.73200 | 0.88281 | 0.46951\n",
      "===============iteration:400===============\n",
      "  model  |  time   |   acc   |  loss   \n",
      "   My    | 30.3770 | 0.90625 | 0.33987\n",
      "  Text   | 6.18000 | 0.90625 | 0.33987\n",
      "===============iteration:500===============\n",
      "  model  |  time   |   acc   |  loss   \n",
      "   My    | 37.7960 | 0.88281 | 0.42908\n",
      "  Text   | 7.62200 | 0.88281 | 0.42908\n",
      "===============iteration:600===============\n",
      "  model  |  time   |   acc   |  loss   \n",
      "   My    | 45.4950 | 0.86719 | 0.49133\n",
      "  Text   | 9.10000 | 0.86719 | 0.49133\n",
      "===============iteration:700===============\n",
      "  model  |  time   |   acc   |  loss   \n",
      "   My    | 53.0660 | 0.88281 | 0.35495\n",
      "  Text   | 10.5520 | 0.88281 | 0.35495\n",
      "===============iteration:800===============\n",
      "  model  |  time   |   acc   |  loss   \n",
      "   My    | 60.6960 | 0.90625 | 0.30513\n",
      "  Text   | 12.0150 | 0.90625 | 0.30513\n",
      "===============iteration:900===============\n",
      "  model  |  time   |   acc   |  loss   \n",
      "   My    | 68.3220 | 0.88281 | 0.31814\n",
      "  Text   | 13.4750 | 0.88281 | 0.31814\n"
     ]
    }
   ],
   "source": [
    "test_list = {\n",
    "             'My':\n",
    "                 {'network':net1,'opt':'AdaGrad','lr':0.01},\n",
    "             'Text':\n",
    "                 {'network':net2,'opt':'AdaGrad','lr':0.01},\n",
    "             # 'Deep CNN':\n",
    "             #     {'network':net3,'opt':'AdaGrad','lr':0.01},\n",
    "             }\n",
    "\n",
    "\n",
    "train_acc, train_loss, test_acc, test_loss, total_step = test(test_list, 0.98)"
   ],
   "metadata": {
    "collapsed": false,
    "ExecuteTime": {
     "end_time": "2023-08-13T13:59:35.493009600Z",
     "start_time": "2023-08-13T13:58:03.239722500Z"
    }
   }
  },
  {
   "cell_type": "code",
   "execution_count": 53,
   "outputs": [
    {
     "ename": "TypeError",
     "evalue": "Implicit conversion to a NumPy array is not allowed. Please use `.get()` to construct a NumPy array explicitly.",
     "output_type": "error",
     "traceback": [
      "\u001B[1;31m---------------------------------------------------------------------------\u001B[0m",
      "\u001B[1;31mAttributeError\u001B[0m                            Traceback (most recent call last)",
      "File \u001B[1;32m~\\AppData\\Local\\Programs\\Python\\Python310\\lib\\site-packages\\numpy\\core\\fromnumeric.py:3185\u001B[0m, in \u001B[0;36mndim\u001B[1;34m(a)\u001B[0m\n\u001B[0;32m   3184\u001B[0m \u001B[38;5;28;01mtry\u001B[39;00m:\n\u001B[1;32m-> 3185\u001B[0m     \u001B[38;5;28;01mreturn\u001B[39;00m \u001B[43ma\u001B[49m\u001B[38;5;241;43m.\u001B[39;49m\u001B[43mndim\u001B[49m\n\u001B[0;32m   3186\u001B[0m \u001B[38;5;28;01mexcept\u001B[39;00m \u001B[38;5;167;01mAttributeError\u001B[39;00m:\n",
      "\u001B[1;31mAttributeError\u001B[0m: 'list' object has no attribute 'ndim'",
      "\nDuring handling of the above exception, another exception occurred:\n",
      "\u001B[1;31mTypeError\u001B[0m                                 Traceback (most recent call last)",
      "Input \u001B[1;32mIn [53]\u001B[0m, in \u001B[0;36m<cell line: 1>\u001B[1;34m()\u001B[0m\n\u001B[1;32m----> 1\u001B[0m \u001B[43mplot\u001B[49m\u001B[43m(\u001B[49m\u001B[38;5;124;43m'\u001B[39;49m\u001B[38;5;124;43mtest_acc\u001B[39;49m\u001B[38;5;124;43m'\u001B[39;49m\u001B[43m,\u001B[49m\u001B[43m \u001B[49m\u001B[43mtest_acc\u001B[49m\u001B[43m,\u001B[49m\u001B[43m \u001B[49m\u001B[43mtest_list\u001B[49m\u001B[43m)\u001B[49m\n",
      "Input \u001B[1;32mIn [50]\u001B[0m, in \u001B[0;36mplot\u001B[1;34m(label, datas, t_list, *y_lim)\u001B[0m\n\u001B[0;32m    124\u001B[0m \u001B[38;5;28;01mdef\u001B[39;00m \u001B[38;5;21mplot\u001B[39m(label, datas, t_list, \u001B[38;5;241m*\u001B[39my_lim):\n\u001B[0;32m    125\u001B[0m     \u001B[38;5;28;01mfor\u001B[39;00m key \u001B[38;5;129;01min\u001B[39;00m t_list:\n\u001B[1;32m--> 126\u001B[0m         plt\u001B[38;5;241m.\u001B[39mplot( \u001B[43msmooth_curve\u001B[49m\u001B[43m(\u001B[49m\u001B[43mdatas\u001B[49m\u001B[43m[\u001B[49m\u001B[43mkey\u001B[49m\u001B[43m]\u001B[49m\u001B[43m)\u001B[49m, markevery\u001B[38;5;241m=\u001B[39m\u001B[38;5;241m50\u001B[39m, label\u001B[38;5;241m=\u001B[39mkey)\n\u001B[0;32m    127\u001B[0m     plt\u001B[38;5;241m.\u001B[39mxlabel(\u001B[38;5;124m\"\u001B[39m\u001B[38;5;124miterations\u001B[39m\u001B[38;5;124m\"\u001B[39m)\n\u001B[0;32m    128\u001B[0m     plt\u001B[38;5;241m.\u001B[39mylabel(label)\n",
      "File \u001B[1;32m~\\Code\\Learning\\Py_Code\\AI_Learning\\mnist\\common\\util.py:11\u001B[0m, in \u001B[0;36msmooth_curve\u001B[1;34m(x)\u001B[0m\n\u001B[0;32m      6\u001B[0m \u001B[38;5;124;03m\"\"\"손실 함수의 그래프를 매끄럽게 하기 위해 사용\u001B[39;00m\n\u001B[0;32m      7\u001B[0m \u001B[38;5;124;03m\u001B[39;00m\n\u001B[0;32m      8\u001B[0m \u001B[38;5;124;03m참고：http://glowingpython.blogspot.jp/2012/02/convolution-with-numpy.html\u001B[39;00m\n\u001B[0;32m      9\u001B[0m \u001B[38;5;124;03m\"\"\"\u001B[39;00m\n\u001B[0;32m     10\u001B[0m window_len \u001B[38;5;241m=\u001B[39m \u001B[38;5;241m11\u001B[39m\n\u001B[1;32m---> 11\u001B[0m s \u001B[38;5;241m=\u001B[39m \u001B[43mnp\u001B[49m\u001B[38;5;241;43m.\u001B[39;49m\u001B[43mr_\u001B[49m\u001B[43m[\u001B[49m\u001B[43mx\u001B[49m\u001B[43m[\u001B[49m\u001B[43mwindow_len\u001B[49m\u001B[38;5;241;43m-\u001B[39;49m\u001B[38;5;241;43m1\u001B[39;49m\u001B[43m:\u001B[49m\u001B[38;5;241;43m0\u001B[39;49m\u001B[43m:\u001B[49m\u001B[38;5;241;43m-\u001B[39;49m\u001B[38;5;241;43m1\u001B[39;49m\u001B[43m]\u001B[49m\u001B[43m,\u001B[49m\u001B[43m \u001B[49m\u001B[43mx\u001B[49m\u001B[43m,\u001B[49m\u001B[43m \u001B[49m\u001B[43mx\u001B[49m\u001B[43m[\u001B[49m\u001B[38;5;241;43m-\u001B[39;49m\u001B[38;5;241;43m1\u001B[39;49m\u001B[43m:\u001B[49m\u001B[38;5;241;43m-\u001B[39;49m\u001B[43mwindow_len\u001B[49m\u001B[43m:\u001B[49m\u001B[38;5;241;43m-\u001B[39;49m\u001B[38;5;241;43m1\u001B[39;49m\u001B[43m]\u001B[49m\u001B[43m]\u001B[49m\n\u001B[0;32m     12\u001B[0m w \u001B[38;5;241m=\u001B[39m np\u001B[38;5;241m.\u001B[39mkaiser(window_len, \u001B[38;5;241m2\u001B[39m)\n\u001B[0;32m     13\u001B[0m y \u001B[38;5;241m=\u001B[39m np\u001B[38;5;241m.\u001B[39mconvolve(w\u001B[38;5;241m/\u001B[39mw\u001B[38;5;241m.\u001B[39msum(), s, mode\u001B[38;5;241m=\u001B[39m\u001B[38;5;124m'\u001B[39m\u001B[38;5;124mvalid\u001B[39m\u001B[38;5;124m'\u001B[39m)\n",
      "File \u001B[1;32m~\\AppData\\Local\\Programs\\Python\\Python310\\lib\\site-packages\\numpy\\lib\\index_tricks.py:399\u001B[0m, in \u001B[0;36mAxisConcatenator.__getitem__\u001B[1;34m(self, key)\u001B[0m\n\u001B[0;32m    397\u001B[0m     scalartypes\u001B[38;5;241m.\u001B[39mappend(newobj\u001B[38;5;241m.\u001B[39mdtype)\n\u001B[0;32m    398\u001B[0m \u001B[38;5;28;01melse\u001B[39;00m:\n\u001B[1;32m--> 399\u001B[0m     item_ndim \u001B[38;5;241m=\u001B[39m \u001B[43mndim\u001B[49m\u001B[43m(\u001B[49m\u001B[43mitem\u001B[49m\u001B[43m)\u001B[49m\n\u001B[0;32m    400\u001B[0m     newobj \u001B[38;5;241m=\u001B[39m array(item, copy\u001B[38;5;241m=\u001B[39m\u001B[38;5;28;01mFalse\u001B[39;00m, subok\u001B[38;5;241m=\u001B[39m\u001B[38;5;28;01mTrue\u001B[39;00m, ndmin\u001B[38;5;241m=\u001B[39mndmin)\n\u001B[0;32m    401\u001B[0m     \u001B[38;5;28;01mif\u001B[39;00m trans1d \u001B[38;5;241m!=\u001B[39m \u001B[38;5;241m-\u001B[39m\u001B[38;5;241m1\u001B[39m \u001B[38;5;129;01mand\u001B[39;00m item_ndim \u001B[38;5;241m<\u001B[39m ndmin:\n",
      "File \u001B[1;32m<__array_function__ internals>:200\u001B[0m, in \u001B[0;36mndim\u001B[1;34m(*args, **kwargs)\u001B[0m\n",
      "File \u001B[1;32m~\\AppData\\Local\\Programs\\Python\\Python310\\lib\\site-packages\\numpy\\core\\fromnumeric.py:3187\u001B[0m, in \u001B[0;36mndim\u001B[1;34m(a)\u001B[0m\n\u001B[0;32m   3185\u001B[0m     \u001B[38;5;28;01mreturn\u001B[39;00m a\u001B[38;5;241m.\u001B[39mndim\n\u001B[0;32m   3186\u001B[0m \u001B[38;5;28;01mexcept\u001B[39;00m \u001B[38;5;167;01mAttributeError\u001B[39;00m:\n\u001B[1;32m-> 3187\u001B[0m     \u001B[38;5;28;01mreturn\u001B[39;00m \u001B[43masarray\u001B[49m\u001B[43m(\u001B[49m\u001B[43ma\u001B[49m\u001B[43m)\u001B[49m\u001B[38;5;241m.\u001B[39mndim\n",
      "File \u001B[1;32mcupy\\_core\\core.pyx:1475\u001B[0m, in \u001B[0;36mcupy._core.core._ndarray_base.__array__\u001B[1;34m()\u001B[0m\n",
      "\u001B[1;31mTypeError\u001B[0m: Implicit conversion to a NumPy array is not allowed. Please use `.get()` to construct a NumPy array explicitly."
     ]
    }
   ],
   "source": [
    "plot('test_acc', test_acc, test_list)"
   ],
   "metadata": {
    "collapsed": false,
    "ExecuteTime": {
     "end_time": "2023-08-13T13:59:35.552411200Z",
     "start_time": "2023-08-13T13:59:35.494484500Z"
    }
   }
  },
  {
   "cell_type": "code",
   "execution_count": null,
   "outputs": [],
   "source": [
    "plot('test_loss', test_loss, test_list)"
   ],
   "metadata": {
    "collapsed": false,
    "ExecuteTime": {
     "end_time": "2023-08-13T13:59:35.559442100Z",
     "start_time": "2023-08-13T13:59:35.554412500Z"
    }
   }
  },
  {
   "cell_type": "code",
   "execution_count": null,
   "outputs": [],
   "source": [
    "print(total_step)"
   ],
   "metadata": {
    "collapsed": false,
    "ExecuteTime": {
     "start_time": "2023-08-13T13:59:35.556412500Z"
    }
   }
  },
  {
   "cell_type": "code",
   "execution_count": null,
   "outputs": [],
   "source": [
    "# plt.subplot(1,2,1)\n",
    "#\n",
    "# plt.plot( smooth_curve(train_acc['My']), markevery=50, label='My')\n",
    "# plt.xlabel(\"iterations\")\n",
    "# plt.ylabel('train_acc')\n",
    "# plt.legend()\n",
    "#\n",
    "# plt.subplot(1,2,2)\n",
    "# plt.plot( smooth_curve(train_acc['Text']), markevery=50, label='Text')\n",
    "# plt.legend()\n",
    "# plt.show()"
   ],
   "metadata": {
    "collapsed": false,
    "ExecuteTime": {
     "start_time": "2023-08-13T13:59:35.557411900Z"
    }
   }
  }
 ],
 "metadata": {
  "kernelspec": {
   "display_name": "Python 3",
   "language": "python",
   "name": "python3"
  },
  "language_info": {
   "codemirror_mode": {
    "name": "ipython",
    "version": 2
   },
   "file_extension": ".py",
   "mimetype": "text/x-python",
   "name": "python",
   "nbconvert_exporter": "python",
   "pygments_lexer": "ipython2",
   "version": "2.7.6"
  }
 },
 "nbformat": 4,
 "nbformat_minor": 0
}

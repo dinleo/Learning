{
 "cells": [
  {
   "cell_type": "markdown",
   "source": [],
   "metadata": {
    "collapsed": false
   }
  },
  {
   "cell_type": "code",
   "execution_count": 1,
   "metadata": {
    "collapsed": true,
    "ExecuteTime": {
     "end_time": "2023-08-08T17:33:50.858564600Z",
     "start_time": "2023-08-08T17:33:49.928888800Z"
    }
   },
   "outputs": [],
   "source": [
    "import sys\n",
    "import os\n",
    "sys.path.append('C:/Users/dinle/Code/Learning/Py_Code/AI_Learning/mnist')\n",
    "sys.path.append('C:/Users/dinle/Code/Learning/Py_Code/AI_Learning/NodeLayer')\n",
    "from NodeLayer.Networks.multi_layer_net_extend import MultiLayerNetExtend as MLE1\n",
    "from NodeLayer.Networks.simple_convnet import SimpleConvNet as CVS1\n",
    "from NodeLayer.Networks.deep_convnet import DeepConvNet as CVD1\n",
    "from mnist.common.multi_layer_net_extend import MultiLayerNetExtend as MLE2\n",
    "from mnist.ch07.simple_convnet import SimpleConvNet as CVS2\n",
    "from mnist.ch08.deep_convnet import DeepConvNet as CVD2\n",
    "import matplotlib.pyplot as plt\n",
    "from mnist.dataset.mnist import load_mnist\n",
    "from mnist.common.util import smooth_curve\n",
    "from mnist.common.optimizer import *\n",
    "import numpy as np\n",
    "import time\n"
   ]
  },
  {
   "cell_type": "code",
   "execution_count": 2,
   "outputs": [],
   "source": [
    "(x_train, t_train), (x_test, t_test) = load_mnist(normalize=True)\n",
    "x_train = x_train[:1000]\n",
    "t_train = t_train[:1000]\n",
    "train_size = x_train.shape[0]\n",
    "test_size = x_test.shape[0]\n",
    "batch_size = 100\n",
    "max_iterations = 200\n",
    "print_iter = 10\n",
    "mi = np.arange(max_iterations)\n",
    "optimizer = AdaGrad()"
   ],
   "metadata": {
    "collapsed": false,
    "ExecuteTime": {
     "end_time": "2023-08-08T17:33:50.978085700Z",
     "start_time": "2023-08-08T17:33:50.859567700Z"
    }
   }
  },
  {
   "cell_type": "code",
   "execution_count": 3,
   "outputs": [],
   "source": [
    "def test(test_list, max_acc=None):\n",
    "    networks = {}\n",
    "    train_acc = {}\n",
    "    train_loss = {}\n",
    "    test_acc = {}\n",
    "    test_loss = {}\n",
    "    optimizer = {}\n",
    "    total_step = {}\n",
    "    time_record = {}\n",
    "\n",
    "    for key in test_list.keys():\n",
    "        # 기록 리스트 생성\n",
    "        train_acc[key] = []\n",
    "        train_loss[key] = []\n",
    "        test_acc[key] = []\n",
    "        test_loss[key] = []\n",
    "        total_step[key] = 0\n",
    "        time_record[key] = 0\n",
    "\n",
    "        # nSigmoid 경우 파라미터\n",
    "        # key == 'nSigmoid_8' -> act = nSigmoid, threshold = 8\n",
    "        model = test_list[key]['model']\n",
    "        opt = test_list[key]['opt']\n",
    "        lr = test_list[key]['lr']\n",
    "\n",
    "\n",
    "        # 네트워크 모델 생성\n",
    "        if model == 'MLE1':\n",
    "            act = test_list[key]['act']\n",
    "            std = test_list[key]['std']\n",
    "            dr = test_list[key]['dr']\n",
    "            bn = test_list[key]['bn']\n",
    "            bp = test_list[key]['bp']\n",
    "            do = False\n",
    "            if dr is not None:\n",
    "                do = True\n",
    "            networks[key] = MLE1(input_size=784, hidden_size_list=[100, 100, 100, 100],\n",
    "                                output_size=10, use_dropout=do, dropout_ration=dr, activation=act, weight_init_std=std, use_batchnorm=bn, batch_pos=bp)\n",
    "        elif model == 'MLE2':\n",
    "            act = test_list[key]['act']\n",
    "            std = test_list[key]['std']\n",
    "            dr = test_list[key]['dr']\n",
    "            bn = test_list[key]['bn']\n",
    "            do = False\n",
    "            if dr is not None:\n",
    "                do = True\n",
    "            networks[key] = MLE2(input_size=784, hidden_size_list=[100, 100, 100, 100],\n",
    "                                 output_size=10, use_dropout=do, dropout_ration=dr, activation=act, weight_init_std=std, use_batchnorm=bn)\n",
    "        elif model == 'CVS1':\n",
    "            networks[key] = CVS1()\n",
    "        elif model == 'CVS2':\n",
    "            networks[key] = CVS2()\n",
    "        elif model == 'CVD1':\n",
    "            networks[key] = CVD1()\n",
    "        elif model == 'CVD2':\n",
    "            networks[key] = CVD2()\n",
    "        else:\n",
    "            assert 'no model' + model\n",
    "\n",
    "        # optimizer 생성\n",
    "        if opt == 'SGD':\n",
    "            optimizer[key] = SGD(lr)\n",
    "        elif opt == 'AdaGrad':\n",
    "            optimizer[key] = AdaGrad(lr)\n",
    "        elif opt == 'Adam':\n",
    "            optimizer[key] = Adam(lr)\n",
    "        else:\n",
    "            assert 'no opt' + opt\n",
    "\n",
    "    # 학습\n",
    "    for i in range(max_iterations):\n",
    "        # if 0 not in total_step.values():\n",
    "        #     print(\"All test list training Done\\nStep: \" + str(i))\n",
    "        #     break\n",
    "\n",
    "        # mini-batch train\n",
    "        batch_mask = np.random.choice(train_size, batch_size)\n",
    "        x_batch = x_train[batch_mask]\n",
    "        t_batch = t_train[batch_mask]\n",
    "\n",
    "        # mini-batch test\n",
    "        batch_mask_t = np.random.choice(test_size, batch_size)\n",
    "        x_batch_t = x_test[batch_mask_t]\n",
    "        t_batch_t = t_test[batch_mask_t]\n",
    "\n",
    "        # print_iter 회마다 경과 출력\n",
    "        if i % print_iter == 0:\n",
    "            print( \"=\"*15 + \"iteration:\" + str(i) + \"=\"*15)\n",
    "            print(\"{:^9}|{:^9}|{:^9}|{:^9}\".format('model','time','acc','loss'))\n",
    "\n",
    "        # 학습 & 추론 & 기록\n",
    "        for key in test_list.keys():\n",
    "            if total_step[key] != 0:\n",
    "                # Max acc 에 도달해 학습이 끝난 test model\n",
    "                continue\n",
    "            else:\n",
    "                start = time.time()\n",
    "                # CV 모델 데이터 처리\n",
    "                if test_list[key]['model'].startswith('CV'):\n",
    "                    x_batch = x_batch.reshape(-1, 1, 28, 28)\n",
    "                    x_batch_t = x_batch_t.reshape(-1, 1, 28, 28)\n",
    "                #\n",
    "                # # 학습(역전파)\n",
    "                # b_strat = time.time()\n",
    "\n",
    "                grads = networks[key].gradient(x_batch, t_batch)\n",
    "                optimizer[key].update(networks[key].params, grads)\n",
    "                # b_end = time.time()\n",
    "                # print(key, \"학습: \", b_end - b_strat)\n",
    "\n",
    "                # 추론(순전파)\n",
    "                if key.endswith(\"1\"):\n",
    "                    # f_strat = time.time()\n",
    "                    tr_acc, tr_loss = networks[key].acc_and_loss(x_batch, t_batch)\n",
    "                    ts_acc, ts_loss = networks[key].acc_and_loss(x_batch_t, t_batch_t)\n",
    "                    f_end = time.time()\n",
    "                    # print(key, \"추론: \", f_end - f_strat)\n",
    "                else:\n",
    "                    # f_strat = time.time()\n",
    "                    if test_list[key]['model'].startswith('CV'):\n",
    "                        tr_acc = networks[key].accuracy(x_batch, t_batch, batch_size)\n",
    "                        ts_acc = networks[key].accuracy(x_batch_t, t_batch_t, batch_size)\n",
    "                    else:\n",
    "                        tr_acc = networks[key].accuracy(x_batch, t_batch)\n",
    "                        ts_acc = networks[key].accuracy(x_batch_t, t_batch_t)\n",
    "                    tr_loss = networks[key].loss(x_batch, t_batch)\n",
    "                    ts_loss = networks[key].loss(x_batch_t, t_batch_t)\n",
    "                    # f_end = time.time()\n",
    "                    # print(key, \"추론: \", f_end - f_strat)\n",
    "\n",
    "                # 기록\n",
    "                train_acc[key].append(tr_acc)\n",
    "                train_loss[key].append(tr_loss)\n",
    "                test_acc[key].append(ts_acc)\n",
    "                test_loss[key].append(ts_loss)\n",
    "                end = time.time()\n",
    "                time_record[key] += (end-start)\n",
    "\n",
    "                # max accuracy 도달 해당 모델 학습 종료\n",
    "                if max_acc and max_acc <= ts_acc:\n",
    "                    total_step[key] = i\n",
    "                    print(key + \" training end!\\nacc : \" + str(ts_acc) + \" step: \" + str(i))\n",
    "\n",
    "                # print_iter 회마다 경과 출력\n",
    "                if i % print_iter == 0:\n",
    "                    print(\"{:^9}| {:0<7.3f} | {:0<.5f} | {:0<.5f}\".format(key, time_record[key],tr_acc,tr_loss))\n",
    "\n",
    "    return train_acc, train_loss, test_acc, test_loss, total_step\n",
    "\n",
    "\n",
    "def plot(label, datas, t_list, *y_lim):\n",
    "    for key in t_list:\n",
    "        plt.plot( smooth_curve(datas[key]), markevery=50, label=key)\n",
    "    plt.xlabel(\"iterations\")\n",
    "    plt.ylabel(label)\n",
    "    if y_lim:\n",
    "        plt.ylim(y_lim)\n",
    "    plt.legend()\n",
    "    plt.show()"
   ],
   "metadata": {
    "collapsed": false,
    "ExecuteTime": {
     "end_time": "2023-08-08T17:33:51.012461700Z",
     "start_time": "2023-08-08T17:33:50.978085700Z"
    }
   }
  },
  {
   "cell_type": "code",
   "execution_count": 4,
   "outputs": [
    {
     "name": "stdout",
     "output_type": "stream",
     "text": [
      "===============iteration:0===============\n",
      "  model  |  time   |   acc   |  loss   \n",
      "0.293_My | 0.01700 | 0.12000 | 13.13709\n",
      "0.293_Text| 0.01300 | 0.13000 | 11.76666\n",
      "0.086_My | 0.01900 | 0.14000 | 2.30415\n",
      "0.086_Text| 0.01200 | 0.08000 | 2.31958\n",
      "===============iteration:10===============\n",
      "  model  |  time   |   acc   |  loss   \n",
      "0.293_My | 0.15200 | 0.49000 | 3.36259\n",
      "0.293_Text| 0.11000 | 0.56000 | 2.77860\n",
      "0.086_My | 0.15300 | 0.13000 | 2.30171\n",
      "0.086_Text| 0.11700 | 0.14000 | 2.31213\n",
      "===============iteration:20===============\n",
      "  model  |  time   |   acc   |  loss   \n",
      "0.293_My | 0.28600 | 0.55000 | 2.27144\n",
      "0.293_Text| 0.20900 | 0.66000 | 2.00447\n",
      "0.086_My | 0.27800 | 0.18000 | 2.27711\n",
      "0.086_Text| 0.23500 | 0.13000 | 2.28960\n",
      "===============iteration:30===============\n",
      "  model  |  time   |   acc   |  loss   \n",
      "0.293_My | 0.41900 | 0.64000 | 1.37779\n",
      "0.293_Text| 0.32000 | 0.76000 | 1.64757\n",
      "0.086_My | 0.41500 | 0.19000 | 2.25191\n",
      "0.086_Text| 0.35400 | 0.20000 | 2.26145\n",
      "===============iteration:40===============\n",
      "  model  |  time   |   acc   |  loss   \n",
      "0.293_My | 0.55400 | 0.74000 | 1.49899\n",
      "0.293_Text| 0.43200 | 0.86000 | 0.53543\n",
      "0.086_My | 0.55000 | 0.10000 | 2.29560\n",
      "0.086_Text| 0.47500 | 0.11000 | 2.28823\n",
      "===============iteration:50===============\n",
      "  model  |  time   |   acc   |  loss   \n",
      "0.293_My | 0.68700 | 0.81000 | 0.77129\n",
      "0.293_Text| 0.53900 | 0.90000 | 0.67608\n",
      "0.086_My | 0.68100 | 0.16000 | 2.25716\n",
      "0.086_Text| 0.59600 | 0.20000 | 2.26507\n",
      "===============iteration:60===============\n",
      "  model  |  time   |   acc   |  loss   \n",
      "0.293_My | 0.82000 | 0.88000 | 0.57586\n",
      "0.293_Text| 0.64400 | 0.95000 | 0.27387\n",
      "0.086_My | 0.81200 | 0.14000 | 2.25305\n",
      "0.086_Text| 0.71300 | 0.18000 | 2.28635\n",
      "===============iteration:70===============\n",
      "  model  |  time   |   acc   |  loss   \n",
      "0.293_My | 0.96400 | 0.87000 | 0.57370\n",
      "0.293_Text| 0.76000 | 0.88000 | 0.50266\n",
      "0.086_My | 0.94700 | 0.15000 | 2.24638\n",
      "0.086_Text| 0.84100 | 0.19000 | 2.25492\n",
      "===============iteration:80===============\n",
      "  model  |  time   |   acc   |  loss   \n",
      "0.293_My | 1.10300 | 0.82000 | 0.77219\n",
      "0.293_Text| 0.86900 | 0.90000 | 0.55600\n",
      "0.086_My | 1.08300 | 0.10000 | 2.26376\n",
      "0.086_Text| 0.96400 | 0.28000 | 2.21662\n",
      "===============iteration:90===============\n",
      "  model  |  time   |   acc   |  loss   \n",
      "0.293_My | 1.23800 | 0.88000 | 0.56299\n",
      "0.293_Text| 0.97300 | 0.96000 | 0.33327\n",
      "0.086_My | 1.21900 | 0.25000 | 2.23469\n",
      "0.086_Text| 1.08400 | 0.14000 | 2.26456\n",
      "===============iteration:100===============\n",
      "  model  |  time   |   acc   |  loss   \n",
      "0.293_My | 1.37300 | 0.86000 | 0.45954\n",
      "0.293_Text| 1.06900 | 0.98000 | 0.19332\n",
      "0.086_My | 1.34500 | 0.19000 | 2.20743\n",
      "0.086_Text| 1.19300 | 0.26000 | 2.20961\n",
      "===============iteration:110===============\n",
      "  model  |  time   |   acc   |  loss   \n",
      "0.293_My | 1.51200 | 0.91000 | 0.51082\n",
      "0.293_Text| 1.17800 | 0.98000 | 0.15395\n",
      "0.086_My | 1.47700 | 0.20000 | 2.21870\n",
      "0.086_Text| 1.30900 | 0.21000 | 2.22303\n",
      "===============iteration:120===============\n",
      "  model  |  time   |   acc   |  loss   \n",
      "0.293_My | 1.64200 | 0.98000 | 0.15808\n",
      "0.293_Text| 1.28000 | 0.97000 | 0.09814\n",
      "0.086_My | 1.60000 | 0.24000 | 2.16440\n",
      "0.086_Text| 1.42000 | 0.23000 | 2.22797\n",
      "===============iteration:130===============\n",
      "  model  |  time   |   acc   |  loss   \n",
      "0.293_My | 1.76700 | 0.88000 | 0.37775\n",
      "0.293_Text| 1.37500 | 1.00000 | 0.05721\n",
      "0.086_My | 1.71900 | 0.09000 | 2.24096\n",
      "0.086_Text| 1.52500 | 0.15000 | 2.23107\n",
      "===============iteration:140===============\n",
      "  model  |  time   |   acc   |  loss   \n",
      "0.293_My | 1.89900 | 0.98000 | 0.21619\n",
      "0.293_Text| 1.47000 | 0.98000 | 0.05963\n",
      "0.086_My | 1.84200 | 0.23000 | 2.18540\n",
      "0.086_Text| 1.63600 | 0.25000 | 2.20057\n",
      "===============iteration:150===============\n",
      "  model  |  time   |   acc   |  loss   \n",
      "0.293_My | 2.02500 | 0.94000 | 0.21661\n",
      "0.293_Text| 1.57000 | 0.98000 | 0.13415\n",
      "0.086_My | 1.96300 | 0.29000 | 2.15111\n",
      "0.086_Text| 1.74500 | 0.24000 | 2.18951\n",
      "===============iteration:160===============\n",
      "  model  |  time   |   acc   |  loss   \n",
      "0.293_My | 2.14800 | 0.98000 | 0.16763\n",
      "0.293_Text| 1.66100 | 1.00000 | 0.04211\n",
      "0.086_My | 2.07900 | 0.25000 | 2.15300\n",
      "0.086_Text| 1.85100 | 0.16000 | 2.20356\n",
      "===============iteration:170===============\n",
      "  model  |  time   |   acc   |  loss   \n",
      "0.293_My | 2.27200 | 0.91000 | 0.34312\n",
      "0.293_Text| 1.75600 | 0.98000 | 0.13466\n",
      "0.086_My | 2.20000 | 0.21000 | 2.16577\n",
      "0.086_Text| 1.96500 | 0.26000 | 2.15607\n",
      "===============iteration:180===============\n",
      "  model  |  time   |   acc   |  loss   \n",
      "0.293_My | 2.39400 | 0.99000 | 0.11079\n",
      "0.293_Text| 1.84700 | 0.98000 | 0.12409\n",
      "0.086_My | 2.31500 | 0.25000 | 2.13506\n",
      "0.086_Text| 2.06300 | 0.16000 | 2.16495\n",
      "===============iteration:190===============\n",
      "  model  |  time   |   acc   |  loss   \n",
      "0.293_My | 2.51900 | 0.96000 | 0.19164\n",
      "0.293_Text| 1.94400 | 1.00000 | 0.04044\n",
      "0.086_My | 2.43800 | 0.19000 | 2.15659\n",
      "0.086_Text| 2.16700 | 0.13000 | 2.18942\n"
     ]
    }
   ],
   "source": [
    "test_list = {\n",
    "             '0.293_My':\n",
    "                 {'model':'MLE1','opt':'SGD','act':'relu','std':0.293,'dr':None,'bn':False,'bp':1,'lr':0.01},\n",
    "             '0.293_Text':\n",
    "                 {'model':'MLE2','opt':'SGD','act':'relu','std':0.293,'dr':None,'bn':False,'bp':1,'lr':0.01},\n",
    "             '0.086_My':\n",
    "                 {'model':'MLE1','opt':'SGD','act':'relu','std':0.086,'dr':None,'bn':False,'bp':1,'lr':0.01},\n",
    "             '0.086_Text':\n",
    "                 {'model':'MLE2','opt':'SGD','act':'relu','std':0.086,'dr':None,'bn':False,'bp':1,'lr':0.01},\n",
    "             # 'DpCV1':\n",
    "             #     {'model':'CVD1','opt':'Adam','act':'relu','std':'he','dr':None,'bn':True,'bp':0,'lr':0.01},\n",
    "             # 'DpCV2':\n",
    "             #     {'model':'CVD2','opt':'Adam','act':'relu','std':'he','dr':None,'bn':True,'bp':0,'lr':0.01},\n",
    "             # 'DpCV11':\n",
    "             #     {'model':'CVD1','opt':'Adam','act':'relu','std':'he','dr':None,'bn':True,'bp':0,'lr':0.01},\n",
    "             # 'DpCV22':\n",
    "             #     {'model':'CVD2','opt':'Adam','act':'relu','std':'he','dr':None,'bn':True,'bp':0,'lr':0.01},\n",
    "            # 'Node_BN2':\n",
    "            #      {'model':'mt1','opt':'AdaGrad','act':'relu','std':'he','dr':None,'bn':True,'bp':2,'lr':0.01},\n",
    "            #   'Text':\n",
    "            #     {'model':'mt2','act':'relu','std':'he','dr':None,'bn':False,'lr':0.01},\n",
    "            # 'Text_BN':\n",
    "            #     {'model':'mt2','act':'relu','std':'he','dr':None,'bn':True,'lr':0.01},\n",
    "             }\n",
    "\n",
    "\n",
    "\n",
    "train_acc, train_loss, test_acc, test_loss, total_step = test(test_list, 0.99)"
   ],
   "metadata": {
    "collapsed": false,
    "ExecuteTime": {
     "end_time": "2023-08-08T17:34:00.601481800Z",
     "start_time": "2023-08-08T17:33:51.008460500Z"
    }
   }
  },
  {
   "cell_type": "code",
   "execution_count": 5,
   "outputs": [
    {
     "data": {
      "text/plain": "<Figure size 432x288 with 1 Axes>",
      "image/png": "[encoded data removed]"
     },
     "metadata": {
      "needs_background": "light"
     },
     "output_type": "display_data"
    }
   ],
   "source": [
    "plot('train_acc', train_acc, test_list)"
   ],
   "metadata": {
    "collapsed": false,
    "ExecuteTime": {
     "end_time": "2023-08-08T17:34:00.796913200Z",
     "start_time": "2023-08-08T17:34:00.604179600Z"
    }
   }
  },
  {
   "cell_type": "code",
   "execution_count": 6,
   "outputs": [
    {
     "data": {
      "text/plain": "<Figure size 432x288 with 1 Axes>",
      "image/png": "[encoded data removed]"
     },
     "metadata": {
      "needs_background": "light"
     },
     "output_type": "display_data"
    }
   ],
   "source": [
    "plot('train_loss', train_loss, test_list)"
   ],
   "metadata": {
    "collapsed": false,
    "ExecuteTime": {
     "end_time": "2023-08-08T17:34:00.917644600Z",
     "start_time": "2023-08-08T17:34:00.799064800Z"
    }
   }
  },
  {
   "cell_type": "code",
   "execution_count": 7,
   "outputs": [
    {
     "name": "stdout",
     "output_type": "stream",
     "text": [
      "{'0.293_My': 0, '0.293_Text': 0, '0.086_My': 0, '0.086_Text': 0}\n"
     ]
    }
   ],
   "source": [
    "print(total_step)"
   ],
   "metadata": {
    "collapsed": false,
    "ExecuteTime": {
     "end_time": "2023-08-08T17:34:00.960641900Z",
     "start_time": "2023-08-08T17:34:00.918643800Z"
    }
   }
  }
 ],
 "metadata": {
  "kernelspec": {
   "display_name": "Python 3",
   "language": "python",
   "name": "python3"
  },
  "language_info": {
   "codemirror_mode": {
    "name": "ipython",
    "version": 2
   },
   "file_extension": ".py",
   "mimetype": "text/x-python",
   "name": "python",
   "nbconvert_exporter": "python",
   "pygments_lexer": "ipython2",
   "version": "2.7.6"
  }
 },
 "nbformat": 4,
 "nbformat_minor": 0
}

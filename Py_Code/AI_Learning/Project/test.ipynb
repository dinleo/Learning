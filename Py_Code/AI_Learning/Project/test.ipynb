{
 "cells": [
  {
   "cell_type": "markdown",
   "metadata": {
    "id": "lZiDV5pVDU5o"
   },
   "source": [
    "### Import Packages\n",
    "- Our test code will rely only on below packages."
   ]
  },
  {
   "cell_type": "code",
   "execution_count": 1,
   "metadata": {
    "id": "ZuFtfpuXDU5p"
   },
   "outputs": [],
   "source": [
    "import os\n",
    "import sys\n",
    "import pickle\n",
    "import numpy as np\n",
    "\n",
    "import torch\n",
    "from torch.utils.data import Dataset, DataLoader\n",
    "\n",
    "import torchvision\n",
    "from torchvision import transforms\n",
    "\n",
    "from PIL import Image\n",
    "\n",
    "from model import MyModel\n",
    "from utils import score, load_checkpoint, reset, count_parameters"
   ]
  },
  {
   "cell_type": "markdown",
   "metadata": {
    "id": "9tuu644pDU5q"
   },
   "source": [
    "### Define data path\n",
    "- Your code should work well with `val.npz` file.\n",
    "- We have our own `test.npz` file for scoring, and it will not be shared to students."
   ]
  },
  {
   "cell_type": "code",
   "execution_count": 2,
   "metadata": {
    "id": "SF3iLPJ3DU5q"
   },
   "outputs": [],
   "source": [
    "data_fp = 'val.npz'\n",
    "device = 'cpu'\n",
    "batch_size = 64"
   ]
  },
  {
   "cell_type": "markdown",
   "metadata": {
    "id": "4onQz4nJDU5q"
   },
   "source": [
    "### Define Test Dataset class"
   ]
  },
  {
   "cell_type": "code",
   "execution_count": null,
   "metadata": {
    "id": "MGKpfOiXDU5r"
   },
   "outputs": [],
   "source": [
    "class TestDataset(Dataset):\n",
    "    def __init__(self, npz_fp, transform=None):\n",
    "        with np.load(npz_fp, allow_pickle=True) as data:\n",
    "            self.data = data[\"data\"]\n",
    "            self.labels = data[\"labels\"]\n",
    "        self.transform = transform\n",
    "\n",
    "    def __len__(self) -> int:\n",
    "        return len(self.data)\n",
    "\n",
    "    def __getitem__(self, idx: int):\n",
    "        img_data = self.data[idx].astype(\"uint8\").reshape((28, 28))\n",
    "        img_label = int(self.labels[idx])\n",
    "\n",
    "        img_data = Image.fromarray(img_data)\n",
    "\n",
    "        if self.transform:\n",
    "            img_data = self.transform(img_data)\n",
    "\n",
    "        return img_data, img_label\n"
   ]
  },
  {
   "cell_type": "markdown",
   "metadata": {
    "id": "BCqG4YjPDU5r"
   },
   "source": [
    "### Define default transform for test\n",
    "- We will use `test_transforms` for testing your code."
   ]
  },
  {
   "cell_type": "code",
   "execution_count": 4,
   "metadata": {
    "colab": {
     "base_uri": "https://localhost:8080/"
    },
    "id": "nMfMurYYDU5r",
    "outputId": "6a5340d8-d517-456c-a098-4a1f6f8a6405"
   },
   "outputs": [
    {
     "output_type": "stream",
     "name": "stderr",
     "text": [
      "/usr/local/lib/python3.10/dist-packages/torch/utils/data/dataloader.py:557: UserWarning: This DataLoader will create 8 worker processes in total. Our suggested max number of worker in current system is 2, which is smaller than what this DataLoader is going to create. Please be aware that excessive worker creation might get DataLoader running slow or even freeze, lower the worker number to avoid potential slowness/freeze if necessary.\n",
      "  warnings.warn(_create_warning_msg(\n"
     ]
    }
   ],
   "source": [
    "test_transforms = transforms.Compose(\n",
    "    [\n",
    "        transforms.ToTensor(),\n",
    "        transforms.Normalize(mean=[0.286], std=[0.353]),\n",
    "    ]\n",
    ")\n",
    "\n",
    "test_dataset = TestDataset(data_fp, transform=test_transforms)\n",
    "test_loader = DataLoader(test_dataset, batch_size=batch_size, shuffle=False)"
   ]
  },
  {
   "cell_type": "markdown",
   "metadata": {
    "id": "baYuAcadDU5r"
   },
   "source": [
    "### Define test function"
   ]
  },
  {
   "cell_type": "code",
   "execution_count": 5,
   "metadata": {
    "id": "ZFVBafkVDU5s"
   },
   "outputs": [],
   "source": [
    "def test(model, sample):\n",
    "    model.eval()\n",
    "\n",
    "    with torch.no_grad():\n",
    "        input, label = sample[0].to(device), sample[1].to(device)\n",
    "        pred = model(input)\n",
    "        num_correct = torch.sum(torch.argmax(pred, dim=-1) == label)\n",
    "\n",
    "    return num_correct.item()"
   ]
  },
  {
   "cell_type": "markdown",
   "metadata": {
    "id": "cAZBEhzIDU5s"
   },
   "source": [
    "### Do the testing and calculate the score"
   ]
  },
  {
   "cell_type": "code",
   "execution_count": 6,
   "metadata": {
    "colab": {
     "base_uri": "https://localhost:8080/"
    },
    "id": "0WS15eYqDU5s",
    "outputId": "1caff8a9-212b-4861-ca90-7bed85b53885"
   },
   "outputs": [
    {
     "output_type": "stream",
     "name": "stdout",
     "text": [
      "Your accuracy: 67.36%\n",
      "Your score: 39.37 out of 100\n"
     ]
    }
   ],
   "source": [
    "reset(0)\n",
    "\n",
    "model = load_checkpoint('./checkpoint.pth', device)\n",
    "\n",
    "num_params = count_parameters(model)\n",
    "if num_params > 1000000:\n",
    "    raise ValueError(\"Cannot have more than 1 million parameters!\")\n",
    "\n",
    "avg_te_correct = 0\n",
    "for sample in test_loader:\n",
    "    te_correct = test(model, sample)\n",
    "    avg_te_correct += te_correct / len(test_dataset)\n",
    "\n",
    "print('Your accuracy: {:.02f}%'.format(avg_te_correct*100))\n",
    "print('Your score: {:.02f} out of 100'.format(score(avg_te_correct*100)))"
   ]
  },
  {
   "cell_type": "code",
   "execution_count": 6,
   "metadata": {
    "id": "uta_VfZ4usPq"
   },
   "outputs": [],
   "source": []
  }
 ],
 "metadata": {
  "accelerator": "GPU",
  "colab": {
   "gpuType": "T4",
   "provenance": []
  },
  "kernelspec": {
   "name": "python3",
   "language": "python",
   "display_name": "Python 3 (ipykernel)"
  },
  "language_info": {
   "codemirror_mode": {
    "name": "ipython",
    "version": 3
   },
   "file_extension": ".py",
   "mimetype": "text/x-python",
   "name": "python",
   "nbconvert_exporter": "python",
   "pygments_lexer": "ipython3",
   "version": "3.9.13"
  },
  "orig_nbformat": 4
 },
 "nbformat": 4,
 "nbformat_minor": 0
}

{
 "cells": [
  {
   "cell_type": "code",
   "execution_count": 2,
   "outputs": [],
   "source": [
    "from common.optimizer import *\n",
    "import numpy as np"
   ],
   "metadata": {
    "collapsed": false,
    "ExecuteTime": {
     "end_time": "2023-07-15T16:22:36.879919800Z",
     "start_time": "2023-07-15T16:22:36.761919700Z"
    }
   }
  },
  {
   "cell_type": "code",
   "execution_count": 3,
   "outputs": [
    {
     "name": "stdout",
     "output_type": "stream",
     "text": [
      "{'x': 0.0, 'y': 1.0}\n"
     ]
    }
   ],
   "source": [
    "params = {'x':1, 'y':2}\n",
    "grad={'x':3, 'y':3}\n",
    "\n",
    "n = SGD(1/3)\n",
    "\n",
    "n.update(params,grad)\n",
    "print(params)"
   ],
   "metadata": {
    "collapsed": false,
    "ExecuteTime": {
     "end_time": "2023-07-15T16:22:36.900955200Z",
     "start_time": "2023-07-15T16:22:36.882924300Z"
    }
   }
  },
  {
   "cell_type": "code",
   "execution_count": 4,
   "outputs": [
    {
     "name": "stdout",
     "output_type": "stream",
     "text": [
      "{'x': -0.0813, 'y': 0.9187000000000001}\n"
     ]
    }
   ],
   "source": [
    "n2 = Nesterov()\n",
    "\n",
    "n2.update(params,grad)\n",
    "print(params)\n",
    "\n"
   ],
   "metadata": {
    "collapsed": false,
    "ExecuteTime": {
     "end_time": "2023-07-15T16:22:36.970699700Z",
     "start_time": "2023-07-15T16:22:36.897947100Z"
    }
   }
  },
  {
   "cell_type": "code",
   "execution_count": 5,
   "outputs": [
    {
     "name": "stdout",
     "output_type": "stream",
     "text": [
      "{'x': -0.09129999966666667, 'y': 0.9087000003333334}\n"
     ]
    }
   ],
   "source": [
    "n3 = AdaGrad()\n",
    "\n",
    "n3.update(params, grad)\n",
    "print(params)"
   ],
   "metadata": {
    "collapsed": false,
    "ExecuteTime": {
     "end_time": "2023-07-15T16:22:36.971707100Z",
     "start_time": "2023-07-15T16:22:36.912471200Z"
    }
   }
  },
  {
   "cell_type": "code",
   "execution_count": 6,
   "outputs": [
    {
     "name": "stdout",
     "output_type": "stream",
     "text": [
      "{'x': -0.09229999861257523, 'y': 0.9077000013874249}\n"
     ]
    }
   ],
   "source": [
    "n4 = Adam()\n",
    "\n",
    "n4.update(params,grad)\n",
    "print(params)"
   ],
   "metadata": {
    "collapsed": false,
    "ExecuteTime": {
     "end_time": "2023-07-15T16:22:36.984082200Z",
     "start_time": "2023-07-15T16:22:36.930090200Z"
    }
   }
  },
  {
   "cell_type": "code",
   "execution_count": 6,
   "outputs": [],
   "source": [],
   "metadata": {
    "collapsed": false,
    "ExecuteTime": {
     "end_time": "2023-07-15T16:22:36.984082200Z",
     "start_time": "2023-07-15T16:22:36.942614200Z"
    }
   }
  }
 ],
 "metadata": {
  "kernelspec": {
   "display_name": "Python 3",
   "language": "python",
   "name": "python3"
  },
  "language_info": {
   "codemirror_mode": {
    "name": "ipython",
    "version": 2
   },
   "file_extension": ".py",
   "mimetype": "text/x-python",
   "name": "python",
   "nbconvert_exporter": "python",
   "pygments_lexer": "ipython2",
   "version": "2.7.6"
  }
 },
 "nbformat": 4,
 "nbformat_minor": 0
}

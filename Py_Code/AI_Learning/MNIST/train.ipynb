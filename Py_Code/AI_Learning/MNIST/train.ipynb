{
 "cells": [
  {
   "cell_type": "code",
   "execution_count": 9,
   "metadata": {
    "collapsed": true,
    "ExecuteTime": {
     "end_time": "2023-07-10T11:03:01.789246100Z",
     "start_time": "2023-07-10T11:03:01.777469100Z"
    }
   },
   "outputs": [],
   "source": [
    "# 수치미분\n",
    "import numpy as np\n",
    "from funcs.twoL import TwoLayerNet"
   ]
  },
  {
   "cell_type": "code",
   "execution_count": 11,
   "outputs": [
    {
     "data": {
      "text/plain": "array([0.10214421, 0.09676725, 0.09561593, 0.1004164 , 0.10221298,\n       0.09436942, 0.0923663 , 0.10046445, 0.10265828, 0.11298477])"
     },
     "execution_count": 11,
     "metadata": {},
     "output_type": "execute_result"
    }
   ],
   "source": [
    "net1 = TwoLayerNet(3, 3, 3)\n",
    "net_m = TwoLayerNet(784, 50, 10)\n",
    "\n",
    "net_m.predict(np.arange(784))"
   ],
   "metadata": {
    "collapsed": false,
    "ExecuteTime": {
     "end_time": "2023-07-10T11:05:10.566569800Z",
     "start_time": "2023-07-10T11:05:10.540480900Z"
    }
   }
  },
  {
   "cell_type": "code",
   "execution_count": 14,
   "outputs": [],
   "source": [
    "from data.mnist import load_mnist\n",
    "from matplotlib import pyplot as plt"
   ],
   "metadata": {
    "collapsed": false,
    "ExecuteTime": {
     "end_time": "2023-07-10T11:20:07.686926Z",
     "start_time": "2023-07-10T11:20:07.672472800Z"
    }
   }
  },
  {
   "cell_type": "code",
   "execution_count": 15,
   "outputs": [],
   "source": [
    "(x_train, t_train), (x_test, t_test) = load_mnist(normalize=True, one_hot_label=True)\n",
    "\n",
    "network = TwoLayerNet(input_size=784, hidden_size=50, output_size=10)\n",
    "# 하이퍼파라미터\n",
    "iters_num = 10000  # 반복 횟수를 적절히 설정한다.\n",
    "train_size = x_train.shape[0]\n",
    "batch_size = 100   # 미니배치 크기\n",
    "learning_rate = 0.1\n",
    "\n",
    "train_loss_list = []\n",
    "train_acc_list = []\n",
    "test_acc_list = []"
   ],
   "metadata": {
    "collapsed": false,
    "ExecuteTime": {
     "end_time": "2023-07-10T11:20:09.856201800Z",
     "start_time": "2023-07-10T11:20:09.689331200Z"
    }
   }
  },
  {
   "cell_type": "code",
   "execution_count": 16,
   "outputs": [
    {
     "name": "stdout",
     "output_type": "stream",
     "text": [
      "[0]train acc, test acc | 0.09915, 0.1009\n",
      "[600]train acc, test acc | 0.7883833333333333, 0.7955\n",
      "[1200]train acc, test acc | 0.8742333333333333, 0.8772\n",
      "[1800]train acc, test acc | 0.8983166666666667, 0.9009\n",
      "[2400]train acc, test acc | 0.90715, 0.9108\n",
      "[3000]train acc, test acc | 0.9143666666666667, 0.9162\n",
      "[3600]train acc, test acc | 0.9192166666666667, 0.9212\n",
      "[4200]train acc, test acc | 0.9237166666666666, 0.9265\n",
      "[4800]train acc, test acc | 0.9270333333333334, 0.9286\n",
      "[5400]train acc, test acc | 0.9302833333333334, 0.9322\n",
      "[6000]train acc, test acc | 0.9333833333333333, 0.9354\n",
      "[6600]train acc, test acc | 0.9355166666666667, 0.9362\n",
      "[7200]train acc, test acc | 0.9377166666666666, 0.9369\n",
      "[7800]train acc, test acc | 0.9401333333333334, 0.9408\n",
      "[8400]train acc, test acc | 0.9419166666666666, 0.9405\n",
      "[9000]train acc, test acc | 0.9442666666666667, 0.9425\n",
      "[9600]train acc, test acc | 0.9453333333333334, 0.9444\n"
     ]
    }
   ],
   "source": [
    "iter_per_epoch = max(train_size / batch_size, 1)\n",
    "\n",
    "for i in range(iters_num):\n",
    "    # 미니배치 획득\n",
    "    batch_mask = np.random.choice(train_size, batch_size)\n",
    "    x_batch = x_train[batch_mask]\n",
    "    t_batch = t_train[batch_mask]\n",
    "\n",
    "    # 기울기 계산\n",
    "    #grad = network.numerical_gradient(x_batch, t_batch)\n",
    "    grad = network.gradient(x_batch, t_batch)\n",
    "\n",
    "    # 매개변수 갱신\n",
    "    for key in ('W1', 'b1', 'W2', 'b2'):\n",
    "        network.params[key] -= learning_rate * grad[key]\n",
    "\n",
    "    # 학습 경과 기록\n",
    "    loss = network.loss(x_batch, t_batch)\n",
    "    train_loss_list.append(loss)\n",
    "\n",
    "    # 1에폭당 정확도 계산\n",
    "    if i % iter_per_epoch == 0:\n",
    "        train_acc = network.accuracy(x_train, t_train)\n",
    "        test_acc = network.accuracy(x_test, t_test)\n",
    "        train_acc_list.append(train_acc)\n",
    "        test_acc_list.append(test_acc)\n",
    "        print(\"[{0}]train acc, test acc | \".format(i) + str(train_acc) + \", \" + str(test_acc))"
   ],
   "metadata": {
    "collapsed": false,
    "ExecuteTime": {
     "end_time": "2023-07-10T11:22:53.359182900Z",
     "start_time": "2023-07-10T11:22:27.616244700Z"
    }
   }
  },
  {
   "cell_type": "code",
   "execution_count": 17,
   "outputs": [
    {
     "data": {
      "text/plain": "<Figure size 432x288 with 1 Axes>",
      "image/png": "[encoded data removed]"
     },
     "metadata": {
      "needs_background": "light"
     },
     "output_type": "display_data"
    }
   ],
   "source": [
    "# 그래프 그리기\n",
    "markers = {'train': 'o', 'test': 's'}\n",
    "x = np.arange(len(train_acc_list))\n",
    "plt.plot(x, train_acc_list, label='train acc')\n",
    "plt.plot(x, test_acc_list, label='test acc', linestyle='--')\n",
    "plt.xlabel(\"epochs\")\n",
    "plt.ylabel(\"accuracy\")\n",
    "plt.ylim(0, 1.0)\n",
    "plt.legend(loc='lower right')\n",
    "plt.show()"
   ],
   "metadata": {
    "collapsed": false,
    "ExecuteTime": {
     "end_time": "2023-07-10T11:22:59.574051400Z",
     "start_time": "2023-07-10T11:22:59.431552Z"
    }
   }
  },
  {
   "cell_type": "code",
   "execution_count": 20,
   "outputs": [
    {
     "name": "stdout",
     "output_type": "stream",
     "text": [
      "[[[ 0  1]\n",
      "  [ 2  3]]\n",
      "\n",
      " [[ 4  5]\n",
      "  [ 6  7]]\n",
      "\n",
      " [[ 8  9]\n",
      "  [10 11]]]\n"
     ]
    }
   ],
   "source": [
    "x = np.arange(12).reshape(3,2,2)\n",
    "print(x)"
   ],
   "metadata": {
    "collapsed": false,
    "ExecuteTime": {
     "end_time": "2023-07-10T14:10:38.372635200Z",
     "start_time": "2023-07-10T14:10:38.357594400Z"
    }
   }
  },
  {
   "cell_type": "code",
   "execution_count": 24,
   "outputs": [
    {
     "name": "stdout",
     "output_type": "stream",
     "text": [
      "[[ 1  5]\n",
      " [ 9 13]\n",
      " [17 21]]\n"
     ]
    }
   ],
   "source": [
    "print(x.sum(axis=2))"
   ],
   "metadata": {
    "collapsed": false,
    "ExecuteTime": {
     "end_time": "2023-07-10T14:13:15.143341200Z",
     "start_time": "2023-07-10T14:13:15.123297100Z"
    }
   }
  },
  {
   "cell_type": "code",
   "execution_count": 5,
   "outputs": [],
   "source": [
    "# 역전파\n",
    "\n",
    "from funcs.twoL import TwoLayerNet\n",
    "from data.mnist import load_mnist\n",
    "import numpy as np\n",
    "from matplotlib import pyplot as plt"
   ],
   "metadata": {
    "collapsed": false,
    "ExecuteTime": {
     "end_time": "2023-07-11T11:11:18.850165400Z",
     "start_time": "2023-07-11T11:11:18.835157800Z"
    }
   }
  },
  {
   "cell_type": "code",
   "execution_count": 8,
   "outputs": [],
   "source": [
    "(x_train, t_train), (x_test, t_test) = load_mnist(normalize=True, one_hot_label=True)\n",
    "\n",
    "network = TwoLayerNet(input_size=784, hidden_size=50, output_size=10)\n",
    "# 하이퍼파라미터\n",
    "iters_num = 10000  # 반복 횟수를 적절히 설정한다.\n",
    "train_size = x_train.shape[0]\n",
    "batch_size = 100   # 미니배치 크기\n",
    "learning_rate = 0.1\n",
    "iter_per_epoch = max(train_size / batch_size, 1)\n",
    "\n",
    "train_loss_list = []\n",
    "train_acc_list = []\n",
    "test_acc_list = []"
   ],
   "metadata": {
    "collapsed": false,
    "ExecuteTime": {
     "end_time": "2023-07-11T12:00:31.745462900Z",
     "start_time": "2023-07-11T12:00:31.568280500Z"
    }
   }
  },
  {
   "cell_type": "code",
   "execution_count": 9,
   "outputs": [
    {
     "name": "stdout",
     "output_type": "stream",
     "text": [
      "[0]train acc, test acc | 0.13098333333333334, 0.1333\n",
      "[600]train acc, test acc | 0.9072833333333333, 0.9104\n",
      "[1200]train acc, test acc | 0.9269666666666667, 0.9302\n",
      "[1800]train acc, test acc | 0.9351, 0.9355\n",
      "[2400]train acc, test acc | 0.9460166666666666, 0.9459\n",
      "[3000]train acc, test acc | 0.9516, 0.949\n",
      "[3600]train acc, test acc | 0.95585, 0.9535\n",
      "[4200]train acc, test acc | 0.9612666666666667, 0.9583\n",
      "[4800]train acc, test acc | 0.96275, 0.9601\n",
      "[5400]train acc, test acc | 0.9642, 0.96\n",
      "[6000]train acc, test acc | 0.96955, 0.965\n",
      "[6600]train acc, test acc | 0.9716, 0.9666\n",
      "[7200]train acc, test acc | 0.9707833333333333, 0.966\n",
      "[7800]train acc, test acc | 0.9759666666666666, 0.9703\n",
      "[8400]train acc, test acc | 0.9763666666666667, 0.9695\n",
      "[9000]train acc, test acc | 0.9779833333333333, 0.9706\n",
      "[9600]train acc, test acc | 0.9795166666666667, 0.971\n"
     ]
    }
   ],
   "source": [
    "for i in range(iters_num):\n",
    "    # 미니배치 획득\n",
    "    batch_mask = np.random.choice(train_size, batch_size)\n",
    "    x_batch = x_train[batch_mask]\n",
    "    t_batch = t_train[batch_mask]\n",
    "\n",
    "    # 기울기 계산\n",
    "    #grad = network.numerical_gradient(x_batch, t_batch)\n",
    "    grad = network.gradient(x_batch, t_batch)\n",
    "\n",
    "    # 매개변수 갱신\n",
    "    for key in ('W1', 'b1', 'W2', 'b2'):\n",
    "        network.params[key] -= learning_rate * grad[key]\n",
    "\n",
    "    # 학습 경과 기록\n",
    "    loss = network.loss(x_batch, t_batch)\n",
    "    train_loss_list.append(loss)\n",
    "\n",
    "    # 1에폭당 정확도 계산\n",
    "    if i % iter_per_epoch == 0:\n",
    "        train_acc = network.accuracy(x_train, t_train)\n",
    "        test_acc = network.accuracy(x_test, t_test)\n",
    "        train_acc_list.append(train_acc)\n",
    "        test_acc_list.append(test_acc)\n",
    "        print(\"[{0}]train acc, test acc | \".format(i) + str(train_acc) + \", \" + str(test_acc))"
   ],
   "metadata": {
    "collapsed": false,
    "ExecuteTime": {
     "end_time": "2023-07-11T12:00:57.995143600Z",
     "start_time": "2023-07-11T12:00:32.033938200Z"
    }
   }
  },
  {
   "cell_type": "code",
   "execution_count": 12,
   "outputs": [],
   "source": [
    "import pickle\n",
    "\n",
    "with open('.\\\\result\\\\newModel.pkl', 'wb') as f:\n",
    "    pickle.dump(network.params, f)"
   ],
   "metadata": {
    "collapsed": false,
    "ExecuteTime": {
     "end_time": "2023-07-11T12:09:24.959470Z",
     "start_time": "2023-07-11T12:09:24.944438900Z"
    }
   }
  },
  {
   "cell_type": "code",
   "execution_count": null,
   "outputs": [],
   "source": [],
   "metadata": {
    "collapsed": false
   }
  }
 ],
 "metadata": {
  "kernelspec": {
   "display_name": "Python 3",
   "language": "python",
   "name": "python3"
  },
  "language_info": {
   "codemirror_mode": {
    "name": "ipython",
    "version": 2
   },
   "file_extension": ".py",
   "mimetype": "text/x-python",
   "name": "python",
   "nbconvert_exporter": "python",
   "pygments_lexer": "ipython2",
   "version": "2.7.6"
  }
 },
 "nbformat": 4,
 "nbformat_minor": 0
}

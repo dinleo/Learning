{
 "cells": [
  {
   "cell_type": "code",
   "execution_count": 7,
   "metadata": {
    "collapsed": true,
    "ExecuteTime": {
     "end_time": "2023-07-10T09:30:12.133915200Z",
     "start_time": "2023-07-10T09:30:12.118912300Z"
    }
   },
   "outputs": [],
   "source": [
    "import sys, os\n",
    "\n",
    "import matplotlib.pyplot as plt\n",
    "\n",
    "import torch\n",
    "from data.mnist import load_mnist\n",
    "import pickle\n",
    "import torch.nn.functional as F\n",
    "import numpy as np\n",
    "\n",
    "def get_data():\n",
    "    (x_train, y_train), (x_test, y_test) = load_mnist(normalize=True, flatten=True)\n",
    "    return x_train, y_train"
   ]
  },
  {
   "cell_type": "code",
   "execution_count": 8,
   "outputs": [],
   "source": [
    "def init_network():\n",
    "    with open(\"C:\\\\Users\\\\dinle\\\\Code\\\\AI\\\\Learning\\\\MNIST\\\\data\\\\sample_weight.pkl\", \"rb\") as f:\n",
    "        network = pickle.load(f)\n",
    "    return network\n",
    "\n",
    "def predict(network, x):\n",
    "    x = torch.from_numpy(x)\n",
    "    size = len(x)\n",
    "    W1, W2, W3 = torch.from_numpy(network['W1']), torch.from_numpy(network['W2']), torch.from_numpy(network['W3'])\n",
    "    b1, b2, b3 = torch.from_numpy(network['b1']), torch.from_numpy(network['b2']), torch.from_numpy(network['b3'])\n",
    "\n",
    "    a1 = torch.mm(x, W1) + b1\n",
    "\n",
    "    z1 = F.sigmoid(a1)\n",
    "    a2 = torch.mm(z1, W2) + b2\n",
    "    z2 = F.sigmoid(a2)\n",
    "    a3 = torch.mm(z2, W3) + b3\n",
    "    y = F.softmax(a3)\n",
    "\n",
    "    return y"
   ],
   "metadata": {
    "collapsed": false,
    "ExecuteTime": {
     "end_time": "2023-07-10T09:30:12.597916200Z",
     "start_time": "2023-07-10T09:30:12.573914700Z"
    }
   }
  },
  {
   "cell_type": "code",
   "execution_count": 9,
   "outputs": [],
   "source": [
    "x, t = get_data()\n",
    "network = init_network()\n",
    "accuracy_cnt = 0\n",
    "batch_size = 100"
   ],
   "metadata": {
    "collapsed": false,
    "ExecuteTime": {
     "end_time": "2023-07-10T09:30:13.249958700Z",
     "start_time": "2023-07-10T09:30:13.099916100Z"
    }
   }
  },
  {
   "cell_type": "code",
   "execution_count": 10,
   "outputs": [
    {
     "name": "stderr",
     "output_type": "stream",
     "text": [
      "C:\\Users\\dinle\\AppData\\Local\\Temp\\ipykernel_27688\\719382583.py:18: UserWarning: Implicit dimension choice for softmax has been deprecated. Change the call to include dim=X as an argument.\n",
      "  y = F.softmax(a3)\n"
     ]
    },
    {
     "name": "stdout",
     "output_type": "stream",
     "text": [
      "0.9357666666666666\n"
     ]
    }
   ],
   "source": [
    "for i in range(0, len(x), batch_size):\n",
    "    x_b = x[i:i+batch_size]\n",
    "    y_b = predict(network, x_b)\n",
    "    p = np.argmax(y_b, axis=1).numpy()\n",
    "    accuracy_cnt += np.sum(p == t[i:i+batch_size])\n",
    "print(str(float(accuracy_cnt)/ len(x)))"
   ],
   "metadata": {
    "collapsed": false,
    "ExecuteTime": {
     "end_time": "2023-07-10T09:30:14.215363500Z",
     "start_time": "2023-07-10T09:30:13.857364400Z"
    }
   }
  },
  {
   "cell_type": "code",
   "execution_count": 11,
   "outputs": [
    {
     "name": "stdout",
     "output_type": "stream",
     "text": [
      "[-0.03458765  0.04611686] [[-3.          4.        ]\n",
      " [-2.4         3.2       ]\n",
      " [-1.92        2.56      ]\n",
      " [-1.536       2.048     ]\n",
      " [-1.2288      1.6384    ]\n",
      " [-0.98304     1.31072   ]\n",
      " [-0.786432    1.048576  ]\n",
      " [-0.6291456   0.8388608 ]\n",
      " [-0.50331648  0.67108864]\n",
      " [-0.40265318  0.53687091]\n",
      " [-0.32212255  0.42949673]\n",
      " [-0.25769804  0.34359738]\n",
      " [-0.20615843  0.27487791]\n",
      " [-0.16492674  0.21990233]\n",
      " [-0.1319414   0.17592186]\n",
      " [-0.10555312  0.14073749]\n",
      " [-0.08444249  0.11258999]\n",
      " [-0.06755399  0.09007199]\n",
      " [-0.0540432   0.07205759]\n",
      " [-0.04323456  0.05764608]]\n"
     ]
    }
   ],
   "source": [
    "from funcs.gradient_2d import gradient_descent\n",
    "\n",
    "i_x = np.array([-3.0, 4.0])\n",
    "lr = 0.1\n",
    "step_num = 20\n",
    "x_g, x_his = gradient_descent(lambda x: x[0] ** 2 + x[1] ** 2, i_x, lr=lr, step_num=step_num)\n",
    "\n",
    "print(x_g, x_his)"
   ],
   "metadata": {
    "collapsed": false,
    "ExecuteTime": {
     "end_time": "2023-07-10T09:30:14.971050200Z",
     "start_time": "2023-07-10T09:30:14.963050900Z"
    }
   }
  },
  {
   "cell_type": "code",
   "execution_count": 12,
   "outputs": [
    {
     "data": {
      "text/plain": "<Figure size 432x288 with 1 Axes>",
      "image/png": "[encoded data removed]"
     },
     "metadata": {
      "needs_background": "light"
     },
     "output_type": "display_data"
    }
   ],
   "source": [
    "plt.plot ( [-5,5], [0,0], '--b' )\n",
    "plt.plot( [0,0], [-5,5],'--b')\n",
    "plt.plot(x_his[:,0], x_his[:, 1], 'o')\n",
    "\n",
    "plt.xlim(-3.5, 3.5)\n",
    "plt.ylim(-4.5, 4.5)\n",
    "plt.xlabel (\"X0\" )\n",
    "plt.ylabel (\"Xl\" )\n",
    "plt.show ()"
   ],
   "metadata": {
    "collapsed": false
   }
  },
  {
   "cell_type": "code",
   "execution_count": null,
   "outputs": [],
   "source": [],
   "metadata": {
    "collapsed": false
   }
  }
 ],
 "metadata": {
  "kernelspec": {
   "display_name": "Python 3",
   "language": "python",
   "name": "python3"
  },
  "language_info": {
   "codemirror_mode": {
    "name": "ipython",
    "version": 2
   },
   "file_extension": ".py",
   "mimetype": "text/x-python",
   "name": "python",
   "nbconvert_exporter": "python",
   "pygments_lexer": "ipython2",
   "version": "2.7.6"
  }
 },
 "nbformat": 4,
 "nbformat_minor": 0
}
